{
 "cells": [
  {
   "cell_type": "markdown",
   "metadata": {},
   "source": [
    "## Count opinion, first-person, analysis\n",
    "\n",
    "For project analyzing the evaluative content of quotes vs. non-quotes.\n",
    "\n",
    "This notebook reads in the full CBC csv (in \"hardnews\") and counts the number of:\n",
    "\n",
    "* `/first-person`\n",
    "* `-first-person-`\n",
    "* `/analysis-`\n",
    "* `-analysis-`\n",
    "* `/opinion`\n",
    "\n",
    "Recall that there were already 10 articles that were parsed as opinion by the GGT. Add that number to the count of opinion from here.\n",
    "\n",
    "A companion ot this notebook is \"extract_opinion.ipynb\", which I used month by month for filtering. All of this can probably be merged. At some point."
   ]
  },
  {
   "cell_type": "code",
   "execution_count": 1,
   "metadata": {
    "collapsed": true
   },
   "outputs": [],
   "source": [
    "import pandas as pd\n",
    "import numpy as np\n",
    "import json\n",
    "from pandas import json_normalize\n",
    "import ast\n",
    "from ast import literal_eval\n",
    "import os\n",
    "import glob"
   ]
  },
  {
   "cell_type": "code",
   "execution_count": 2,
   "metadata": {
    "collapsed": true
   },
   "outputs": [],
   "source": [
    "os.chdir(r'C:\\Maite\\MOD\\projects\\Monika_Bednarek\\Evaluation_quotes\\Data\\CBC_input\\with_fp_analysis_opinion')"
   ]
  },
  {
   "cell_type": "markdown",
   "metadata": {},
   "source": [
    "## Read original csv"
   ]
  },
  {
   "cell_type": "code",
   "execution_count": 3,
   "metadata": {
    "collapsed": true
   },
   "outputs": [],
   "source": [
    "df = pd.read_csv('CBC_hardnews_all_2023.csv', encoding = 'utf8')"
   ]
  },
  {
   "cell_type": "code",
   "execution_count": 4,
   "metadata": {
    "collapsed": true
   },
   "outputs": [
    {
     "data": {
      "text/html": [
       "<div>\n",
       "<style scoped>\n",
       "    .dataframe tbody tr th:only-of-type {\n",
       "        vertical-align: middle;\n",
       "    }\n",
       "\n",
       "    .dataframe tbody tr th {\n",
       "        vertical-align: top;\n",
       "    }\n",
       "\n",
       "    .dataframe thead th {\n",
       "        text-align: right;\n",
       "    }\n",
       "</style>\n",
       "<table border=\"1\" class=\"dataframe\">\n",
       "  <thead>\n",
       "    <tr style=\"text-align: right;\">\n",
       "      <th></th>\n",
       "      <th>_id</th>\n",
       "      <th>url</th>\n",
       "      <th>body</th>\n",
       "      <th>title</th>\n",
       "    </tr>\n",
       "  </thead>\n",
       "  <tbody>\n",
       "    <tr>\n",
       "      <th>0</th>\n",
       "      <td>63b0d066f642cd4562ec7be5</td>\n",
       "      <td>https://www.cbc.ca/sports/hockey/nhl/montreal-...</td>\n",
       "      <td>Alex Ovechkin recorded his 30th career hat tri...</td>\n",
       "      <td>Capitals' offence explodes for 9 goals to send...</td>\n",
       "    </tr>\n",
       "    <tr>\n",
       "      <th>1</th>\n",
       "      <td>63b0d065f642cd4562ec7bd0</td>\n",
       "      <td>https://www.cbc.ca/news/world/north-korea-incr...</td>\n",
       "      <td>North Korean leader Kim Jong-un vowed to incre...</td>\n",
       "      <td>Kim Jong-un vows to 'exponentially' increase N...</td>\n",
       "    </tr>\n",
       "    <tr>\n",
       "      <th>2</th>\n",
       "      <td>63b0eb8bf642cd4562ed022d</td>\n",
       "      <td>https://www.cbc.ca/news/canada/british-columbi...</td>\n",
       "      <td>Starting Monday Translink will modify 45 bus r...</td>\n",
       "      <td>Translink is changing service on 45 bus routes...</td>\n",
       "    </tr>\n",
       "    <tr>\n",
       "      <th>3</th>\n",
       "      <td>63b0f31df642cd4562ed34cc</td>\n",
       "      <td>https://www.cbc.ca/sports/hockey/canada-sweden...</td>\n",
       "      <td>Connor Bedard had four assists to tie Eric Lin...</td>\n",
       "      <td>Canada tops Sweden at men's world juniors to s...</td>\n",
       "    </tr>\n",
       "    <tr>\n",
       "      <th>4</th>\n",
       "      <td>63b0faa9f642cd4562ed62b4</td>\n",
       "      <td>https://www.cbc.ca/sports/hockey/nhl/ottawa-se...</td>\n",
       "      <td>Lucas Raymond had a goal and an assist, and th...</td>\n",
       "      <td>Red Wings score 4 unanswered goals to rally pa...</td>\n",
       "    </tr>\n",
       "    <tr>\n",
       "      <th>...</th>\n",
       "      <td>...</td>\n",
       "      <td>...</td>\n",
       "      <td>...</td>\n",
       "      <td>...</td>\n",
       "    </tr>\n",
       "    <tr>\n",
       "      <th>52756</th>\n",
       "      <td>6591e7ed58b434ef00c2bf9c</td>\n",
       "      <td>https://www.cbc.ca/news/world/israel-siblings-...</td>\n",
       "      <td>Israeli Maya Regev lay badly wounded in a nond...</td>\n",
       "      <td>Israeli siblings freed from Hamas describe pas...</td>\n",
       "    </tr>\n",
       "    <tr>\n",
       "      <th>52757</th>\n",
       "      <td>6591e87458b434ef00c2c26f</td>\n",
       "      <td>https://www.cbc.ca/sports/football/nfl/philade...</td>\n",
       "      <td>James Conner ran for a two-yard touchdown with...</td>\n",
       "      <td>Canadian rookie Sydney Brown returns intercept...</td>\n",
       "    </tr>\n",
       "    <tr>\n",
       "      <th>52758</th>\n",
       "      <td>6591f60658b434ef00c3239c</td>\n",
       "      <td>http://www.cbc.ca/news/world/israel-hamas-war-...</td>\n",
       "      <td>Israeli strikes in central Gaza killed at leas...</td>\n",
       "      <td>Israeli strikes in central Gaza kill at least ...</td>\n",
       "    </tr>\n",
       "    <tr>\n",
       "      <th>52759</th>\n",
       "      <td>6591f6b158b434ef00c32999</td>\n",
       "      <td>https://www.cbc.ca/news/canada/manitoba/jets-m...</td>\n",
       "      <td>Rutger McGroarty was desperate to play for his...</td>\n",
       "      <td>Jets prospect McGroarty savouring 2nd world ju...</td>\n",
       "    </tr>\n",
       "    <tr>\n",
       "      <th>52760</th>\n",
       "      <td>6591fc6858b434ef00c34b11</td>\n",
       "      <td>https://www.cbc.ca/news/canada/manitoba/jets-w...</td>\n",
       "      <td>Dominic Toninato scored the tie-breaking goal ...</td>\n",
       "      <td>Jets spoil Wild goaltender Fleury's 1,000th NH...</td>\n",
       "    </tr>\n",
       "  </tbody>\n",
       "</table>\n",
       "<p>52761 rows × 4 columns</p>\n",
       "</div>"
      ],
      "text/plain": [
       "                            _id  \\\n",
       "0      63b0d066f642cd4562ec7be5   \n",
       "1      63b0d065f642cd4562ec7bd0   \n",
       "2      63b0eb8bf642cd4562ed022d   \n",
       "3      63b0f31df642cd4562ed34cc   \n",
       "4      63b0faa9f642cd4562ed62b4   \n",
       "...                         ...   \n",
       "52756  6591e7ed58b434ef00c2bf9c   \n",
       "52757  6591e87458b434ef00c2c26f   \n",
       "52758  6591f60658b434ef00c3239c   \n",
       "52759  6591f6b158b434ef00c32999   \n",
       "52760  6591fc6858b434ef00c34b11   \n",
       "\n",
       "                                                     url  \\\n",
       "0      https://www.cbc.ca/sports/hockey/nhl/montreal-...   \n",
       "1      https://www.cbc.ca/news/world/north-korea-incr...   \n",
       "2      https://www.cbc.ca/news/canada/british-columbi...   \n",
       "3      https://www.cbc.ca/sports/hockey/canada-sweden...   \n",
       "4      https://www.cbc.ca/sports/hockey/nhl/ottawa-se...   \n",
       "...                                                  ...   \n",
       "52756  https://www.cbc.ca/news/world/israel-siblings-...   \n",
       "52757  https://www.cbc.ca/sports/football/nfl/philade...   \n",
       "52758  http://www.cbc.ca/news/world/israel-hamas-war-...   \n",
       "52759  https://www.cbc.ca/news/canada/manitoba/jets-m...   \n",
       "52760  https://www.cbc.ca/news/canada/manitoba/jets-w...   \n",
       "\n",
       "                                                    body  \\\n",
       "0      Alex Ovechkin recorded his 30th career hat tri...   \n",
       "1      North Korean leader Kim Jong-un vowed to incre...   \n",
       "2      Starting Monday Translink will modify 45 bus r...   \n",
       "3      Connor Bedard had four assists to tie Eric Lin...   \n",
       "4      Lucas Raymond had a goal and an assist, and th...   \n",
       "...                                                  ...   \n",
       "52756  Israeli Maya Regev lay badly wounded in a nond...   \n",
       "52757  James Conner ran for a two-yard touchdown with...   \n",
       "52758  Israeli strikes in central Gaza killed at leas...   \n",
       "52759  Rutger McGroarty was desperate to play for his...   \n",
       "52760  Dominic Toninato scored the tie-breaking goal ...   \n",
       "\n",
       "                                                   title  \n",
       "0      Capitals' offence explodes for 9 goals to send...  \n",
       "1      Kim Jong-un vows to 'exponentially' increase N...  \n",
       "2      Translink is changing service on 45 bus routes...  \n",
       "3      Canada tops Sweden at men's world juniors to s...  \n",
       "4      Red Wings score 4 unanswered goals to rally pa...  \n",
       "...                                                  ...  \n",
       "52756  Israeli siblings freed from Hamas describe pas...  \n",
       "52757  Canadian rookie Sydney Brown returns intercept...  \n",
       "52758  Israeli strikes in central Gaza kill at least ...  \n",
       "52759  Jets prospect McGroarty savouring 2nd world ju...  \n",
       "52760  Jets spoil Wild goaltender Fleury's 1,000th NH...  \n",
       "\n",
       "[52761 rows x 4 columns]"
      ]
     },
     "execution_count": 4,
     "metadata": {},
     "output_type": "execute_result"
    }
   ],
   "source": [
    "df"
   ]
  },
  {
   "cell_type": "code",
   "execution_count": 54,
   "metadata": {},
   "outputs": [
    {
     "data": {
      "text/plain": [
       "53197"
      ]
     },
     "execution_count": 54,
     "metadata": {},
     "output_type": "execute_result"
    }
   ],
   "source": [
    "total"
   ]
  },
  {
   "cell_type": "code",
   "execution_count": 7,
   "metadata": {
    "collapsed": true
   },
   "outputs": [],
   "source": [
    "n_original = len(df)"
   ]
  },
  {
   "cell_type": "code",
   "execution_count": 22,
   "metadata": {},
   "outputs": [
    {
     "data": {
      "text/plain": [
       "52761"
      ]
     },
     "execution_count": 22,
     "metadata": {},
     "output_type": "execute_result"
    }
   ],
   "source": [
    "n_original"
   ]
  },
  {
   "cell_type": "markdown",
   "metadata": {},
   "source": [
    "Remember, plus 10 already extracted by GGT. Total number of CBC for 2023 = 52771."
   ]
  },
  {
   "cell_type": "markdown",
   "metadata": {},
   "source": [
    "## Extract the right information\n",
    "\n",
    "Filter out the rows that contain:\n",
    "* `/first-person`\n",
    "* `-first-person-`\n",
    "* `/analysis-`\n",
    "* `-analysis-`\n",
    "* `/opinion`\n",
    "\n"
   ]
  },
  {
   "cell_type": "code",
   "execution_count": 9,
   "metadata": {
    "collapsed": true
   },
   "outputs": [],
   "source": [
    "df_no_first = df[~df['url'].str.contains(r'/first-person|-first-person-')]"
   ]
  },
  {
   "cell_type": "code",
   "execution_count": 10,
   "metadata": {
    "collapsed": true
   },
   "outputs": [
    {
     "data": {
      "text/html": [
       "<div>\n",
       "<style scoped>\n",
       "    .dataframe tbody tr th:only-of-type {\n",
       "        vertical-align: middle;\n",
       "    }\n",
       "\n",
       "    .dataframe tbody tr th {\n",
       "        vertical-align: top;\n",
       "    }\n",
       "\n",
       "    .dataframe thead th {\n",
       "        text-align: right;\n",
       "    }\n",
       "</style>\n",
       "<table border=\"1\" class=\"dataframe\">\n",
       "  <thead>\n",
       "    <tr style=\"text-align: right;\">\n",
       "      <th></th>\n",
       "      <th>_id</th>\n",
       "      <th>url</th>\n",
       "      <th>body</th>\n",
       "      <th>title</th>\n",
       "    </tr>\n",
       "  </thead>\n",
       "  <tbody>\n",
       "    <tr>\n",
       "      <th>0</th>\n",
       "      <td>63b0d066f642cd4562ec7be5</td>\n",
       "      <td>https://www.cbc.ca/sports/hockey/nhl/montreal-...</td>\n",
       "      <td>Alex Ovechkin recorded his 30th career hat tri...</td>\n",
       "      <td>Capitals' offence explodes for 9 goals to send...</td>\n",
       "    </tr>\n",
       "    <tr>\n",
       "      <th>1</th>\n",
       "      <td>63b0d065f642cd4562ec7bd0</td>\n",
       "      <td>https://www.cbc.ca/news/world/north-korea-incr...</td>\n",
       "      <td>North Korean leader Kim Jong-un vowed to incre...</td>\n",
       "      <td>Kim Jong-un vows to 'exponentially' increase N...</td>\n",
       "    </tr>\n",
       "    <tr>\n",
       "      <th>2</th>\n",
       "      <td>63b0eb8bf642cd4562ed022d</td>\n",
       "      <td>https://www.cbc.ca/news/canada/british-columbi...</td>\n",
       "      <td>Starting Monday Translink will modify 45 bus r...</td>\n",
       "      <td>Translink is changing service on 45 bus routes...</td>\n",
       "    </tr>\n",
       "    <tr>\n",
       "      <th>3</th>\n",
       "      <td>63b0f31df642cd4562ed34cc</td>\n",
       "      <td>https://www.cbc.ca/sports/hockey/canada-sweden...</td>\n",
       "      <td>Connor Bedard had four assists to tie Eric Lin...</td>\n",
       "      <td>Canada tops Sweden at men's world juniors to s...</td>\n",
       "    </tr>\n",
       "    <tr>\n",
       "      <th>4</th>\n",
       "      <td>63b0faa9f642cd4562ed62b4</td>\n",
       "      <td>https://www.cbc.ca/sports/hockey/nhl/ottawa-se...</td>\n",
       "      <td>Lucas Raymond had a goal and an assist, and th...</td>\n",
       "      <td>Red Wings score 4 unanswered goals to rally pa...</td>\n",
       "    </tr>\n",
       "    <tr>\n",
       "      <th>...</th>\n",
       "      <td>...</td>\n",
       "      <td>...</td>\n",
       "      <td>...</td>\n",
       "      <td>...</td>\n",
       "    </tr>\n",
       "    <tr>\n",
       "      <th>52756</th>\n",
       "      <td>6591e7ed58b434ef00c2bf9c</td>\n",
       "      <td>https://www.cbc.ca/news/world/israel-siblings-...</td>\n",
       "      <td>Israeli Maya Regev lay badly wounded in a nond...</td>\n",
       "      <td>Israeli siblings freed from Hamas describe pas...</td>\n",
       "    </tr>\n",
       "    <tr>\n",
       "      <th>52757</th>\n",
       "      <td>6591e87458b434ef00c2c26f</td>\n",
       "      <td>https://www.cbc.ca/sports/football/nfl/philade...</td>\n",
       "      <td>James Conner ran for a two-yard touchdown with...</td>\n",
       "      <td>Canadian rookie Sydney Brown returns intercept...</td>\n",
       "    </tr>\n",
       "    <tr>\n",
       "      <th>52758</th>\n",
       "      <td>6591f60658b434ef00c3239c</td>\n",
       "      <td>http://www.cbc.ca/news/world/israel-hamas-war-...</td>\n",
       "      <td>Israeli strikes in central Gaza killed at leas...</td>\n",
       "      <td>Israeli strikes in central Gaza kill at least ...</td>\n",
       "    </tr>\n",
       "    <tr>\n",
       "      <th>52759</th>\n",
       "      <td>6591f6b158b434ef00c32999</td>\n",
       "      <td>https://www.cbc.ca/news/canada/manitoba/jets-m...</td>\n",
       "      <td>Rutger McGroarty was desperate to play for his...</td>\n",
       "      <td>Jets prospect McGroarty savouring 2nd world ju...</td>\n",
       "    </tr>\n",
       "    <tr>\n",
       "      <th>52760</th>\n",
       "      <td>6591fc6858b434ef00c34b11</td>\n",
       "      <td>https://www.cbc.ca/news/canada/manitoba/jets-w...</td>\n",
       "      <td>Dominic Toninato scored the tie-breaking goal ...</td>\n",
       "      <td>Jets spoil Wild goaltender Fleury's 1,000th NH...</td>\n",
       "    </tr>\n",
       "  </tbody>\n",
       "</table>\n",
       "<p>52602 rows × 4 columns</p>\n",
       "</div>"
      ],
      "text/plain": [
       "                            _id  \\\n",
       "0      63b0d066f642cd4562ec7be5   \n",
       "1      63b0d065f642cd4562ec7bd0   \n",
       "2      63b0eb8bf642cd4562ed022d   \n",
       "3      63b0f31df642cd4562ed34cc   \n",
       "4      63b0faa9f642cd4562ed62b4   \n",
       "...                         ...   \n",
       "52756  6591e7ed58b434ef00c2bf9c   \n",
       "52757  6591e87458b434ef00c2c26f   \n",
       "52758  6591f60658b434ef00c3239c   \n",
       "52759  6591f6b158b434ef00c32999   \n",
       "52760  6591fc6858b434ef00c34b11   \n",
       "\n",
       "                                                     url  \\\n",
       "0      https://www.cbc.ca/sports/hockey/nhl/montreal-...   \n",
       "1      https://www.cbc.ca/news/world/north-korea-incr...   \n",
       "2      https://www.cbc.ca/news/canada/british-columbi...   \n",
       "3      https://www.cbc.ca/sports/hockey/canada-sweden...   \n",
       "4      https://www.cbc.ca/sports/hockey/nhl/ottawa-se...   \n",
       "...                                                  ...   \n",
       "52756  https://www.cbc.ca/news/world/israel-siblings-...   \n",
       "52757  https://www.cbc.ca/sports/football/nfl/philade...   \n",
       "52758  http://www.cbc.ca/news/world/israel-hamas-war-...   \n",
       "52759  https://www.cbc.ca/news/canada/manitoba/jets-m...   \n",
       "52760  https://www.cbc.ca/news/canada/manitoba/jets-w...   \n",
       "\n",
       "                                                    body  \\\n",
       "0      Alex Ovechkin recorded his 30th career hat tri...   \n",
       "1      North Korean leader Kim Jong-un vowed to incre...   \n",
       "2      Starting Monday Translink will modify 45 bus r...   \n",
       "3      Connor Bedard had four assists to tie Eric Lin...   \n",
       "4      Lucas Raymond had a goal and an assist, and th...   \n",
       "...                                                  ...   \n",
       "52756  Israeli Maya Regev lay badly wounded in a nond...   \n",
       "52757  James Conner ran for a two-yard touchdown with...   \n",
       "52758  Israeli strikes in central Gaza killed at leas...   \n",
       "52759  Rutger McGroarty was desperate to play for his...   \n",
       "52760  Dominic Toninato scored the tie-breaking goal ...   \n",
       "\n",
       "                                                   title  \n",
       "0      Capitals' offence explodes for 9 goals to send...  \n",
       "1      Kim Jong-un vows to 'exponentially' increase N...  \n",
       "2      Translink is changing service on 45 bus routes...  \n",
       "3      Canada tops Sweden at men's world juniors to s...  \n",
       "4      Red Wings score 4 unanswered goals to rally pa...  \n",
       "...                                                  ...  \n",
       "52756  Israeli siblings freed from Hamas describe pas...  \n",
       "52757  Canadian rookie Sydney Brown returns intercept...  \n",
       "52758  Israeli strikes in central Gaza kill at least ...  \n",
       "52759  Jets prospect McGroarty savouring 2nd world ju...  \n",
       "52760  Jets spoil Wild goaltender Fleury's 1,000th NH...  \n",
       "\n",
       "[52602 rows x 4 columns]"
      ]
     },
     "execution_count": 10,
     "metadata": {},
     "output_type": "execute_result"
    }
   ],
   "source": [
    "df_no_first"
   ]
  },
  {
   "cell_type": "code",
   "execution_count": 37,
   "metadata": {},
   "outputs": [],
   "source": [
    "n_no_first = len(df_no_first)"
   ]
  },
  {
   "cell_type": "code",
   "execution_count": 38,
   "metadata": {},
   "outputs": [
    {
     "data": {
      "text/plain": [
       "52602"
      ]
     },
     "execution_count": 38,
     "metadata": {},
     "output_type": "execute_result"
    }
   ],
   "source": [
    "n_no_first"
   ]
  },
  {
   "cell_type": "code",
   "execution_count": 39,
   "metadata": {},
   "outputs": [],
   "source": [
    "df_no_first_no_analysis = df_no_first[~df_no_first['url'].str.contains(r'/analysis|-analysis-')]"
   ]
  },
  {
   "cell_type": "code",
   "execution_count": 40,
   "metadata": {},
   "outputs": [
    {
     "data": {
      "text/html": [
       "<div>\n",
       "<style scoped>\n",
       "    .dataframe tbody tr th:only-of-type {\n",
       "        vertical-align: middle;\n",
       "    }\n",
       "\n",
       "    .dataframe tbody tr th {\n",
       "        vertical-align: top;\n",
       "    }\n",
       "\n",
       "    .dataframe thead th {\n",
       "        text-align: right;\n",
       "    }\n",
       "</style>\n",
       "<table border=\"1\" class=\"dataframe\">\n",
       "  <thead>\n",
       "    <tr style=\"text-align: right;\">\n",
       "      <th></th>\n",
       "      <th>_id</th>\n",
       "      <th>url</th>\n",
       "      <th>body</th>\n",
       "      <th>title</th>\n",
       "    </tr>\n",
       "  </thead>\n",
       "  <tbody>\n",
       "    <tr>\n",
       "      <th>0</th>\n",
       "      <td>63b0d066f642cd4562ec7be5</td>\n",
       "      <td>https://www.cbc.ca/sports/hockey/nhl/montreal-...</td>\n",
       "      <td>Alex Ovechkin recorded his 30th career hat tri...</td>\n",
       "      <td>Capitals' offence explodes for 9 goals to send...</td>\n",
       "    </tr>\n",
       "    <tr>\n",
       "      <th>1</th>\n",
       "      <td>63b0d065f642cd4562ec7bd0</td>\n",
       "      <td>https://www.cbc.ca/news/world/north-korea-incr...</td>\n",
       "      <td>North Korean leader Kim Jong-un vowed to incre...</td>\n",
       "      <td>Kim Jong-un vows to 'exponentially' increase N...</td>\n",
       "    </tr>\n",
       "    <tr>\n",
       "      <th>2</th>\n",
       "      <td>63b0eb8bf642cd4562ed022d</td>\n",
       "      <td>https://www.cbc.ca/news/canada/british-columbi...</td>\n",
       "      <td>Starting Monday Translink will modify 45 bus r...</td>\n",
       "      <td>Translink is changing service on 45 bus routes...</td>\n",
       "    </tr>\n",
       "    <tr>\n",
       "      <th>3</th>\n",
       "      <td>63b0f31df642cd4562ed34cc</td>\n",
       "      <td>https://www.cbc.ca/sports/hockey/canada-sweden...</td>\n",
       "      <td>Connor Bedard had four assists to tie Eric Lin...</td>\n",
       "      <td>Canada tops Sweden at men's world juniors to s...</td>\n",
       "    </tr>\n",
       "    <tr>\n",
       "      <th>4</th>\n",
       "      <td>63b0faa9f642cd4562ed62b4</td>\n",
       "      <td>https://www.cbc.ca/sports/hockey/nhl/ottawa-se...</td>\n",
       "      <td>Lucas Raymond had a goal and an assist, and th...</td>\n",
       "      <td>Red Wings score 4 unanswered goals to rally pa...</td>\n",
       "    </tr>\n",
       "    <tr>\n",
       "      <th>...</th>\n",
       "      <td>...</td>\n",
       "      <td>...</td>\n",
       "      <td>...</td>\n",
       "      <td>...</td>\n",
       "    </tr>\n",
       "    <tr>\n",
       "      <th>52756</th>\n",
       "      <td>6591e7ed58b434ef00c2bf9c</td>\n",
       "      <td>https://www.cbc.ca/news/world/israel-siblings-...</td>\n",
       "      <td>Israeli Maya Regev lay badly wounded in a nond...</td>\n",
       "      <td>Israeli siblings freed from Hamas describe pas...</td>\n",
       "    </tr>\n",
       "    <tr>\n",
       "      <th>52757</th>\n",
       "      <td>6591e87458b434ef00c2c26f</td>\n",
       "      <td>https://www.cbc.ca/sports/football/nfl/philade...</td>\n",
       "      <td>James Conner ran for a two-yard touchdown with...</td>\n",
       "      <td>Canadian rookie Sydney Brown returns intercept...</td>\n",
       "    </tr>\n",
       "    <tr>\n",
       "      <th>52758</th>\n",
       "      <td>6591f60658b434ef00c3239c</td>\n",
       "      <td>http://www.cbc.ca/news/world/israel-hamas-war-...</td>\n",
       "      <td>Israeli strikes in central Gaza killed at leas...</td>\n",
       "      <td>Israeli strikes in central Gaza kill at least ...</td>\n",
       "    </tr>\n",
       "    <tr>\n",
       "      <th>52759</th>\n",
       "      <td>6591f6b158b434ef00c32999</td>\n",
       "      <td>https://www.cbc.ca/news/canada/manitoba/jets-m...</td>\n",
       "      <td>Rutger McGroarty was desperate to play for his...</td>\n",
       "      <td>Jets prospect McGroarty savouring 2nd world ju...</td>\n",
       "    </tr>\n",
       "    <tr>\n",
       "      <th>52760</th>\n",
       "      <td>6591fc6858b434ef00c34b11</td>\n",
       "      <td>https://www.cbc.ca/news/canada/manitoba/jets-w...</td>\n",
       "      <td>Dominic Toninato scored the tie-breaking goal ...</td>\n",
       "      <td>Jets spoil Wild goaltender Fleury's 1,000th NH...</td>\n",
       "    </tr>\n",
       "  </tbody>\n",
       "</table>\n",
       "<p>52438 rows × 4 columns</p>\n",
       "</div>"
      ],
      "text/plain": [
       "                            _id  \\\n",
       "0      63b0d066f642cd4562ec7be5   \n",
       "1      63b0d065f642cd4562ec7bd0   \n",
       "2      63b0eb8bf642cd4562ed022d   \n",
       "3      63b0f31df642cd4562ed34cc   \n",
       "4      63b0faa9f642cd4562ed62b4   \n",
       "...                         ...   \n",
       "52756  6591e7ed58b434ef00c2bf9c   \n",
       "52757  6591e87458b434ef00c2c26f   \n",
       "52758  6591f60658b434ef00c3239c   \n",
       "52759  6591f6b158b434ef00c32999   \n",
       "52760  6591fc6858b434ef00c34b11   \n",
       "\n",
       "                                                     url  \\\n",
       "0      https://www.cbc.ca/sports/hockey/nhl/montreal-...   \n",
       "1      https://www.cbc.ca/news/world/north-korea-incr...   \n",
       "2      https://www.cbc.ca/news/canada/british-columbi...   \n",
       "3      https://www.cbc.ca/sports/hockey/canada-sweden...   \n",
       "4      https://www.cbc.ca/sports/hockey/nhl/ottawa-se...   \n",
       "...                                                  ...   \n",
       "52756  https://www.cbc.ca/news/world/israel-siblings-...   \n",
       "52757  https://www.cbc.ca/sports/football/nfl/philade...   \n",
       "52758  http://www.cbc.ca/news/world/israel-hamas-war-...   \n",
       "52759  https://www.cbc.ca/news/canada/manitoba/jets-m...   \n",
       "52760  https://www.cbc.ca/news/canada/manitoba/jets-w...   \n",
       "\n",
       "                                                    body  \\\n",
       "0      Alex Ovechkin recorded his 30th career hat tri...   \n",
       "1      North Korean leader Kim Jong-un vowed to incre...   \n",
       "2      Starting Monday Translink will modify 45 bus r...   \n",
       "3      Connor Bedard had four assists to tie Eric Lin...   \n",
       "4      Lucas Raymond had a goal and an assist, and th...   \n",
       "...                                                  ...   \n",
       "52756  Israeli Maya Regev lay badly wounded in a nond...   \n",
       "52757  James Conner ran for a two-yard touchdown with...   \n",
       "52758  Israeli strikes in central Gaza killed at leas...   \n",
       "52759  Rutger McGroarty was desperate to play for his...   \n",
       "52760  Dominic Toninato scored the tie-breaking goal ...   \n",
       "\n",
       "                                                   title  \n",
       "0      Capitals' offence explodes for 9 goals to send...  \n",
       "1      Kim Jong-un vows to 'exponentially' increase N...  \n",
       "2      Translink is changing service on 45 bus routes...  \n",
       "3      Canada tops Sweden at men's world juniors to s...  \n",
       "4      Red Wings score 4 unanswered goals to rally pa...  \n",
       "...                                                  ...  \n",
       "52756  Israeli siblings freed from Hamas describe pas...  \n",
       "52757  Canadian rookie Sydney Brown returns intercept...  \n",
       "52758  Israeli strikes in central Gaza kill at least ...  \n",
       "52759  Jets prospect McGroarty savouring 2nd world ju...  \n",
       "52760  Jets spoil Wild goaltender Fleury's 1,000th NH...  \n",
       "\n",
       "[52438 rows x 4 columns]"
      ]
     },
     "execution_count": 40,
     "metadata": {},
     "output_type": "execute_result"
    }
   ],
   "source": [
    "df_no_first_no_analysis"
   ]
  },
  {
   "cell_type": "code",
   "execution_count": 41,
   "metadata": {},
   "outputs": [],
   "source": [
    "n_no_first_no_analysis = len(df_no_first_no_analysis)"
   ]
  },
  {
   "cell_type": "code",
   "execution_count": 42,
   "metadata": {},
   "outputs": [
    {
     "data": {
      "text/plain": [
       "52438"
      ]
     },
     "execution_count": 42,
     "metadata": {},
     "output_type": "execute_result"
    }
   ],
   "source": [
    "n_no_first_no_analysis"
   ]
  },
  {
   "cell_type": "code",
   "execution_count": 18,
   "metadata": {
    "collapsed": true
   },
   "outputs": [],
   "source": [
    "df_no_first_no_analysis_no_opinion = df_no_first_no_analysis[~df_no_first_no_analysis['url'].str.contains(r'/opinion')]"
   ]
  },
  {
   "cell_type": "code",
   "execution_count": 19,
   "metadata": {
    "collapsed": true
   },
   "outputs": [
    {
     "data": {
      "text/html": [
       "<div>\n",
       "<style scoped>\n",
       "    .dataframe tbody tr th:only-of-type {\n",
       "        vertical-align: middle;\n",
       "    }\n",
       "\n",
       "    .dataframe tbody tr th {\n",
       "        vertical-align: top;\n",
       "    }\n",
       "\n",
       "    .dataframe thead th {\n",
       "        text-align: right;\n",
       "    }\n",
       "</style>\n",
       "<table border=\"1\" class=\"dataframe\">\n",
       "  <thead>\n",
       "    <tr style=\"text-align: right;\">\n",
       "      <th></th>\n",
       "      <th>_id</th>\n",
       "      <th>url</th>\n",
       "      <th>body</th>\n",
       "      <th>title</th>\n",
       "    </tr>\n",
       "  </thead>\n",
       "  <tbody>\n",
       "    <tr>\n",
       "      <th>0</th>\n",
       "      <td>63b0d066f642cd4562ec7be5</td>\n",
       "      <td>https://www.cbc.ca/sports/hockey/nhl/montreal-...</td>\n",
       "      <td>Alex Ovechkin recorded his 30th career hat tri...</td>\n",
       "      <td>Capitals' offence explodes for 9 goals to send...</td>\n",
       "    </tr>\n",
       "    <tr>\n",
       "      <th>1</th>\n",
       "      <td>63b0d065f642cd4562ec7bd0</td>\n",
       "      <td>https://www.cbc.ca/news/world/north-korea-incr...</td>\n",
       "      <td>North Korean leader Kim Jong-un vowed to incre...</td>\n",
       "      <td>Kim Jong-un vows to 'exponentially' increase N...</td>\n",
       "    </tr>\n",
       "    <tr>\n",
       "      <th>2</th>\n",
       "      <td>63b0eb8bf642cd4562ed022d</td>\n",
       "      <td>https://www.cbc.ca/news/canada/british-columbi...</td>\n",
       "      <td>Starting Monday Translink will modify 45 bus r...</td>\n",
       "      <td>Translink is changing service on 45 bus routes...</td>\n",
       "    </tr>\n",
       "    <tr>\n",
       "      <th>3</th>\n",
       "      <td>63b0f31df642cd4562ed34cc</td>\n",
       "      <td>https://www.cbc.ca/sports/hockey/canada-sweden...</td>\n",
       "      <td>Connor Bedard had four assists to tie Eric Lin...</td>\n",
       "      <td>Canada tops Sweden at men's world juniors to s...</td>\n",
       "    </tr>\n",
       "    <tr>\n",
       "      <th>4</th>\n",
       "      <td>63b0faa9f642cd4562ed62b4</td>\n",
       "      <td>https://www.cbc.ca/sports/hockey/nhl/ottawa-se...</td>\n",
       "      <td>Lucas Raymond had a goal and an assist, and th...</td>\n",
       "      <td>Red Wings score 4 unanswered goals to rally pa...</td>\n",
       "    </tr>\n",
       "    <tr>\n",
       "      <th>...</th>\n",
       "      <td>...</td>\n",
       "      <td>...</td>\n",
       "      <td>...</td>\n",
       "      <td>...</td>\n",
       "    </tr>\n",
       "    <tr>\n",
       "      <th>52756</th>\n",
       "      <td>6591e7ed58b434ef00c2bf9c</td>\n",
       "      <td>https://www.cbc.ca/news/world/israel-siblings-...</td>\n",
       "      <td>Israeli Maya Regev lay badly wounded in a nond...</td>\n",
       "      <td>Israeli siblings freed from Hamas describe pas...</td>\n",
       "    </tr>\n",
       "    <tr>\n",
       "      <th>52757</th>\n",
       "      <td>6591e87458b434ef00c2c26f</td>\n",
       "      <td>https://www.cbc.ca/sports/football/nfl/philade...</td>\n",
       "      <td>James Conner ran for a two-yard touchdown with...</td>\n",
       "      <td>Canadian rookie Sydney Brown returns intercept...</td>\n",
       "    </tr>\n",
       "    <tr>\n",
       "      <th>52758</th>\n",
       "      <td>6591f60658b434ef00c3239c</td>\n",
       "      <td>http://www.cbc.ca/news/world/israel-hamas-war-...</td>\n",
       "      <td>Israeli strikes in central Gaza killed at leas...</td>\n",
       "      <td>Israeli strikes in central Gaza kill at least ...</td>\n",
       "    </tr>\n",
       "    <tr>\n",
       "      <th>52759</th>\n",
       "      <td>6591f6b158b434ef00c32999</td>\n",
       "      <td>https://www.cbc.ca/news/canada/manitoba/jets-m...</td>\n",
       "      <td>Rutger McGroarty was desperate to play for his...</td>\n",
       "      <td>Jets prospect McGroarty savouring 2nd world ju...</td>\n",
       "    </tr>\n",
       "    <tr>\n",
       "      <th>52760</th>\n",
       "      <td>6591fc6858b434ef00c34b11</td>\n",
       "      <td>https://www.cbc.ca/news/canada/manitoba/jets-w...</td>\n",
       "      <td>Dominic Toninato scored the tie-breaking goal ...</td>\n",
       "      <td>Jets spoil Wild goaltender Fleury's 1,000th NH...</td>\n",
       "    </tr>\n",
       "  </tbody>\n",
       "</table>\n",
       "<p>52325 rows × 4 columns</p>\n",
       "</div>"
      ],
      "text/plain": [
       "                            _id  \\\n",
       "0      63b0d066f642cd4562ec7be5   \n",
       "1      63b0d065f642cd4562ec7bd0   \n",
       "2      63b0eb8bf642cd4562ed022d   \n",
       "3      63b0f31df642cd4562ed34cc   \n",
       "4      63b0faa9f642cd4562ed62b4   \n",
       "...                         ...   \n",
       "52756  6591e7ed58b434ef00c2bf9c   \n",
       "52757  6591e87458b434ef00c2c26f   \n",
       "52758  6591f60658b434ef00c3239c   \n",
       "52759  6591f6b158b434ef00c32999   \n",
       "52760  6591fc6858b434ef00c34b11   \n",
       "\n",
       "                                                     url  \\\n",
       "0      https://www.cbc.ca/sports/hockey/nhl/montreal-...   \n",
       "1      https://www.cbc.ca/news/world/north-korea-incr...   \n",
       "2      https://www.cbc.ca/news/canada/british-columbi...   \n",
       "3      https://www.cbc.ca/sports/hockey/canada-sweden...   \n",
       "4      https://www.cbc.ca/sports/hockey/nhl/ottawa-se...   \n",
       "...                                                  ...   \n",
       "52756  https://www.cbc.ca/news/world/israel-siblings-...   \n",
       "52757  https://www.cbc.ca/sports/football/nfl/philade...   \n",
       "52758  http://www.cbc.ca/news/world/israel-hamas-war-...   \n",
       "52759  https://www.cbc.ca/news/canada/manitoba/jets-m...   \n",
       "52760  https://www.cbc.ca/news/canada/manitoba/jets-w...   \n",
       "\n",
       "                                                    body  \\\n",
       "0      Alex Ovechkin recorded his 30th career hat tri...   \n",
       "1      North Korean leader Kim Jong-un vowed to incre...   \n",
       "2      Starting Monday Translink will modify 45 bus r...   \n",
       "3      Connor Bedard had four assists to tie Eric Lin...   \n",
       "4      Lucas Raymond had a goal and an assist, and th...   \n",
       "...                                                  ...   \n",
       "52756  Israeli Maya Regev lay badly wounded in a nond...   \n",
       "52757  James Conner ran for a two-yard touchdown with...   \n",
       "52758  Israeli strikes in central Gaza killed at leas...   \n",
       "52759  Rutger McGroarty was desperate to play for his...   \n",
       "52760  Dominic Toninato scored the tie-breaking goal ...   \n",
       "\n",
       "                                                   title  \n",
       "0      Capitals' offence explodes for 9 goals to send...  \n",
       "1      Kim Jong-un vows to 'exponentially' increase N...  \n",
       "2      Translink is changing service on 45 bus routes...  \n",
       "3      Canada tops Sweden at men's world juniors to s...  \n",
       "4      Red Wings score 4 unanswered goals to rally pa...  \n",
       "...                                                  ...  \n",
       "52756  Israeli siblings freed from Hamas describe pas...  \n",
       "52757  Canadian rookie Sydney Brown returns intercept...  \n",
       "52758  Israeli strikes in central Gaza kill at least ...  \n",
       "52759  Jets prospect McGroarty savouring 2nd world ju...  \n",
       "52760  Jets spoil Wild goaltender Fleury's 1,000th NH...  \n",
       "\n",
       "[52325 rows x 4 columns]"
      ]
     },
     "execution_count": 19,
     "metadata": {},
     "output_type": "execute_result"
    }
   ],
   "source": [
    "df_no_first_no_analysis_no_opinion"
   ]
  },
  {
   "cell_type": "code",
   "execution_count": 43,
   "metadata": {},
   "outputs": [],
   "source": [
    "n_no_first_no_analysis_no_opinion = len(df_no_first_no_analysis_no_opinion)"
   ]
  },
  {
   "cell_type": "code",
   "execution_count": 44,
   "metadata": {},
   "outputs": [
    {
     "data": {
      "text/plain": [
       "52325"
      ]
     },
     "execution_count": 44,
     "metadata": {},
     "output_type": "execute_result"
    }
   ],
   "source": [
    "n_no_first_no_analysis_no_opinion"
   ]
  },
  {
   "cell_type": "code",
   "execution_count": 45,
   "metadata": {},
   "outputs": [],
   "source": [
    "how_many_first = n_original - n_no_first"
   ]
  },
  {
   "cell_type": "code",
   "execution_count": 46,
   "metadata": {},
   "outputs": [
    {
     "data": {
      "text/plain": [
       "159"
      ]
     },
     "execution_count": 46,
     "metadata": {},
     "output_type": "execute_result"
    }
   ],
   "source": [
    "how_many_first"
   ]
  },
  {
   "cell_type": "code",
   "execution_count": 47,
   "metadata": {},
   "outputs": [],
   "source": [
    "how_many_analysis = n_no_first - n_no_first_no_analysis"
   ]
  },
  {
   "cell_type": "code",
   "execution_count": 48,
   "metadata": {},
   "outputs": [
    {
     "data": {
      "text/plain": [
       "164"
      ]
     },
     "execution_count": 48,
     "metadata": {},
     "output_type": "execute_result"
    }
   ],
   "source": [
    "how_many_analysis"
   ]
  },
  {
   "cell_type": "code",
   "execution_count": 49,
   "metadata": {},
   "outputs": [],
   "source": [
    "how_many_opinion = n_no_first_no_analysis - n_no_first_no_analysis_no_opinion"
   ]
  },
  {
   "cell_type": "code",
   "execution_count": 50,
   "metadata": {},
   "outputs": [
    {
     "data": {
      "text/plain": [
       "113"
      ]
     },
     "execution_count": 50,
     "metadata": {},
     "output_type": "execute_result"
    }
   ],
   "source": [
    "how_many_opinion"
   ]
  },
  {
   "cell_type": "markdown",
   "metadata": {},
   "source": [
    "Plus 10 already removed = 123 opinion"
   ]
  },
  {
   "cell_type": "code",
   "execution_count": 51,
   "metadata": {},
   "outputs": [],
   "source": [
    "n_filtered = how_many_first + how_many_analysis + how_many_opinion"
   ]
  },
  {
   "cell_type": "code",
   "execution_count": 52,
   "metadata": {},
   "outputs": [
    {
     "data": {
      "text/plain": [
       "436"
      ]
     },
     "execution_count": 52,
     "metadata": {},
     "output_type": "execute_result"
    }
   ],
   "source": [
    "n_filtered"
   ]
  },
  {
   "cell_type": "code",
   "execution_count": 55,
   "metadata": {},
   "outputs": [
    {
     "data": {
      "text/plain": [
       "52761"
      ]
     },
     "execution_count": 55,
     "metadata": {},
     "output_type": "execute_result"
    }
   ],
   "source": [
    "n_original"
   ]
  },
  {
   "cell_type": "code",
   "execution_count": 54,
   "metadata": {},
   "outputs": [
    {
     "data": {
      "text/plain": [
       "53197"
      ]
     },
     "execution_count": 54,
     "metadata": {},
     "output_type": "execute_result"
    }
   ],
   "source": [
    "total"
   ]
  },
  {
   "cell_type": "code",
   "execution_count": 56,
   "metadata": {},
   "outputs": [
    {
     "data": {
      "text/plain": [
       "436"
      ]
     },
     "execution_count": 56,
     "metadata": {},
     "output_type": "execute_result"
    }
   ],
   "source": [
    "n_filtered"
   ]
  },
  {
   "cell_type": "code",
   "execution_count": 57,
   "metadata": {},
   "outputs": [
    {
     "data": {
      "text/plain": [
       "52325"
      ]
     },
     "execution_count": 57,
     "metadata": {},
     "output_type": "execute_result"
    }
   ],
   "source": [
    "n_original - n_filtered"
   ]
  },
  {
   "cell_type": "code",
   "execution_count": null,
   "metadata": {},
   "outputs": [],
   "source": []
  },
  {
   "cell_type": "markdown",
   "metadata": {},
   "source": [
    "## Sanity check, read the filtered csv"
   ]
  },
  {
   "cell_type": "code",
   "execution_count": 58,
   "metadata": {},
   "outputs": [],
   "source": [
    "os.chdir(r'C:\\Maite\\MOD\\projects\\Monika_Bednarek\\Evaluation_quotes\\Data\\CBC_input')"
   ]
  },
  {
   "cell_type": "code",
   "execution_count": 59,
   "metadata": {},
   "outputs": [],
   "source": [
    "df2 = pd.read_csv('CBC_news_all_2023.csv', encoding = 'utf8')"
   ]
  },
  {
   "cell_type": "code",
   "execution_count": 60,
   "metadata": {},
   "outputs": [
    {
     "data": {
      "text/html": [
       "<div>\n",
       "<style scoped>\n",
       "    .dataframe tbody tr th:only-of-type {\n",
       "        vertical-align: middle;\n",
       "    }\n",
       "\n",
       "    .dataframe tbody tr th {\n",
       "        vertical-align: top;\n",
       "    }\n",
       "\n",
       "    .dataframe thead th {\n",
       "        text-align: right;\n",
       "    }\n",
       "</style>\n",
       "<table border=\"1\" class=\"dataframe\">\n",
       "  <thead>\n",
       "    <tr style=\"text-align: right;\">\n",
       "      <th></th>\n",
       "      <th>id</th>\n",
       "      <th>url</th>\n",
       "      <th>body</th>\n",
       "      <th>title</th>\n",
       "    </tr>\n",
       "  </thead>\n",
       "  <tbody>\n",
       "    <tr>\n",
       "      <th>0</th>\n",
       "      <td>63b0d066f642cd4562ec7be5</td>\n",
       "      <td>https://www.cbc.ca/sports/hockey/nhl/montreal-...</td>\n",
       "      <td>Alex Ovechkin recorded his 30th career hat tri...</td>\n",
       "      <td>Capitals' offence explodes for 9 goals to send...</td>\n",
       "    </tr>\n",
       "    <tr>\n",
       "      <th>1</th>\n",
       "      <td>63b0d065f642cd4562ec7bd0</td>\n",
       "      <td>https://www.cbc.ca/news/world/north-korea-incr...</td>\n",
       "      <td>North Korean leader Kim Jong-un vowed to incre...</td>\n",
       "      <td>Kim Jong-un vows to 'exponentially' increase N...</td>\n",
       "    </tr>\n",
       "    <tr>\n",
       "      <th>2</th>\n",
       "      <td>63b0eb8bf642cd4562ed022d</td>\n",
       "      <td>https://www.cbc.ca/news/canada/british-columbi...</td>\n",
       "      <td>Starting Monday Translink will modify 45 bus r...</td>\n",
       "      <td>Translink is changing service on 45 bus routes...</td>\n",
       "    </tr>\n",
       "    <tr>\n",
       "      <th>3</th>\n",
       "      <td>63b0f31df642cd4562ed34cc</td>\n",
       "      <td>https://www.cbc.ca/sports/hockey/canada-sweden...</td>\n",
       "      <td>Connor Bedard had four assists to tie Eric Lin...</td>\n",
       "      <td>Canada tops Sweden at men's world juniors to s...</td>\n",
       "    </tr>\n",
       "    <tr>\n",
       "      <th>4</th>\n",
       "      <td>63b0faa9f642cd4562ed62b4</td>\n",
       "      <td>https://www.cbc.ca/sports/hockey/nhl/ottawa-se...</td>\n",
       "      <td>Lucas Raymond had a goal and an assist, and th...</td>\n",
       "      <td>Red Wings score 4 unanswered goals to rally pa...</td>\n",
       "    </tr>\n",
       "    <tr>\n",
       "      <th>...</th>\n",
       "      <td>...</td>\n",
       "      <td>...</td>\n",
       "      <td>...</td>\n",
       "      <td>...</td>\n",
       "    </tr>\n",
       "    <tr>\n",
       "      <th>52320</th>\n",
       "      <td>6591e7ed58b434ef00c2bf9c</td>\n",
       "      <td>https://www.cbc.ca/news/world/israel-siblings-...</td>\n",
       "      <td>Israeli Maya Regev lay badly wounded in a nond...</td>\n",
       "      <td>Israeli siblings freed from Hamas describe pas...</td>\n",
       "    </tr>\n",
       "    <tr>\n",
       "      <th>52321</th>\n",
       "      <td>6591e87458b434ef00c2c26f</td>\n",
       "      <td>https://www.cbc.ca/sports/football/nfl/philade...</td>\n",
       "      <td>James Conner ran for a two-yard touchdown with...</td>\n",
       "      <td>Canadian rookie Sydney Brown returns intercept...</td>\n",
       "    </tr>\n",
       "    <tr>\n",
       "      <th>52322</th>\n",
       "      <td>6591f60658b434ef00c3239c</td>\n",
       "      <td>http://www.cbc.ca/news/world/israel-hamas-war-...</td>\n",
       "      <td>Israeli strikes in central Gaza killed at leas...</td>\n",
       "      <td>Israeli strikes in central Gaza kill at least ...</td>\n",
       "    </tr>\n",
       "    <tr>\n",
       "      <th>52323</th>\n",
       "      <td>6591f6b158b434ef00c32999</td>\n",
       "      <td>https://www.cbc.ca/news/canada/manitoba/jets-m...</td>\n",
       "      <td>Rutger McGroarty was desperate to play for his...</td>\n",
       "      <td>Jets prospect McGroarty savouring 2nd world ju...</td>\n",
       "    </tr>\n",
       "    <tr>\n",
       "      <th>52324</th>\n",
       "      <td>6591fc6858b434ef00c34b11</td>\n",
       "      <td>https://www.cbc.ca/news/canada/manitoba/jets-w...</td>\n",
       "      <td>Dominic Toninato scored the tie-breaking goal ...</td>\n",
       "      <td>Jets spoil Wild goaltender Fleury's 1,000th NH...</td>\n",
       "    </tr>\n",
       "  </tbody>\n",
       "</table>\n",
       "<p>52325 rows × 4 columns</p>\n",
       "</div>"
      ],
      "text/plain": [
       "                             id  \\\n",
       "0      63b0d066f642cd4562ec7be5   \n",
       "1      63b0d065f642cd4562ec7bd0   \n",
       "2      63b0eb8bf642cd4562ed022d   \n",
       "3      63b0f31df642cd4562ed34cc   \n",
       "4      63b0faa9f642cd4562ed62b4   \n",
       "...                         ...   \n",
       "52320  6591e7ed58b434ef00c2bf9c   \n",
       "52321  6591e87458b434ef00c2c26f   \n",
       "52322  6591f60658b434ef00c3239c   \n",
       "52323  6591f6b158b434ef00c32999   \n",
       "52324  6591fc6858b434ef00c34b11   \n",
       "\n",
       "                                                     url  \\\n",
       "0      https://www.cbc.ca/sports/hockey/nhl/montreal-...   \n",
       "1      https://www.cbc.ca/news/world/north-korea-incr...   \n",
       "2      https://www.cbc.ca/news/canada/british-columbi...   \n",
       "3      https://www.cbc.ca/sports/hockey/canada-sweden...   \n",
       "4      https://www.cbc.ca/sports/hockey/nhl/ottawa-se...   \n",
       "...                                                  ...   \n",
       "52320  https://www.cbc.ca/news/world/israel-siblings-...   \n",
       "52321  https://www.cbc.ca/sports/football/nfl/philade...   \n",
       "52322  http://www.cbc.ca/news/world/israel-hamas-war-...   \n",
       "52323  https://www.cbc.ca/news/canada/manitoba/jets-m...   \n",
       "52324  https://www.cbc.ca/news/canada/manitoba/jets-w...   \n",
       "\n",
       "                                                    body  \\\n",
       "0      Alex Ovechkin recorded his 30th career hat tri...   \n",
       "1      North Korean leader Kim Jong-un vowed to incre...   \n",
       "2      Starting Monday Translink will modify 45 bus r...   \n",
       "3      Connor Bedard had four assists to tie Eric Lin...   \n",
       "4      Lucas Raymond had a goal and an assist, and th...   \n",
       "...                                                  ...   \n",
       "52320  Israeli Maya Regev lay badly wounded in a nond...   \n",
       "52321  James Conner ran for a two-yard touchdown with...   \n",
       "52322  Israeli strikes in central Gaza killed at leas...   \n",
       "52323  Rutger McGroarty was desperate to play for his...   \n",
       "52324  Dominic Toninato scored the tie-breaking goal ...   \n",
       "\n",
       "                                                   title  \n",
       "0      Capitals' offence explodes for 9 goals to send...  \n",
       "1      Kim Jong-un vows to 'exponentially' increase N...  \n",
       "2      Translink is changing service on 45 bus routes...  \n",
       "3      Canada tops Sweden at men's world juniors to s...  \n",
       "4      Red Wings score 4 unanswered goals to rally pa...  \n",
       "...                                                  ...  \n",
       "52320  Israeli siblings freed from Hamas describe pas...  \n",
       "52321  Canadian rookie Sydney Brown returns intercept...  \n",
       "52322  Israeli strikes in central Gaza kill at least ...  \n",
       "52323  Jets prospect McGroarty savouring 2nd world ju...  \n",
       "52324  Jets spoil Wild goaltender Fleury's 1,000th NH...  \n",
       "\n",
       "[52325 rows x 4 columns]"
      ]
     },
     "execution_count": 60,
     "metadata": {},
     "output_type": "execute_result"
    }
   ],
   "source": [
    "df2"
   ]
  },
  {
   "cell_type": "code",
   "execution_count": 61,
   "metadata": {},
   "outputs": [
    {
     "data": {
      "text/plain": [
       "52325"
      ]
     },
     "execution_count": 61,
     "metadata": {},
     "output_type": "execute_result"
    }
   ],
   "source": [
    "len(df2)"
   ]
  },
  {
   "cell_type": "code",
   "execution_count": null,
   "metadata": {},
   "outputs": [],
   "source": []
  }
 ],
 "metadata": {
  "kernelspec": {
   "display_name": "Python 3 (ipykernel)",
   "language": "python",
   "name": "python3"
  },
  "language_info": {
   "codemirror_mode": {
    "name": "ipython",
    "version": 3
   },
   "file_extension": ".py",
   "mimetype": "text/x-python",
   "name": "python",
   "nbconvert_exporter": "python",
   "pygments_lexer": "ipython3",
   "version": "3.9.7"
  }
 },
 "nbformat": 4,
 "nbformat_minor": 2
}
