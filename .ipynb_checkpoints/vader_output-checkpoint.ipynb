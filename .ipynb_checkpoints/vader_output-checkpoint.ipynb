{
 "cells": [
  {
   "cell_type": "markdown",
   "metadata": {
    "id": "IeD60Gz6NSyJ"
   },
   "source": [
    "# Data Cleaning\n",
    "Script for cleaning up data in quotes excel sheet for VADER input\n",
    "\n",
    "Each row should contain:\n",
    "* Text id (from 'full' tab)\n",
    "* Text name ('full')\n",
    "* Quotes\n",
    " * All quotes in 'full' tab\n",
    " * All quotes from the same file in the same row\n",
    " * Quotes separated by newline (merge quotes)\n",
    "* Non-quotes ('non_quoted_text', copied as is)\n",
    "* Speaker ('full')\n",
    " * Merged and newline separated, as with Quotes\n",
    "* Verb ('full')\n",
    " * Merged and newline separated, as with Quotes\n",
    "\n",
    "Output CSV header names: text_id, text_name, quotes, non_quotes, speakers, verbs"
   ]
  },
  {
   "cell_type": "code",
   "execution_count": null,
   "metadata": {
    "id": "HSKZ6yP8MnPH"
   },
   "outputs": [],
   "source": [
    "# run this code if connecting to a Google drive\n",
    "from google.colab import drive\n",
    "\n",
    "drive.mount('/content/drive')"
   ]
  },
  {
   "cell_type": "code",
   "execution_count": 1,
   "metadata": {
    "id": "IkVT9cHLNSaP"
   },
   "outputs": [],
   "source": [
    "import pandas as pd\n",
    "import re"
   ]
  },
  {
   "cell_type": "markdown",
   "metadata": {
    "id": "-ICrpKpSehc4"
   },
   "source": [
    "## Important!! Remember to replace file paths with the correct ones when running this code locally"
   ]
  },
  {
   "cell_type": "code",
   "execution_count": 13,
   "metadata": {
    "id": "qZXHHDGlPw3x"
   },
   "outputs": [],
   "source": [
    "# extract relevant columns from both excel sheets\n",
    "\n",
    "# replace this with relevant file path\n",
    "fp = 'C:\\Maite\\MOD\\projects\\Monika_Bednarek\\Evaluation_quotes\\Data\\CBC_qt_output\\2023_01_jan_CBC_news_qt.xlsx'\n",
    "\n",
    "full_df = pd.read_excel(fp, sheet_name = 'full', usecols = [\"text_id\", \"text_name\", \"quote\", \"speaker\", \"verb\"])\n",
    "\n",
    "non_quotes_df = pd.read_excel(fp, sheet_name = 'non_quoted_text')"
   ]
  },
  {
   "cell_type": "code",
   "execution_count": null,
   "metadata": {
    "id": "2isgxFFJQYgg"
   },
   "outputs": [],
   "source": [
    "# check number of articles in the non_quoted_text sheet\n",
    "len(non_quotes_df)"
   ]
  },
  {
   "cell_type": "code",
   "execution_count": null,
   "metadata": {
    "id": "BYMo74j1X6Vv"
   },
   "outputs": [],
   "source": [
    "# check number of articles in the full sheet\n",
    "unique_ids = full_df['text_id'].nunique()\n",
    "\n",
    "unique_names = full_df['text_name'].nunique()\n",
    "\n",
    "print(\"number of unique ids: \", unique_ids)\n",
    "print(\"number of unique names: \", unique_names)"
   ]
  },
  {
   "cell_type": "code",
   "execution_count": null,
   "metadata": {
    "id": "ALr0ilvrROaN"
   },
   "outputs": [],
   "source": [
    "# merge quotes, speakes, verbs separated by newline\n",
    "merged_df = full_df.groupby(['text_id', 'text_name']).agg({\n",
    "    'quote': lambda x: '\\n'.join(x),\n",
    "    'speaker': lambda x: '\\n'.join(map(str, x)),\n",
    "    'verb': lambda x: '\\n'.join(map(str, x))\n",
    "}).reset_index()\n",
    "\n",
    "merged_df.head()"
   ]
  },
  {
   "cell_type": "code",
   "execution_count": 17,
   "metadata": {
    "id": "s8YyX75sSr4D"
   },
   "outputs": [],
   "source": [
    "# clean up speaker and verb columns by replacing 'nan' with newlines\n",
    "for index, row in merged_df.iterrows():\n",
    "  speakers = re.sub(r'nan', '\\n', merged_df.loc[index, 'speaker'])\n",
    "  verbs = re.sub(r'nan', '\\n', merged_df.loc[index, 'verb'])\n",
    "\n",
    "  merged_df.loc[index, 'speaker'] = speakers\n",
    "  merged_df.loc[index, 'verb'] = verbs"
   ]
  },
  {
   "cell_type": "code",
   "execution_count": null,
   "metadata": {
    "id": "qlB8c4o8UvCX"
   },
   "outputs": [],
   "source": [
    "# merge the updated full dataframe with the non_quotes dataframe\n",
    "# with the new headers text_id, text_name, quote, speaker, verb, non_quoted_text\n",
    "output_df = pd.merge(merged_df, non_quotes_df, on=['text_id', 'text_name'])\n",
    "\n",
    "output_df.head()"
   ]
  },
  {
   "cell_type": "markdown",
   "metadata": {
    "id": "f6o0aYhZesyo"
   },
   "source": [
    "## Remember to replace the output file path with your own specifications"
   ]
  },
  {
   "cell_type": "code",
   "execution_count": 19,
   "metadata": {
    "id": "6KFB6rbTZH7l"
   },
   "outputs": [],
   "source": [
    "# write dataframe to excel sheet\n",
    "# replace this file path with the correct/relevant file path\n",
    "output = 'C:\\Maite\\MOD\\projects\\Monika_Bednarek\\Evaluation_quotes\\Data\\CBC_qt_output\\2023_01_jan_CBC_news_qt_clean.xlsx'\n",
    "\n",
    "output_df.to_excel(output, index=False)"
   ]
  }
 ],
 "metadata": {
  "colab": {
   "provenance": []
  },
  "kernelspec": {
   "display_name": "Python 3",
   "language": "python",
   "name": "python3"
  },
  "language_info": {
   "codemirror_mode": {
    "name": "ipython",
    "version": 3
   },
   "file_extension": ".py",
   "mimetype": "text/x-python",
   "name": "python",
   "nbconvert_exporter": "python",
   "pygments_lexer": "ipython3",
   "version": "3.8.5"
  }
 },
 "nbformat": 4,
 "nbformat_minor": 1
}
