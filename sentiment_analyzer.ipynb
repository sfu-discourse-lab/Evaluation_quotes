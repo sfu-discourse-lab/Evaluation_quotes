{
  "nbformat": 4,
  "nbformat_minor": 0,
  "metadata": {
    "colab": {
      "provenance": []
    },
    "kernelspec": {
      "name": "python3",
      "display_name": "Python 3"
    },
    "language_info": {
      "name": "python"
    }
  },
  "cells": [
    {
      "cell_type": "markdown",
      "source": [
        "# Sentiment Analyzer for News Quotes\n",
        "\n",
        "1. Read cleaned data into a pandas dataframe\n",
        "2. Pass quotes from each article into sentiment analyzer\n",
        "3. Save output into new columns 'negative', 'neutral', 'positive', 'compound'\n",
        "4. Save output into new excel sheet with two sheets, one for quotes and one for non-quotes"
      ],
      "metadata": {
        "id": "RG1_hbnQbPlQ"
      }
    },
    {
      "cell_type": "code",
      "execution_count": null,
      "metadata": {
        "id": "bhjOINLHbELR"
      },
      "outputs": [],
      "source": [
        "# run this code if connecting to a Google drive\n",
        "from google.colab import drive\n",
        "\n",
        "drive.mount('/content/drive')"
      ]
    },
    {
      "cell_type": "code",
      "source": [
        "!pip install vaderSentiment"
      ],
      "metadata": {
        "id": "JfZEJ-7meKr4"
      },
      "execution_count": null,
      "outputs": []
    },
    {
      "cell_type": "code",
      "source": [
        "import pandas as pd\n",
        "from vaderSentiment.vaderSentiment import SentimentIntensityAnalyzer"
      ],
      "metadata": {
        "id": "RIRCT71CeIOr"
      },
      "execution_count": 3,
      "outputs": []
    },
    {
      "cell_type": "markdown",
      "source": [
        "## Extracting Data from Excel Files"
      ],
      "metadata": {
        "id": "gW1EacgmeTc7"
      }
    },
    {
      "cell_type": "code",
      "source": [
        "# replace with quotes_input.xlsx\n",
        "fp = '/content/drive/My Drive/evaluation_quotes/quotes_input.xlsx'\n",
        "\n",
        "quotes_df = pd.read_excel(fp, usecols = [\"text_id\", \"text_name\", \"quote\", \"speaker\", \"verb\"])\n",
        "\n",
        "non_quotes_df = pd.read_excel(fp, usecols = [\"text_id\", \"text_name\", \"non_quoted_text\"])"
      ],
      "metadata": {
        "id": "UdKIjPwKeSwd"
      },
      "execution_count": 22,
      "outputs": []
    },
    {
      "cell_type": "code",
      "source": [
        "# add new columns to dataframes\n",
        "quotes_df['negative'] = pd.Series(dtype='float')\n",
        "quotes_df['neutral'] = pd.Series(dtype='float')\n",
        "quotes_df['positive'] = pd.Series(dtype='float')\n",
        "quotes_df['compound'] = pd.Series(dtype='float')\n",
        "\n",
        "non_quotes_df['negative'] = pd.Series(dtype='float')\n",
        "non_quotes_df['neutral'] = pd.Series(dtype='float')\n",
        "non_quotes_df['positive'] = pd.Series(dtype='float')\n",
        "non_quotes_df['compound'] = pd.Series(dtype='float')"
      ],
      "metadata": {
        "id": "dagWdg12lOI4"
      },
      "execution_count": 23,
      "outputs": []
    },
    {
      "cell_type": "markdown",
      "source": [
        "## Running Quotes through VADER\n",
        "\n",
        "Vader Documentation: https://github.com/cjhutto/vaderSentiment\n",
        "\n",
        "Guide to using Vader: https://medium.com/@rslavanyageetha/vader-a-comprehensive-guide-to-sentiment-analysis-in-python-c4f1868b0d2e\n",
        "\n",
        "Vader sentiment analyzer returns a dictionary of sentiment intensity scores for\n",
        "a particular text input with the following sentiments: negative, neutral,\n",
        "positive, and compound for overall sentiment intensity. The negative, neutral,\n",
        "and positive scores have a value from 0 to 1 and compound scores have a\n",
        "value from -1 to 1, with -1 indicating entirely negative, 0 indicating\n",
        "entirely neutral, and 1 indicating entirely positive.\n"
      ],
      "metadata": {
        "id": "rn8yx9rFhS2T"
      }
    },
    {
      "cell_type": "code",
      "source": [
        "# helper function to extract scores for each story\n",
        "# args: dataframe, column name of text to be analyzed as a string\n",
        "def get_sentiment_score(df, col):\n",
        "\n",
        "  for index, row in df.iterrows():\n",
        "    analyzer = SentimentIntensityAnalyzer()\n",
        "    score = analyzer.polarity_scores(df[col][index])\n",
        "\n",
        "    df.loc[index, 'negative'] = score['neg']\n",
        "    df.loc[index, 'neutral'] = score['neu']\n",
        "    df.loc[index, 'positive'] = score['pos']\n",
        "    df.loc[index, 'compound'] = score['compound']"
      ],
      "metadata": {
        "id": "sncldllAinK1"
      },
      "execution_count": 24,
      "outputs": []
    },
    {
      "cell_type": "code",
      "source": [
        "get_sentiment_score(quotes_df, 'quote')"
      ],
      "metadata": {
        "id": "0BHvVGmngPKo"
      },
      "execution_count": 25,
      "outputs": []
    },
    {
      "cell_type": "code",
      "source": [
        "quotes_df.head()"
      ],
      "metadata": {
        "id": "Sb1t0s5grHyv"
      },
      "execution_count": null,
      "outputs": []
    },
    {
      "cell_type": "code",
      "source": [
        "get_sentiment_score(non_quotes_df, 'non_quoted_text')"
      ],
      "metadata": {
        "id": "GWbhOkevswxr"
      },
      "execution_count": 27,
      "outputs": []
    },
    {
      "cell_type": "code",
      "source": [
        "non_quotes_df.head()"
      ],
      "metadata": {
        "id": "KBRIMdV3tbd6"
      },
      "execution_count": null,
      "outputs": []
    },
    {
      "cell_type": "code",
      "source": [
        "# create a third dataframe to directly compare compound scores between quotes and non quotes\n",
        "scores_comp_df = pd.merge(quotes_df[['text_id', 'text_name', 'compound']],\n",
        "                          non_quotes_df[['text_id', 'text_name', 'compound']],\n",
        "                          on=['text_id', 'text_name'],\n",
        "                          suffixes=('_quotes', '_non_quotes'))\n",
        "\n",
        "scores_comp_df.rename(columns={'compound_quotes': 'quote_score', 'compound_non_quotes': 'non_quote_score'}, inplace=True)\n",
        "\n",
        "scores_comp_df.head()"
      ],
      "metadata": {
        "id": "gYSn8o4Ri4HU"
      },
      "execution_count": null,
      "outputs": []
    },
    {
      "cell_type": "markdown",
      "source": [
        "## Write Output to New Workbook"
      ],
      "metadata": {
        "id": "ICLfCIHhtvOp"
      }
    },
    {
      "cell_type": "code",
      "source": [
        "!pip install xlsxwriter"
      ],
      "metadata": {
        "id": "cKjUTq3Uwg9j"
      },
      "execution_count": null,
      "outputs": []
    },
    {
      "cell_type": "code",
      "source": [
        "# replace with 'quotes_sentiment.xlsx'\n",
        "output = '/content/drive/My Drive/evaluation_quotes/quotes_sentiment.xlsx'\n",
        "\n",
        "# create excel writer object to initialize new workbook\n",
        "writer = pd.ExcelWriter(output, engine=\"xlsxwriter\")\n",
        "\n",
        "# write dataframes to different worksheets\n",
        "quotes_df.to_excel(writer, sheet_name=\"quotes\", index=False)\n",
        "non_quotes_df.to_excel(writer, sheet_name=\"non_quotes\", index=False)\n",
        "scores_comp_df.to_excel(writer, sheet_name=\"scores_comp\", index=False)\n",
        "\n",
        "# close the excel writer and output file\n",
        "writer.close()"
      ],
      "metadata": {
        "id": "knDTwEawj5yb"
      },
      "execution_count": 30,
      "outputs": []
    }
  ]
}