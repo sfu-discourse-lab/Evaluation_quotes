{
 "cells": [
  {
   "cell_type": "markdown",
   "metadata": {},
   "source": [
    "## Counting final numbers of files\n",
    "\n",
    "For project analyzing the evaluative content of quotes vs. non-quotes.\n",
    "\n",
    "This notebook does a sanity check, counting the rows in all the month files, once passed throught the QT and VADER. "
   ]
  },
  {
   "cell_type": "code",
   "execution_count": 20,
   "metadata": {},
   "outputs": [],
   "source": [
    "import pandas as pd\n",
    "import os"
   ]
  },
  {
   "cell_type": "code",
   "execution_count": 21,
   "metadata": {},
   "outputs": [],
   "source": [
    "directory = 'C:/Maite/MOD/projects/Monika_Bednarek/Evaluation_quotes/Data/CBC_sentiment_output'"
   ]
  },
  {
   "cell_type": "markdown",
   "metadata": {},
   "source": [
    "## Read all csv files and start a df with the counts"
   ]
  },
  {
   "cell_type": "code",
   "execution_count": 23,
   "metadata": {},
   "outputs": [],
   "source": [
    "# Create a list to store the number of rows\n",
    "data = []\n",
    "\n",
    "# Iterate through all files in the directory\n",
    "for filename in os.listdir(directory):\n",
    "    if filename.endswith('.xlsx') and filename.startswith('2023'): \n",
    "        file_path = os.path.join(directory, filename)\n",
    "        \n",
    "        df = pd.read_excel(file_path)\n",
    "        \n",
    "        # Count the number of rows (excluding the header)\n",
    "        row_count = df.shape[0]\n",
    "        \n",
    "        # Append the filename and row count to the data list\n",
    "        data.append({'filename': filename, 'row_count': row_count})\n",
    "\n",
    "# Create a DataFrame from the data list\n",
    "rows_df = pd.DataFrame(data)"
   ]
  },
  {
   "cell_type": "code",
   "execution_count": 25,
   "metadata": {},
   "outputs": [
    {
     "name": "stdout",
     "output_type": "stream",
     "text": [
      "                               filename  row_count\n",
      "0   2023_01_jan_CBC_news_sentiment.xlsx       4215\n",
      "1   2023_02_feb_CBC_news_sentiment.xlsx       4048\n",
      "2   2023_03_mar_CBC_news_sentiment.xlsx       4523\n",
      "3   2023_04_apr_CBC_news_sentiment.xlsx       3939\n",
      "4   2023_05_may_CBC_news_sentiment.xlsx       4415\n",
      "5   2023_06_jun_CBC_news_sentiment.xlsx       4251\n",
      "6   2023_07_jul_CBC_news_sentiment.xlsx       3925\n",
      "7   2023_08_aug_CBC_news_sentiment.xlsx       3820\n",
      "8   2023_09_sep_CBC_news_sentiment.xlsx       3956\n",
      "9   2023_10_oct_CBC_news_sentiment.xlsx       4026\n",
      "10  2023_11_nov_CBC_news_sentiment.xlsx       4048\n",
      "11  2023_12_dec_CBC_news_sentiment.xlsx       3520\n",
      "Total number of rows across all files: 48686\n"
     ]
    }
   ],
   "source": [
    "# Sum all the rows\n",
    "total_rows = rows_df['row_count'].sum()\n",
    "\n",
    "# Display the DataFrame and total rows\n",
    "print(rows_df)\n",
    "print(f'Total number of rows across all files: {total_rows}')"
   ]
  },
  {
   "cell_type": "markdown",
   "metadata": {},
   "source": [
    "## Second sanity check\n",
    "How many in the input files?"
   ]
  },
  {
   "cell_type": "code",
   "execution_count": 26,
   "metadata": {},
   "outputs": [],
   "source": [
    "directory_input = 'C:/Maite/MOD/projects/Monika_Bednarek/Evaluation_quotes/Data/CBC_input'"
   ]
  },
  {
   "cell_type": "code",
   "execution_count": 31,
   "metadata": {},
   "outputs": [
    {
     "data": {
      "text/plain": [
       "'C:/Maite/MOD/projects/Monika_Bednarek/Evaluation_quotes/Data/CBC_input'"
      ]
     },
     "execution_count": 31,
     "metadata": {},
     "output_type": "execute_result"
    }
   ],
   "source": [
    "directory_input"
   ]
  },
  {
   "cell_type": "code",
   "execution_count": 38,
   "metadata": {},
   "outputs": [],
   "source": [
    "data_input = []\n",
    "\n",
    "# here I'm doing it with the csv files in the dir. I don't seem to have all the xlsx\n",
    "for filename in os.listdir(directory_input):\n",
    "    if filename.endswith('.csv') and filename.startswith('2023'): \n",
    "        file_path = os.path.join(directory_input, filename)\n",
    "        \n",
    "        df_input = pd.read_csv(file_path)\n",
    "        \n",
    "        row_count_input = df_input.shape[0]\n",
    "        \n",
    "        data_input.append({'filename': filename, 'row_count': row_count_input})\n",
    "\n",
    "rows_df_input = pd.DataFrame(data_input)"
   ]
  },
  {
   "cell_type": "code",
   "execution_count": 40,
   "metadata": {},
   "outputs": [
    {
     "name": "stdout",
     "output_type": "stream",
     "text": [
      "                    filename  row_count\n",
      "0   2023_01_jan_CBC_news.csv       4531\n",
      "1   2023_02_feb_CBC_news.csv       4419\n",
      "2   2023_03_mar_CBC_news.csv       4940\n",
      "3   2023_04_apr_CBC_news.csv       4282\n",
      "4   2023_05_may_CBC_news.csv       4734\n",
      "5   2023_06_jun_CBC_news.csv       4574\n",
      "6   2023_07_jul_CBC_news.csv       4193\n",
      "7   2023_08_aug_CBC_news.csv       4124\n",
      "8   2023_09_sep_CBC_news.csv       4202\n",
      "9   2023_10_oct_CBC_news.csv       4289\n",
      "10  2023_11_nov_CBC_news.csv       4277\n",
      "11  2023_12_dec_CBC_news.csv       3760\n",
      "Total input rows: 52325\n"
     ]
    }
   ],
   "source": [
    "total_rows_input = rows_df_input['row_count'].sum()\n",
    "\n",
    "print(rows_df_input)\n",
    "print(f'Total input rows: {total_rows_input}')"
   ]
  },
  {
   "cell_type": "code",
   "execution_count": null,
   "metadata": {},
   "outputs": [],
   "source": []
  }
 ],
 "metadata": {
  "kernelspec": {
   "display_name": "Python 3 (ipykernel)",
   "language": "python",
   "name": "python3"
  },
  "language_info": {
   "codemirror_mode": {
    "name": "ipython",
    "version": 3
   },
   "file_extension": ".py",
   "mimetype": "text/x-python",
   "name": "python",
   "nbconvert_exporter": "python",
   "pygments_lexer": "ipython3",
   "version": "3.9.7"
  }
 },
 "nbformat": 4,
 "nbformat_minor": 2
}
