{
 "cells": [
  {
   "cell_type": "markdown",
   "metadata": {
    "id": "RG1_hbnQbPlQ"
   },
   "source": [
    "# Sentiment Analyzer for News Quotes\n",
    "\n",
    "1. Read cleaned data into a pandas dataframe\n",
    "2. Pass quotes from each article into sentiment analyzer\n",
    "3. Save output into new columns 'negative', 'neutral', 'positive', 'compound'\n",
    "4. Save output into new excel sheet with two sheets, one for quotes and one for non-quotes"
   ]
  },
  {
   "cell_type": "code",
   "execution_count": null,
   "metadata": {
    "id": "bhjOINLHbELR"
   },
   "outputs": [],
   "source": [
    "# run this code if connecting to a Google drive\n",
    "from google.colab import drive\n",
    "\n",
    "drive.mount('/content/drive')"
   ]
  },
  {
   "cell_type": "code",
   "execution_count": 1,
   "metadata": {
    "id": "JfZEJ-7meKr4"
   },
   "outputs": [
    {
     "name": "stdout",
     "output_type": "stream",
     "text": [
      "Collecting vaderSentiment\n",
      "  Downloading vaderSentiment-3.3.2-py2.py3-none-any.whl.metadata (572 bytes)\n",
      "Requirement already satisfied: requests in c:\\anaconda\\lib\\site-packages (from vaderSentiment) (2.24.0)\n",
      "Requirement already satisfied: chardet<4,>=3.0.2 in c:\\anaconda\\lib\\site-packages (from requests->vaderSentiment) (3.0.4)\n",
      "Requirement already satisfied: idna<3,>=2.5 in c:\\anaconda\\lib\\site-packages (from requests->vaderSentiment) (2.10)\n",
      "Requirement already satisfied: urllib3!=1.25.0,!=1.25.1,<1.26,>=1.21.1 in c:\\anaconda\\lib\\site-packages (from requests->vaderSentiment) (1.25.11)\n",
      "Requirement already satisfied: certifi>=2017.4.17 in c:\\anaconda\\lib\\site-packages (from requests->vaderSentiment) (2020.6.20)\n",
      "Downloading vaderSentiment-3.3.2-py2.py3-none-any.whl (125 kB)\n",
      "   ---------------------------------------- 126.0/126.0 kB 2.5 MB/s eta 0:00:00\n",
      "Installing collected packages: vaderSentiment\n",
      "Successfully installed vaderSentiment-3.3.2\n"
     ]
    },
    {
     "name": "stderr",
     "output_type": "stream",
     "text": [
      "DEPRECATION: pyodbc 4.0.0-unsupported has a non-standard version number. pip 24.1 will enforce this behaviour change. A possible replacement is to upgrade to a newer version of pyodbc or contact the author to suggest that they release a version with a conforming version number. Discussion can be found at https://github.com/pypa/pip/issues/12063\n",
      "\n",
      "[notice] A new release of pip is available: 24.0 -> 24.2\n",
      "[notice] To update, run: python.exe -m pip install --upgrade pip\n"
     ]
    }
   ],
   "source": [
    "!pip install vaderSentiment"
   ]
  },
  {
   "cell_type": "code",
   "execution_count": 2,
   "metadata": {
    "id": "RIRCT71CeIOr"
   },
   "outputs": [],
   "source": [
    "import pandas as pd\n",
    "from vaderSentiment.vaderSentiment import SentimentIntensityAnalyzer"
   ]
  },
  {
   "cell_type": "markdown",
   "metadata": {
    "id": "gW1EacgmeTc7"
   },
   "source": [
    "## Extracting Data from Excel Files"
   ]
  },
  {
   "cell_type": "code",
   "execution_count": 3,
   "metadata": {
    "id": "UdKIjPwKeSwd"
   },
   "outputs": [],
   "source": [
    "# replace with quotes_input.xlsx\n",
    "fp = 'C:\\Maite\\MOD\\projects\\Monika_Bednarek\\Evaluation_quotes\\Data\\CBC_qt_output\\jan_CBC_news_qt_clean.xlsx'\n",
    "\n",
    "quotes_df = pd.read_excel(fp, usecols = [\"text_id\", \"text_name\", \"quote\", \"speaker\", \"verb\"])\n",
    "\n",
    "non_quotes_df = pd.read_excel(fp, usecols = [\"text_id\", \"text_name\", \"non_quoted_text\"])"
   ]
  },
  {
   "cell_type": "code",
   "execution_count": 4,
   "metadata": {
    "id": "dagWdg12lOI4"
   },
   "outputs": [],
   "source": [
    "# add new columns to dataframes\n",
    "quotes_df['negative'] = pd.Series(dtype='float')\n",
    "quotes_df['neutral'] = pd.Series(dtype='float')\n",
    "quotes_df['positive'] = pd.Series(dtype='float')\n",
    "quotes_df['compound'] = pd.Series(dtype='float')\n",
    "\n",
    "non_quotes_df['negative'] = pd.Series(dtype='float')\n",
    "non_quotes_df['neutral'] = pd.Series(dtype='float')\n",
    "non_quotes_df['positive'] = pd.Series(dtype='float')\n",
    "non_quotes_df['compound'] = pd.Series(dtype='float')"
   ]
  },
  {
   "cell_type": "markdown",
   "metadata": {
    "id": "rn8yx9rFhS2T"
   },
   "source": [
    "## Running Quotes through VADER\n",
    "\n",
    "Vader Documentation: https://github.com/cjhutto/vaderSentiment\n",
    "\n",
    "Guide to using Vader: https://medium.com/@rslavanyageetha/vader-a-comprehensive-guide-to-sentiment-analysis-in-python-c4f1868b0d2e\n",
    "\n",
    "Vader sentiment analyzer returns a dictionary of sentiment intensity scores for\n",
    "a particular text input with the following sentiments: negative, neutral,\n",
    "positive, and compound for overall sentiment intensity. The negative, neutral,\n",
    "and positive scores have a value from 0 to 1 and compound scores have a\n",
    "value from -1 to 1, with -1 indicating entirely negative, 0 indicating\n",
    "entirely neutral, and 1 indicating entirely positive.\n"
   ]
  },
  {
   "cell_type": "code",
   "execution_count": 5,
   "metadata": {
    "id": "sncldllAinK1"
   },
   "outputs": [],
   "source": [
    "# helper function to extract scores for each story\n",
    "# args: dataframe, column name of text to be analyzed as a string\n",
    "def get_sentiment_score(df, col):\n",
    "\n",
    "  for index, row in df.iterrows():\n",
    "    analyzer = SentimentIntensityAnalyzer()\n",
    "    score = analyzer.polarity_scores(df[col][index])\n",
    "\n",
    "    df.loc[index, 'negative'] = score['neg']\n",
    "    df.loc[index, 'neutral'] = score['neu']\n",
    "    df.loc[index, 'positive'] = score['pos']\n",
    "    df.loc[index, 'compound'] = score['compound']"
   ]
  },
  {
   "cell_type": "code",
   "execution_count": 6,
   "metadata": {
    "id": "0BHvVGmngPKo"
   },
   "outputs": [],
   "source": [
    "get_sentiment_score(quotes_df, 'quote')"
   ]
  },
  {
   "cell_type": "code",
   "execution_count": 7,
   "metadata": {
    "id": "Sb1t0s5grHyv"
   },
   "outputs": [
    {
     "data": {
      "text/html": [
       "<div>\n",
       "<style scoped>\n",
       "    .dataframe tbody tr th:only-of-type {\n",
       "        vertical-align: middle;\n",
       "    }\n",
       "\n",
       "    .dataframe tbody tr th {\n",
       "        vertical-align: top;\n",
       "    }\n",
       "\n",
       "    .dataframe thead th {\n",
       "        text-align: right;\n",
       "    }\n",
       "</style>\n",
       "<table border=\"1\" class=\"dataframe\">\n",
       "  <thead>\n",
       "    <tr style=\"text-align: right;\">\n",
       "      <th></th>\n",
       "      <th>text_id</th>\n",
       "      <th>text_name</th>\n",
       "      <th>quote</th>\n",
       "      <th>speaker</th>\n",
       "      <th>verb</th>\n",
       "      <th>negative</th>\n",
       "      <th>neutral</th>\n",
       "      <th>positive</th>\n",
       "      <th>compound</th>\n",
       "    </tr>\n",
       "  </thead>\n",
       "  <tbody>\n",
       "    <tr>\n",
       "      <th>0</th>\n",
       "      <td>0000aa72772aa87768a64b07ad46b2b2</td>\n",
       "      <td>text4186</td>\n",
       "      <td>the supports available to parents have been re...</td>\n",
       "      <td>Regev\\nRegev\\nCraigen Ecsy\\nCraigen Etsy\\nCrai...</td>\n",
       "      <td>said\\nsaid\\nsays\\nsaid\\nsaid\\nsaid\\nsaid\\nsaid...</td>\n",
       "      <td>0.197</td>\n",
       "      <td>0.757</td>\n",
       "      <td>0.046</td>\n",
       "      <td>-0.9804</td>\n",
       "    </tr>\n",
       "    <tr>\n",
       "      <th>1</th>\n",
       "      <td>00037f2c22648f99e666262e78237795</td>\n",
       "      <td>text3794</td>\n",
       "      <td>Wednesday's order from the 6th U.S. Circuit Co...</td>\n",
       "      <td>The Detroit News\\nThe suit\\nSteeh\\nThe appeals...</td>\n",
       "      <td>reported\\nclaims\\nsaid\\nsaying\\nsaid\\nsaying\\n...</td>\n",
       "      <td>0.035</td>\n",
       "      <td>0.859</td>\n",
       "      <td>0.106</td>\n",
       "      <td>0.9422</td>\n",
       "    </tr>\n",
       "    <tr>\n",
       "      <th>2</th>\n",
       "      <td>000a58dd6ee070d2490a2c029ce5e459</td>\n",
       "      <td>text3135</td>\n",
       "      <td>Mahomes underwent an MRI exam Sunday to better...</td>\n",
       "      <td>the person\\nMRI\\nMahomes\\nMahomes\\nMahomes\\nKa...</td>\n",
       "      <td>told\\nconfirmed\\nsaid\\nsaid\\nsaid\\nsaid\\nsaid\\...</td>\n",
       "      <td>0.044</td>\n",
       "      <td>0.808</td>\n",
       "      <td>0.148</td>\n",
       "      <td>0.9811</td>\n",
       "    </tr>\n",
       "    <tr>\n",
       "      <th>3</th>\n",
       "      <td>002a0b5bca38ecf64277e8efab0fab8b</td>\n",
       "      <td>text896</td>\n",
       "      <td>\"Maybe we use it for a couple of weeks, but\\nt...</td>\n",
       "      <td>Bowen\\nBowen\\nAnyone with a newspaper subscrip...</td>\n",
       "      <td>said\\nsaid\\ntell\\naccording to\\nsaid\\npredicts...</td>\n",
       "      <td>0.087</td>\n",
       "      <td>0.820</td>\n",
       "      <td>0.094</td>\n",
       "      <td>0.8682</td>\n",
       "    </tr>\n",
       "    <tr>\n",
       "      <th>4</th>\n",
       "      <td>0031f692b335fa20e28f398813f73afd</td>\n",
       "      <td>text4277</td>\n",
       "      <td>that based on preliminary evidence, five of th...</td>\n",
       "      <td>She\\nMonica Pirous, director of child, family ...</td>\n",
       "      <td>said\\nsaid\\nsaid\\nsaid\\nsaid\\nsaid\\nsaid\\nsaid...</td>\n",
       "      <td>0.083</td>\n",
       "      <td>0.823</td>\n",
       "      <td>0.094</td>\n",
       "      <td>0.0570</td>\n",
       "    </tr>\n",
       "  </tbody>\n",
       "</table>\n",
       "</div>"
      ],
      "text/plain": [
       "                            text_id text_name  \\\n",
       "0  0000aa72772aa87768a64b07ad46b2b2  text4186   \n",
       "1  00037f2c22648f99e666262e78237795  text3794   \n",
       "2  000a58dd6ee070d2490a2c029ce5e459  text3135   \n",
       "3  002a0b5bca38ecf64277e8efab0fab8b   text896   \n",
       "4  0031f692b335fa20e28f398813f73afd  text4277   \n",
       "\n",
       "                                               quote  \\\n",
       "0  the supports available to parents have been re...   \n",
       "1  Wednesday's order from the 6th U.S. Circuit Co...   \n",
       "2  Mahomes underwent an MRI exam Sunday to better...   \n",
       "3  \"Maybe we use it for a couple of weeks, but\\nt...   \n",
       "4  that based on preliminary evidence, five of th...   \n",
       "\n",
       "                                             speaker  \\\n",
       "0  Regev\\nRegev\\nCraigen Ecsy\\nCraigen Etsy\\nCrai...   \n",
       "1  The Detroit News\\nThe suit\\nSteeh\\nThe appeals...   \n",
       "2  the person\\nMRI\\nMahomes\\nMahomes\\nMahomes\\nKa...   \n",
       "3  Bowen\\nBowen\\nAnyone with a newspaper subscrip...   \n",
       "4  She\\nMonica Pirous, director of child, family ...   \n",
       "\n",
       "                                                verb  negative  neutral  \\\n",
       "0  said\\nsaid\\nsays\\nsaid\\nsaid\\nsaid\\nsaid\\nsaid...     0.197    0.757   \n",
       "1  reported\\nclaims\\nsaid\\nsaying\\nsaid\\nsaying\\n...     0.035    0.859   \n",
       "2  told\\nconfirmed\\nsaid\\nsaid\\nsaid\\nsaid\\nsaid\\...     0.044    0.808   \n",
       "3  said\\nsaid\\ntell\\naccording to\\nsaid\\npredicts...     0.087    0.820   \n",
       "4  said\\nsaid\\nsaid\\nsaid\\nsaid\\nsaid\\nsaid\\nsaid...     0.083    0.823   \n",
       "\n",
       "   positive  compound  \n",
       "0     0.046   -0.9804  \n",
       "1     0.106    0.9422  \n",
       "2     0.148    0.9811  \n",
       "3     0.094    0.8682  \n",
       "4     0.094    0.0570  "
      ]
     },
     "execution_count": 7,
     "metadata": {},
     "output_type": "execute_result"
    }
   ],
   "source": [
    "quotes_df.head()"
   ]
  },
  {
   "cell_type": "code",
   "execution_count": 8,
   "metadata": {
    "id": "GWbhOkevswxr"
   },
   "outputs": [],
   "source": [
    "get_sentiment_score(non_quotes_df, 'non_quoted_text')"
   ]
  },
  {
   "cell_type": "code",
   "execution_count": 9,
   "metadata": {
    "id": "KBRIMdV3tbd6"
   },
   "outputs": [
    {
     "data": {
      "text/html": [
       "<div>\n",
       "<style scoped>\n",
       "    .dataframe tbody tr th:only-of-type {\n",
       "        vertical-align: middle;\n",
       "    }\n",
       "\n",
       "    .dataframe tbody tr th {\n",
       "        vertical-align: top;\n",
       "    }\n",
       "\n",
       "    .dataframe thead th {\n",
       "        text-align: right;\n",
       "    }\n",
       "</style>\n",
       "<table border=\"1\" class=\"dataframe\">\n",
       "  <thead>\n",
       "    <tr style=\"text-align: right;\">\n",
       "      <th></th>\n",
       "      <th>text_id</th>\n",
       "      <th>text_name</th>\n",
       "      <th>non_quoted_text</th>\n",
       "      <th>negative</th>\n",
       "      <th>neutral</th>\n",
       "      <th>positive</th>\n",
       "      <th>compound</th>\n",
       "    </tr>\n",
       "  </thead>\n",
       "  <tbody>\n",
       "    <tr>\n",
       "      <th>0</th>\n",
       "      <td>0000aa72772aa87768a64b07ad46b2b2</td>\n",
       "      <td>text4186</td>\n",
       "      <td>This story is part of Amy Bell's Parental Guid...</td>\n",
       "      <td>0.147</td>\n",
       "      <td>0.715</td>\n",
       "      <td>0.137</td>\n",
       "      <td>-0.8884</td>\n",
       "    </tr>\n",
       "    <tr>\n",
       "      <th>1</th>\n",
       "      <td>00037f2c22648f99e666262e78237795</td>\n",
       "      <td>text3794</td>\n",
       "      <td>A U.S. federal appeals court has ordered a Det...</td>\n",
       "      <td>0.030</td>\n",
       "      <td>0.958</td>\n",
       "      <td>0.012</td>\n",
       "      <td>-0.4019</td>\n",
       "    </tr>\n",
       "    <tr>\n",
       "      <th>2</th>\n",
       "      <td>000a58dd6ee070d2490a2c029ce5e459</td>\n",
       "      <td>text3135</td>\n",
       "      <td>Patrick Mahomes sustained a right high ankle s...</td>\n",
       "      <td>0.056</td>\n",
       "      <td>0.881</td>\n",
       "      <td>0.063</td>\n",
       "      <td>0.4338</td>\n",
       "    </tr>\n",
       "    <tr>\n",
       "      <th>3</th>\n",
       "      <td>002a0b5bca38ecf64277e8efab0fab8b</td>\n",
       "      <td>text896</td>\n",
       "      <td>When Mississauga, Ont.-based money coach Vanes...</td>\n",
       "      <td>0.073</td>\n",
       "      <td>0.863</td>\n",
       "      <td>0.064</td>\n",
       "      <td>-0.8461</td>\n",
       "    </tr>\n",
       "    <tr>\n",
       "      <th>4</th>\n",
       "      <td>0031f692b335fa20e28f398813f73afd</td>\n",
       "      <td>text4277</td>\n",
       "      <td>Residents of Hay River, N.W.T., are answering ...</td>\n",
       "      <td>0.071</td>\n",
       "      <td>0.863</td>\n",
       "      <td>0.066</td>\n",
       "      <td>-0.0978</td>\n",
       "    </tr>\n",
       "  </tbody>\n",
       "</table>\n",
       "</div>"
      ],
      "text/plain": [
       "                            text_id text_name  \\\n",
       "0  0000aa72772aa87768a64b07ad46b2b2  text4186   \n",
       "1  00037f2c22648f99e666262e78237795  text3794   \n",
       "2  000a58dd6ee070d2490a2c029ce5e459  text3135   \n",
       "3  002a0b5bca38ecf64277e8efab0fab8b   text896   \n",
       "4  0031f692b335fa20e28f398813f73afd  text4277   \n",
       "\n",
       "                                     non_quoted_text  negative  neutral  \\\n",
       "0  This story is part of Amy Bell's Parental Guid...     0.147    0.715   \n",
       "1  A U.S. federal appeals court has ordered a Det...     0.030    0.958   \n",
       "2  Patrick Mahomes sustained a right high ankle s...     0.056    0.881   \n",
       "3  When Mississauga, Ont.-based money coach Vanes...     0.073    0.863   \n",
       "4  Residents of Hay River, N.W.T., are answering ...     0.071    0.863   \n",
       "\n",
       "   positive  compound  \n",
       "0     0.137   -0.8884  \n",
       "1     0.012   -0.4019  \n",
       "2     0.063    0.4338  \n",
       "3     0.064   -0.8461  \n",
       "4     0.066   -0.0978  "
      ]
     },
     "execution_count": 9,
     "metadata": {},
     "output_type": "execute_result"
    }
   ],
   "source": [
    "non_quotes_df.head()"
   ]
  },
  {
   "cell_type": "code",
   "execution_count": 10,
   "metadata": {
    "id": "gYSn8o4Ri4HU"
   },
   "outputs": [
    {
     "data": {
      "text/html": [
       "<div>\n",
       "<style scoped>\n",
       "    .dataframe tbody tr th:only-of-type {\n",
       "        vertical-align: middle;\n",
       "    }\n",
       "\n",
       "    .dataframe tbody tr th {\n",
       "        vertical-align: top;\n",
       "    }\n",
       "\n",
       "    .dataframe thead th {\n",
       "        text-align: right;\n",
       "    }\n",
       "</style>\n",
       "<table border=\"1\" class=\"dataframe\">\n",
       "  <thead>\n",
       "    <tr style=\"text-align: right;\">\n",
       "      <th></th>\n",
       "      <th>text_id</th>\n",
       "      <th>text_name</th>\n",
       "      <th>quote_score</th>\n",
       "      <th>non_quote_score</th>\n",
       "    </tr>\n",
       "  </thead>\n",
       "  <tbody>\n",
       "    <tr>\n",
       "      <th>0</th>\n",
       "      <td>0000aa72772aa87768a64b07ad46b2b2</td>\n",
       "      <td>text4186</td>\n",
       "      <td>-0.9804</td>\n",
       "      <td>-0.8884</td>\n",
       "    </tr>\n",
       "    <tr>\n",
       "      <th>1</th>\n",
       "      <td>00037f2c22648f99e666262e78237795</td>\n",
       "      <td>text3794</td>\n",
       "      <td>0.9422</td>\n",
       "      <td>-0.4019</td>\n",
       "    </tr>\n",
       "    <tr>\n",
       "      <th>2</th>\n",
       "      <td>000a58dd6ee070d2490a2c029ce5e459</td>\n",
       "      <td>text3135</td>\n",
       "      <td>0.9811</td>\n",
       "      <td>0.4338</td>\n",
       "    </tr>\n",
       "    <tr>\n",
       "      <th>3</th>\n",
       "      <td>002a0b5bca38ecf64277e8efab0fab8b</td>\n",
       "      <td>text896</td>\n",
       "      <td>0.8682</td>\n",
       "      <td>-0.8461</td>\n",
       "    </tr>\n",
       "    <tr>\n",
       "      <th>4</th>\n",
       "      <td>0031f692b335fa20e28f398813f73afd</td>\n",
       "      <td>text4277</td>\n",
       "      <td>0.0570</td>\n",
       "      <td>-0.0978</td>\n",
       "    </tr>\n",
       "  </tbody>\n",
       "</table>\n",
       "</div>"
      ],
      "text/plain": [
       "                            text_id text_name  quote_score  non_quote_score\n",
       "0  0000aa72772aa87768a64b07ad46b2b2  text4186      -0.9804          -0.8884\n",
       "1  00037f2c22648f99e666262e78237795  text3794       0.9422          -0.4019\n",
       "2  000a58dd6ee070d2490a2c029ce5e459  text3135       0.9811           0.4338\n",
       "3  002a0b5bca38ecf64277e8efab0fab8b   text896       0.8682          -0.8461\n",
       "4  0031f692b335fa20e28f398813f73afd  text4277       0.0570          -0.0978"
      ]
     },
     "execution_count": 10,
     "metadata": {},
     "output_type": "execute_result"
    }
   ],
   "source": [
    "# create a third dataframe to directly compare compound scores between quotes and non quotes\n",
    "scores_comp_df = pd.merge(quotes_df[['text_id', 'text_name', 'compound']],\n",
    "                          non_quotes_df[['text_id', 'text_name', 'compound']],\n",
    "                          on=['text_id', 'text_name'],\n",
    "                          suffixes=('_quotes', '_non_quotes'))\n",
    "\n",
    "scores_comp_df.rename(columns={'compound_quotes': 'quote_score', 'compound_non_quotes': 'non_quote_score'}, inplace=True)\n",
    "\n",
    "scores_comp_df.head()"
   ]
  },
  {
   "cell_type": "markdown",
   "metadata": {
    "id": "ICLfCIHhtvOp"
   },
   "source": [
    "## Write Output to New Workbook"
   ]
  },
  {
   "cell_type": "code",
   "execution_count": 11,
   "metadata": {
    "id": "cKjUTq3Uwg9j"
   },
   "outputs": [
    {
     "name": "stdout",
     "output_type": "stream",
     "text": [
      "Requirement already satisfied: xlsxwriter in c:\\anaconda\\lib\\site-packages (1.3.7)\n"
     ]
    },
    {
     "name": "stderr",
     "output_type": "stream",
     "text": [
      "DEPRECATION: pyodbc 4.0.0-unsupported has a non-standard version number. pip 24.1 will enforce this behaviour change. A possible replacement is to upgrade to a newer version of pyodbc or contact the author to suggest that they release a version with a conforming version number. Discussion can be found at https://github.com/pypa/pip/issues/12063\n",
      "\n",
      "[notice] A new release of pip is available: 24.0 -> 24.2\n",
      "[notice] To update, run: python.exe -m pip install --upgrade pip\n"
     ]
    }
   ],
   "source": [
    "!pip install xlsxwriter"
   ]
  },
  {
   "cell_type": "code",
   "execution_count": 12,
   "metadata": {
    "id": "knDTwEawj5yb"
   },
   "outputs": [],
   "source": [
    "# replace with 'quotes_sentiment.xlsx'\n",
    "output = 'C:\\Maite\\MOD\\projects\\Monika_Bednarek\\Evaluation_quotes\\Data\\CBC_sentiment_output\\jan_CBC_news_sentiment.xlsx'\n",
    "\n",
    "# create excel writer object to initialize new workbook\n",
    "writer = pd.ExcelWriter(output, engine=\"xlsxwriter\")\n",
    "\n",
    "# write dataframes to different worksheets\n",
    "quotes_df.to_excel(writer, sheet_name=\"quotes\", index=False)\n",
    "non_quotes_df.to_excel(writer, sheet_name=\"non_quotes\", index=False)\n",
    "scores_comp_df.to_excel(writer, sheet_name=\"scores_comp\", index=False)\n",
    "\n",
    "# close the excel writer and output file\n",
    "writer.close()"
   ]
  },
  {
   "cell_type": "code",
   "execution_count": null,
   "metadata": {},
   "outputs": [],
   "source": []
  }
 ],
 "metadata": {
  "colab": {
   "provenance": []
  },
  "kernelspec": {
   "display_name": "Python 3",
   "language": "python",
   "name": "python3"
  },
  "language_info": {
   "codemirror_mode": {
    "name": "ipython",
    "version": 3
   },
   "file_extension": ".py",
   "mimetype": "text/x-python",
   "name": "python",
   "nbconvert_exporter": "python",
   "pygments_lexer": "ipython3",
   "version": "3.8.5"
  }
 },
 "nbformat": 4,
 "nbformat_minor": 1
}
