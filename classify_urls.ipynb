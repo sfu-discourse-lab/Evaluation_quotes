{
 "cells": [
  {
   "cell_type": "markdown",
   "metadata": {},
   "source": [
    "## Create a classification of URLs\n",
    "\n",
    "For project analyzing the evaluative content of quotes vs. non-quotes.\n",
    "\n",
    "This notebook reads in the full CBC csv (in \"CBC_input\") and counts the number of:\n",
    "\n",
    "* types of things immediately after: http://cbc.ca/ or http://www.cbc.ca/ or https://cbc.ca/ or https://www.cbc.ca/\n",
    "* then, types of things immediately after that first / but before the last one\n",
    "\n",
    "For instance, in the first case, we get categories like \"books\", \"news\", or \"radio\":\n",
    "\n",
    "``` \n",
    "http://cbc.ca/books/the-great-beyond-by-léa-murawiec-translated-by-aleshia-jensen-1.6948864\n",
    "http://www.cbc.ca/news/canada/nova-scotia/hurricane-franklin-powerful-surf-atlantic-canada-1.6950427\n",
    "http://www.cbc.ca/radio/frontburner/as-fires-burn-n-w-t-s-premier-calls-out-ottawa-1.6951393\n",
    "https://www.cbc.ca/sports/the-buzzer-newsletter-world-athletics-championships-day-6-preview-1.6945499\n",
    "https://cbc.ca/radio/asithappens/pink-floyd-brain-scans-1.6939698\n",
    "\n",
    "```\n",
    "\n",
    "In the second, we get types of radio programs (as in \"frontburner\" above), but also types of news and other first-level categories:\n",
    "\n",
    "```\n",
    "http://www.cbc.ca/news/climate/northwest-territories-wildfires-1.6939337\n",
    "https://www.cbc.ca/sports/tennis/tennis-dc-open-handshake-warning-1.6923907\n",
    "\n",
    "```"
   ]
  },
  {
   "cell_type": "code",
   "execution_count": 15,
   "metadata": {},
   "outputs": [],
   "source": [
    "import pandas as pd\n",
    "import numpy as np\n",
    "import json\n",
    "from pandas import json_normalize\n",
    "import ast\n",
    "from ast import literal_eval\n",
    "import os\n",
    "import glob\n",
    "import re\n",
    "import matplotlib.pyplot as plt"
   ]
  },
  {
   "cell_type": "code",
   "execution_count": 2,
   "metadata": {},
   "outputs": [],
   "source": [
    "os.chdir(r'C:\\Maite\\MOD\\projects\\Monika_Bednarek\\Evaluation_quotes\\Data\\CBC_input')"
   ]
  },
  {
   "cell_type": "markdown",
   "metadata": {},
   "source": [
    "## Read original csv"
   ]
  },
  {
   "cell_type": "markdown",
   "metadata": {},
   "source": [
    "Testing this with August (because it's the shortest), but eventually I want to read `CBC_news_all_2023.csv`"
   ]
  },
  {
   "cell_type": "code",
   "execution_count": 3,
   "metadata": {},
   "outputs": [],
   "source": [
    "df = pd.read_csv('CBC_news_all_2023.csv', encoding = 'utf8')"
   ]
  },
  {
   "cell_type": "code",
   "execution_count": 4,
   "metadata": {},
   "outputs": [
    {
     "data": {
      "text/html": [
       "<div>\n",
       "<style scoped>\n",
       "    .dataframe tbody tr th:only-of-type {\n",
       "        vertical-align: middle;\n",
       "    }\n",
       "\n",
       "    .dataframe tbody tr th {\n",
       "        vertical-align: top;\n",
       "    }\n",
       "\n",
       "    .dataframe thead th {\n",
       "        text-align: right;\n",
       "    }\n",
       "</style>\n",
       "<table border=\"1\" class=\"dataframe\">\n",
       "  <thead>\n",
       "    <tr style=\"text-align: right;\">\n",
       "      <th></th>\n",
       "      <th>id</th>\n",
       "      <th>url</th>\n",
       "      <th>body</th>\n",
       "      <th>title</th>\n",
       "    </tr>\n",
       "  </thead>\n",
       "  <tbody>\n",
       "    <tr>\n",
       "      <th>0</th>\n",
       "      <td>63b0d066f642cd4562ec7be5</td>\n",
       "      <td>https://www.cbc.ca/sports/hockey/nhl/montreal-...</td>\n",
       "      <td>Alex Ovechkin recorded his 30th career hat tri...</td>\n",
       "      <td>Capitals' offence explodes for 9 goals to send...</td>\n",
       "    </tr>\n",
       "    <tr>\n",
       "      <th>1</th>\n",
       "      <td>63b0d065f642cd4562ec7bd0</td>\n",
       "      <td>https://www.cbc.ca/news/world/north-korea-incr...</td>\n",
       "      <td>North Korean leader Kim Jong-un vowed to incre...</td>\n",
       "      <td>Kim Jong-un vows to 'exponentially' increase N...</td>\n",
       "    </tr>\n",
       "    <tr>\n",
       "      <th>2</th>\n",
       "      <td>63b0eb8bf642cd4562ed022d</td>\n",
       "      <td>https://www.cbc.ca/news/canada/british-columbi...</td>\n",
       "      <td>Starting Monday Translink will modify 45 bus r...</td>\n",
       "      <td>Translink is changing service on 45 bus routes...</td>\n",
       "    </tr>\n",
       "    <tr>\n",
       "      <th>3</th>\n",
       "      <td>63b0f31df642cd4562ed34cc</td>\n",
       "      <td>https://www.cbc.ca/sports/hockey/canada-sweden...</td>\n",
       "      <td>Connor Bedard had four assists to tie Eric Lin...</td>\n",
       "      <td>Canada tops Sweden at men's world juniors to s...</td>\n",
       "    </tr>\n",
       "    <tr>\n",
       "      <th>4</th>\n",
       "      <td>63b0faa9f642cd4562ed62b4</td>\n",
       "      <td>https://www.cbc.ca/sports/hockey/nhl/ottawa-se...</td>\n",
       "      <td>Lucas Raymond had a goal and an assist, and th...</td>\n",
       "      <td>Red Wings score 4 unanswered goals to rally pa...</td>\n",
       "    </tr>\n",
       "    <tr>\n",
       "      <th>...</th>\n",
       "      <td>...</td>\n",
       "      <td>...</td>\n",
       "      <td>...</td>\n",
       "      <td>...</td>\n",
       "    </tr>\n",
       "    <tr>\n",
       "      <th>52320</th>\n",
       "      <td>6591e7ed58b434ef00c2bf9c</td>\n",
       "      <td>https://www.cbc.ca/news/world/israel-siblings-...</td>\n",
       "      <td>Israeli Maya Regev lay badly wounded in a nond...</td>\n",
       "      <td>Israeli siblings freed from Hamas describe pas...</td>\n",
       "    </tr>\n",
       "    <tr>\n",
       "      <th>52321</th>\n",
       "      <td>6591e87458b434ef00c2c26f</td>\n",
       "      <td>https://www.cbc.ca/sports/football/nfl/philade...</td>\n",
       "      <td>James Conner ran for a two-yard touchdown with...</td>\n",
       "      <td>Canadian rookie Sydney Brown returns intercept...</td>\n",
       "    </tr>\n",
       "    <tr>\n",
       "      <th>52322</th>\n",
       "      <td>6591f60658b434ef00c3239c</td>\n",
       "      <td>http://www.cbc.ca/news/world/israel-hamas-war-...</td>\n",
       "      <td>Israeli strikes in central Gaza killed at leas...</td>\n",
       "      <td>Israeli strikes in central Gaza kill at least ...</td>\n",
       "    </tr>\n",
       "    <tr>\n",
       "      <th>52323</th>\n",
       "      <td>6591f6b158b434ef00c32999</td>\n",
       "      <td>https://www.cbc.ca/news/canada/manitoba/jets-m...</td>\n",
       "      <td>Rutger McGroarty was desperate to play for his...</td>\n",
       "      <td>Jets prospect McGroarty savouring 2nd world ju...</td>\n",
       "    </tr>\n",
       "    <tr>\n",
       "      <th>52324</th>\n",
       "      <td>6591fc6858b434ef00c34b11</td>\n",
       "      <td>https://www.cbc.ca/news/canada/manitoba/jets-w...</td>\n",
       "      <td>Dominic Toninato scored the tie-breaking goal ...</td>\n",
       "      <td>Jets spoil Wild goaltender Fleury's 1,000th NH...</td>\n",
       "    </tr>\n",
       "  </tbody>\n",
       "</table>\n",
       "<p>52325 rows × 4 columns</p>\n",
       "</div>"
      ],
      "text/plain": [
       "                             id  \\\n",
       "0      63b0d066f642cd4562ec7be5   \n",
       "1      63b0d065f642cd4562ec7bd0   \n",
       "2      63b0eb8bf642cd4562ed022d   \n",
       "3      63b0f31df642cd4562ed34cc   \n",
       "4      63b0faa9f642cd4562ed62b4   \n",
       "...                         ...   \n",
       "52320  6591e7ed58b434ef00c2bf9c   \n",
       "52321  6591e87458b434ef00c2c26f   \n",
       "52322  6591f60658b434ef00c3239c   \n",
       "52323  6591f6b158b434ef00c32999   \n",
       "52324  6591fc6858b434ef00c34b11   \n",
       "\n",
       "                                                     url  \\\n",
       "0      https://www.cbc.ca/sports/hockey/nhl/montreal-...   \n",
       "1      https://www.cbc.ca/news/world/north-korea-incr...   \n",
       "2      https://www.cbc.ca/news/canada/british-columbi...   \n",
       "3      https://www.cbc.ca/sports/hockey/canada-sweden...   \n",
       "4      https://www.cbc.ca/sports/hockey/nhl/ottawa-se...   \n",
       "...                                                  ...   \n",
       "52320  https://www.cbc.ca/news/world/israel-siblings-...   \n",
       "52321  https://www.cbc.ca/sports/football/nfl/philade...   \n",
       "52322  http://www.cbc.ca/news/world/israel-hamas-war-...   \n",
       "52323  https://www.cbc.ca/news/canada/manitoba/jets-m...   \n",
       "52324  https://www.cbc.ca/news/canada/manitoba/jets-w...   \n",
       "\n",
       "                                                    body  \\\n",
       "0      Alex Ovechkin recorded his 30th career hat tri...   \n",
       "1      North Korean leader Kim Jong-un vowed to incre...   \n",
       "2      Starting Monday Translink will modify 45 bus r...   \n",
       "3      Connor Bedard had four assists to tie Eric Lin...   \n",
       "4      Lucas Raymond had a goal and an assist, and th...   \n",
       "...                                                  ...   \n",
       "52320  Israeli Maya Regev lay badly wounded in a nond...   \n",
       "52321  James Conner ran for a two-yard touchdown with...   \n",
       "52322  Israeli strikes in central Gaza killed at leas...   \n",
       "52323  Rutger McGroarty was desperate to play for his...   \n",
       "52324  Dominic Toninato scored the tie-breaking goal ...   \n",
       "\n",
       "                                                   title  \n",
       "0      Capitals' offence explodes for 9 goals to send...  \n",
       "1      Kim Jong-un vows to 'exponentially' increase N...  \n",
       "2      Translink is changing service on 45 bus routes...  \n",
       "3      Canada tops Sweden at men's world juniors to s...  \n",
       "4      Red Wings score 4 unanswered goals to rally pa...  \n",
       "...                                                  ...  \n",
       "52320  Israeli siblings freed from Hamas describe pas...  \n",
       "52321  Canadian rookie Sydney Brown returns intercept...  \n",
       "52322  Israeli strikes in central Gaza kill at least ...  \n",
       "52323  Jets prospect McGroarty savouring 2nd world ju...  \n",
       "52324  Jets spoil Wild goaltender Fleury's 1,000th NH...  \n",
       "\n",
       "[52325 rows x 4 columns]"
      ]
     },
     "execution_count": 4,
     "metadata": {},
     "output_type": "execute_result"
    }
   ],
   "source": [
    "df"
   ]
  },
  {
   "cell_type": "code",
   "execution_count": 5,
   "metadata": {},
   "outputs": [
    {
     "data": {
      "text/plain": [
       "52325"
      ]
     },
     "execution_count": 5,
     "metadata": {},
     "output_type": "execute_result"
    }
   ],
   "source": [
    "n_all = len(df)\n",
    "n_all"
   ]
  },
  {
   "cell_type": "markdown",
   "metadata": {},
   "source": [
    "## Extract the right information\n"
   ]
  },
  {
   "cell_type": "markdown",
   "metadata": {},
   "source": [
    "### First segment only, i.e., the stuff right after \"cbc.ca\""
   ]
  },
  {
   "cell_type": "code",
   "execution_count": 6,
   "metadata": {},
   "outputs": [
    {
     "name": "stdout",
     "output_type": "stream",
     "text": [
      "Counts for the first segment:\n",
      " news                                    44423\n",
      "sports                                   4124\n",
      "radio                                    1435\n",
      "arts                                      824\n",
      "books                                     516\n",
      "music                                     278\n",
      "life                                      228\n",
      "kidsnews                                  147\n",
      "television                                136\n",
      "documentaries                             118\n",
      "archives                                   39\n",
      "newsletter_static                          20\n",
      "comedy                                     16\n",
      "media                                       8\n",
      "the-last-black-man-in-san-francisco         2\n",
      "jamie-and-jimmys-food-fight-club            2\n",
      "backlash-misogyny-in-the-digital-age        2\n",
      "surfing-the-menu-the-next-generation        1\n",
      "indspire                                    1\n",
      "red-bull-bc-one-cypher-canada               1\n",
      "canadaday                                   1\n",
      "jamies-easy-meals-for-every-day             1\n",
      "i-hate-people-people-hate-me                1\n",
      "its-a-very-merry-muppet-movie               1\n",
      "Name: first_segment, dtype: int64\n"
     ]
    }
   ],
   "source": [
    "df['first_segment'] = df['url'].str.extract(r'cbc\\.ca/([^/]+)')\n",
    "\n",
    "# Count occurrences of each unique segment\n",
    "segment_counts = df['first_segment'].value_counts()\n",
    "\n",
    "# Display the counts\n",
    "print(\"Counts for the first segment:\\n\", df['first_segment'].value_counts())"
   ]
  },
  {
   "cell_type": "code",
   "execution_count": 8,
   "metadata": {},
   "outputs": [
    {
     "name": "stdout",
     "output_type": "stream",
     "text": [
      "\n",
      "Total count across all first segments: 52325\n"
     ]
    }
   ],
   "source": [
    "# Count occurrences of each unique first segment\n",
    "first_segment_counts = df['first_segment'].value_counts()\n",
    "\n",
    "# Calculate the total count\n",
    "first_total_counts = first_segment_counts.sum()\n",
    "\n",
    "print(\"\\nTotal count across all first segments:\", first_total_counts)"
   ]
  },
  {
   "cell_type": "markdown",
   "metadata": {},
   "source": [
    "Check that this count is the same as `n_all`"
   ]
  },
  {
   "cell_type": "code",
   "execution_count": 9,
   "metadata": {},
   "outputs": [
    {
     "data": {
      "text/plain": [
       "52325"
      ]
     },
     "execution_count": 9,
     "metadata": {},
     "output_type": "execute_result"
    }
   ],
   "source": [
    "n_all"
   ]
  },
  {
   "cell_type": "code",
   "execution_count": 16,
   "metadata": {},
   "outputs": [
    {
     "data": {
      "image/png": "[encoded data removed]",
      "text/plain": [
       "<Figure size 432x288 with 1 Axes>"
      ]
     },
     "metadata": {
      "needs_background": "light"
     },
     "output_type": "display_data"
    }
   ],
   "source": [
    "df['first_segment'].value_counts().plot(kind='bar') \n",
    "plt.show() "
   ]
  },
  {
   "cell_type": "markdown",
   "metadata": {},
   "source": [
    "### Last segment, i.e., right before final slash"
   ]
  },
  {
   "cell_type": "code",
   "execution_count": 10,
   "metadata": {},
   "outputs": [
    {
     "name": "stdout",
     "output_type": "stream",
     "text": [
      "\n",
      "Counts for the last segment:\n",
      " canada                                                                                                    38504\n",
      "world                                                                                                      2054\n",
      "politics                                                                                                   1694\n",
      "olympics                                                                                                    918\n",
      "hockey                                                                                                      882\n",
      "                                                                                                          ...  \n",
      "the-song-that-called-them-home-by-david-a-robertson-illustrated-by-maya-mckibbin-1.6816003                    1\n",
      "the-buzzer-newsletter-marathon-goat-eliud-kpchoge-1.6815840                                                   1\n",
      "sarah-polley-brandi-morin-saeed-teebi-shortlisted-for-10k-rakuten-kobo-emerging-writer-prize-1.6815495        1\n",
      "how-to-watch-skymed-on-cbc-gem-1.6502977                                                                      1\n",
      "this-artist-winner-of-season-3-of-best-in-miniature-creates-bloody-spooky-landscapes-1.7039226                1\n",
      "Name: last_segment, Length: 1627, dtype: int64\n"
     ]
    }
   ],
   "source": [
    "df['last_segment'] = df['url'].str.extract(r'cbc\\.ca/[^/]+/([^/]+)')\n",
    "\n",
    "# Count occurrences of each unique second segment\n",
    "last_segment_counts = df['last_segment'].value_counts()\n",
    "\n",
    "# Display the counts\n",
    "print(\"\\nCounts for the last segment:\\n\", last_segment_counts)"
   ]
  },
  {
   "cell_type": "code",
   "execution_count": 11,
   "metadata": {},
   "outputs": [
    {
     "name": "stdout",
     "output_type": "stream",
     "text": [
      "\n",
      "Total count across all last segments: 52313\n"
     ]
    }
   ],
   "source": [
    "# Count occurrences of each unique last segment\n",
    "last_segment_counts = df['last_segment'].value_counts()\n",
    "\n",
    "# Calculate the total count\n",
    "last_total_counts = last_segment_counts.sum()\n",
    "\n",
    "print(\"\\nTotal count across all last segments:\", last_total_counts)"
   ]
  },
  {
   "cell_type": "markdown",
   "metadata": {},
   "source": [
    "Check that this count is the same as `n_all`"
   ]
  },
  {
   "cell_type": "code",
   "execution_count": 12,
   "metadata": {},
   "outputs": [
    {
     "data": {
      "text/plain": [
       "52325"
      ]
     },
     "execution_count": 12,
     "metadata": {},
     "output_type": "execute_result"
    }
   ],
   "source": [
    "n_all"
   ]
  },
  {
   "cell_type": "code",
   "execution_count": 18,
   "metadata": {},
   "outputs": [],
   "source": [
    "last_segment_counts.to_csv('URL_last_segment.csv')"
   ]
  },
  {
   "cell_type": "code",
   "execution_count": null,
   "metadata": {},
   "outputs": [],
   "source": []
  },
  {
   "cell_type": "markdown",
   "metadata": {},
   "source": [
    "### Check whether all last segment stuff is just news"
   ]
  },
  {
   "cell_type": "code",
   "execution_count": 13,
   "metadata": {},
   "outputs": [
    {
     "name": "stdout",
     "output_type": "stream",
     "text": [
      "Counts of the last segment for 'news':\n",
      " canada                                                   38504\n",
      "world                                                     2054\n",
      "politics                                                  1694\n",
      "business                                                   648\n",
      "entertainment                                              541\n",
      "                                                         ...  \n",
      "ukraine-russia-counteroffensive-summer-1.6895765             1\n",
      "social-media-advertising-federal-government-1.6899347        1\n",
      "wage-theft-ontario-workers-1.6913090                         1\n",
      "hunter-biden-explainer-1.6928591                             1\n",
      "israel-hamas-war-day-79-1.7069133                            1\n",
      "Name: last_segment, Length: 77, dtype: int64\n"
     ]
    }
   ],
   "source": [
    "# Filter the DataFrame where the first_segment is 'news'\n",
    "news_df = df[df['first_segment'] == 'news']\n",
    "\n",
    "# Count occurrences of the last_segment for the 'news' first segment\n",
    "news_last_segment_counts = news_df['last_segment'].value_counts()\n",
    "\n",
    "# Print the results\n",
    "print(\"Counts of the last segment for 'news':\\n\", news_last_segment_counts)"
   ]
  },
  {
   "cell_type": "code",
   "execution_count": 14,
   "metadata": {},
   "outputs": [
    {
     "name": "stdout",
     "output_type": "stream",
     "text": [
      "\n",
      "Total count of news last segments: 52313\n"
     ]
    }
   ],
   "source": [
    "# Count occurrences of each unique last segment after news\n",
    "news_last_segment_counts = df['last_segment'].value_counts()\n",
    "\n",
    "# Calculate the total count\n",
    "news_last_total_counts = news_last_segment_counts.sum()\n",
    "\n",
    "print(\"\\nTotal count of news last segments:\", news_last_total_counts)"
   ]
  },
  {
   "cell_type": "code",
   "execution_count": 19,
   "metadata": {},
   "outputs": [],
   "source": [
    "news_last_segment_counts.to_csv('URL_news_last_segment.csv')"
   ]
  },
  {
   "cell_type": "markdown",
   "metadata": {},
   "source": [
    "### Not sure the above works\n",
    "Trying something else"
   ]
  },
  {
   "cell_type": "code",
   "execution_count": 20,
   "metadata": {},
   "outputs": [],
   "source": [
    "# Filter the DataFrame where the first_segment is 'news'\n",
    "news_df = df[df['first_segment'] == 'news']"
   ]
  },
  {
   "cell_type": "code",
   "execution_count": 21,
   "metadata": {},
   "outputs": [
    {
     "data": {
      "text/html": [
       "<div>\n",
       "<style scoped>\n",
       "    .dataframe tbody tr th:only-of-type {\n",
       "        vertical-align: middle;\n",
       "    }\n",
       "\n",
       "    .dataframe tbody tr th {\n",
       "        vertical-align: top;\n",
       "    }\n",
       "\n",
       "    .dataframe thead th {\n",
       "        text-align: right;\n",
       "    }\n",
       "</style>\n",
       "<table border=\"1\" class=\"dataframe\">\n",
       "  <thead>\n",
       "    <tr style=\"text-align: right;\">\n",
       "      <th></th>\n",
       "      <th>id</th>\n",
       "      <th>url</th>\n",
       "      <th>body</th>\n",
       "      <th>title</th>\n",
       "      <th>first_segment</th>\n",
       "      <th>last_segment</th>\n",
       "    </tr>\n",
       "  </thead>\n",
       "  <tbody>\n",
       "    <tr>\n",
       "      <th>1</th>\n",
       "      <td>63b0d065f642cd4562ec7bd0</td>\n",
       "      <td>https://www.cbc.ca/news/world/north-korea-incr...</td>\n",
       "      <td>North Korean leader Kim Jong-un vowed to incre...</td>\n",
       "      <td>Kim Jong-un vows to 'exponentially' increase N...</td>\n",
       "      <td>news</td>\n",
       "      <td>world</td>\n",
       "    </tr>\n",
       "    <tr>\n",
       "      <th>2</th>\n",
       "      <td>63b0eb8bf642cd4562ed022d</td>\n",
       "      <td>https://www.cbc.ca/news/canada/british-columbi...</td>\n",
       "      <td>Starting Monday Translink will modify 45 bus r...</td>\n",
       "      <td>Translink is changing service on 45 bus routes...</td>\n",
       "      <td>news</td>\n",
       "      <td>canada</td>\n",
       "    </tr>\n",
       "    <tr>\n",
       "      <th>5</th>\n",
       "      <td>63b1167cf642cd4562ee1392</td>\n",
       "      <td>http://www.cbc.ca/news/canada/british-columbia...</td>\n",
       "      <td>Police in Victoria are looking for more potent...</td>\n",
       "      <td>Man arrested after Victoria assaults where wom...</td>\n",
       "      <td>news</td>\n",
       "      <td>canada</td>\n",
       "    </tr>\n",
       "    <tr>\n",
       "      <th>10</th>\n",
       "      <td>63b14edcf642cd4562efb0e7</td>\n",
       "      <td>https://www.cbc.ca/news/canada/toronto/bus-com...</td>\n",
       "      <td>With the main competitor out of the way, bus c...</td>\n",
       "      <td>Is the bus back? Why these companies are betti...</td>\n",
       "      <td>news</td>\n",
       "      <td>canada</td>\n",
       "    </tr>\n",
       "    <tr>\n",
       "      <th>11</th>\n",
       "      <td>63b14edff642cd4562efb136</td>\n",
       "      <td>https://www.cbc.ca/news/canada/montreal/quebec...</td>\n",
       "      <td>Quebecers are increasingly streaming music onl...</td>\n",
       "      <td>Quebecers are listening to less local music; a...</td>\n",
       "      <td>news</td>\n",
       "      <td>canada</td>\n",
       "    </tr>\n",
       "    <tr>\n",
       "      <th>...</th>\n",
       "      <td>...</td>\n",
       "      <td>...</td>\n",
       "      <td>...</td>\n",
       "      <td>...</td>\n",
       "      <td>...</td>\n",
       "      <td>...</td>\n",
       "    </tr>\n",
       "    <tr>\n",
       "      <th>52318</th>\n",
       "      <td>6591d9f058b434ef00c268bb</td>\n",
       "      <td>https://www.cbc.ca/news/canada/prince-edward-i...</td>\n",
       "      <td>Edward Lambert remembers attending a New Year'...</td>\n",
       "      <td>Kensington café spreading the love with 'queer...</td>\n",
       "      <td>news</td>\n",
       "      <td>canada</td>\n",
       "    </tr>\n",
       "    <tr>\n",
       "      <th>52320</th>\n",
       "      <td>6591e7ed58b434ef00c2bf9c</td>\n",
       "      <td>https://www.cbc.ca/news/world/israel-siblings-...</td>\n",
       "      <td>Israeli Maya Regev lay badly wounded in a nond...</td>\n",
       "      <td>Israeli siblings freed from Hamas describe pas...</td>\n",
       "      <td>news</td>\n",
       "      <td>world</td>\n",
       "    </tr>\n",
       "    <tr>\n",
       "      <th>52322</th>\n",
       "      <td>6591f60658b434ef00c3239c</td>\n",
       "      <td>http://www.cbc.ca/news/world/israel-hamas-war-...</td>\n",
       "      <td>Israeli strikes in central Gaza killed at leas...</td>\n",
       "      <td>Israeli strikes in central Gaza kill at least ...</td>\n",
       "      <td>news</td>\n",
       "      <td>world</td>\n",
       "    </tr>\n",
       "    <tr>\n",
       "      <th>52323</th>\n",
       "      <td>6591f6b158b434ef00c32999</td>\n",
       "      <td>https://www.cbc.ca/news/canada/manitoba/jets-m...</td>\n",
       "      <td>Rutger McGroarty was desperate to play for his...</td>\n",
       "      <td>Jets prospect McGroarty savouring 2nd world ju...</td>\n",
       "      <td>news</td>\n",
       "      <td>canada</td>\n",
       "    </tr>\n",
       "    <tr>\n",
       "      <th>52324</th>\n",
       "      <td>6591fc6858b434ef00c34b11</td>\n",
       "      <td>https://www.cbc.ca/news/canada/manitoba/jets-w...</td>\n",
       "      <td>Dominic Toninato scored the tie-breaking goal ...</td>\n",
       "      <td>Jets spoil Wild goaltender Fleury's 1,000th NH...</td>\n",
       "      <td>news</td>\n",
       "      <td>canada</td>\n",
       "    </tr>\n",
       "  </tbody>\n",
       "</table>\n",
       "<p>44423 rows × 6 columns</p>\n",
       "</div>"
      ],
      "text/plain": [
       "                             id  \\\n",
       "1      63b0d065f642cd4562ec7bd0   \n",
       "2      63b0eb8bf642cd4562ed022d   \n",
       "5      63b1167cf642cd4562ee1392   \n",
       "10     63b14edcf642cd4562efb0e7   \n",
       "11     63b14edff642cd4562efb136   \n",
       "...                         ...   \n",
       "52318  6591d9f058b434ef00c268bb   \n",
       "52320  6591e7ed58b434ef00c2bf9c   \n",
       "52322  6591f60658b434ef00c3239c   \n",
       "52323  6591f6b158b434ef00c32999   \n",
       "52324  6591fc6858b434ef00c34b11   \n",
       "\n",
       "                                                     url  \\\n",
       "1      https://www.cbc.ca/news/world/north-korea-incr...   \n",
       "2      https://www.cbc.ca/news/canada/british-columbi...   \n",
       "5      http://www.cbc.ca/news/canada/british-columbia...   \n",
       "10     https://www.cbc.ca/news/canada/toronto/bus-com...   \n",
       "11     https://www.cbc.ca/news/canada/montreal/quebec...   \n",
       "...                                                  ...   \n",
       "52318  https://www.cbc.ca/news/canada/prince-edward-i...   \n",
       "52320  https://www.cbc.ca/news/world/israel-siblings-...   \n",
       "52322  http://www.cbc.ca/news/world/israel-hamas-war-...   \n",
       "52323  https://www.cbc.ca/news/canada/manitoba/jets-m...   \n",
       "52324  https://www.cbc.ca/news/canada/manitoba/jets-w...   \n",
       "\n",
       "                                                    body  \\\n",
       "1      North Korean leader Kim Jong-un vowed to incre...   \n",
       "2      Starting Monday Translink will modify 45 bus r...   \n",
       "5      Police in Victoria are looking for more potent...   \n",
       "10     With the main competitor out of the way, bus c...   \n",
       "11     Quebecers are increasingly streaming music onl...   \n",
       "...                                                  ...   \n",
       "52318  Edward Lambert remembers attending a New Year'...   \n",
       "52320  Israeli Maya Regev lay badly wounded in a nond...   \n",
       "52322  Israeli strikes in central Gaza killed at leas...   \n",
       "52323  Rutger McGroarty was desperate to play for his...   \n",
       "52324  Dominic Toninato scored the tie-breaking goal ...   \n",
       "\n",
       "                                                   title first_segment  \\\n",
       "1      Kim Jong-un vows to 'exponentially' increase N...          news   \n",
       "2      Translink is changing service on 45 bus routes...          news   \n",
       "5      Man arrested after Victoria assaults where wom...          news   \n",
       "10     Is the bus back? Why these companies are betti...          news   \n",
       "11     Quebecers are listening to less local music; a...          news   \n",
       "...                                                  ...           ...   \n",
       "52318  Kensington café spreading the love with 'queer...          news   \n",
       "52320  Israeli siblings freed from Hamas describe pas...          news   \n",
       "52322  Israeli strikes in central Gaza kill at least ...          news   \n",
       "52323  Jets prospect McGroarty savouring 2nd world ju...          news   \n",
       "52324  Jets spoil Wild goaltender Fleury's 1,000th NH...          news   \n",
       "\n",
       "      last_segment  \n",
       "1            world  \n",
       "2           canada  \n",
       "5           canada  \n",
       "10          canada  \n",
       "11          canada  \n",
       "...            ...  \n",
       "52318       canada  \n",
       "52320        world  \n",
       "52322        world  \n",
       "52323       canada  \n",
       "52324       canada  \n",
       "\n",
       "[44423 rows x 6 columns]"
      ]
     },
     "execution_count": 21,
     "metadata": {},
     "output_type": "execute_result"
    }
   ],
   "source": [
    "news_df"
   ]
  },
  {
   "cell_type": "code",
   "execution_count": 22,
   "metadata": {},
   "outputs": [
    {
     "name": "stdout",
     "output_type": "stream",
     "text": [
      "Counts for the first news segment:\n",
      " canada                                                   38504\n",
      "world                                                     2054\n",
      "politics                                                  1694\n",
      "business                                                   648\n",
      "entertainment                                              541\n",
      "                                                         ...  \n",
      "ukraine-russia-counteroffensive-summer-1.6895765             1\n",
      "social-media-advertising-federal-government-1.6899347        1\n",
      "wage-theft-ontario-workers-1.6913090                         1\n",
      "hunter-biden-explainer-1.6928591                             1\n",
      "israel-hamas-war-day-79-1.7069133                            1\n",
      "Name: news_type, Length: 77, dtype: int64\n"
     ]
    },
    {
     "name": "stderr",
     "output_type": "stream",
     "text": [
      "C:\\Users\\mtaboada\\AppData\\Local\\Temp/ipykernel_27320/242458718.py:1: SettingWithCopyWarning: \n",
      "A value is trying to be set on a copy of a slice from a DataFrame.\n",
      "Try using .loc[row_indexer,col_indexer] = value instead\n",
      "\n",
      "See the caveats in the documentation: https://pandas.pydata.org/pandas-docs/stable/user_guide/indexing.html#returning-a-view-versus-a-copy\n",
      "  news_df['news_type'] = news_df['url'].str.extract(r'cbc\\.ca/news/([^/]+)')\n"
     ]
    }
   ],
   "source": [
    "news_df['news_type'] = news_df['url'].str.extract(r'cbc\\.ca/news/([^/]+)')\n",
    "\n",
    "# Count occurrences of each unique segment\n",
    "news_counts = news_df['news_type'].value_counts()\n",
    "\n",
    "# Display the counts\n",
    "print(\"Counts for the first news segment:\\n\", news_df['news_type'].value_counts())"
   ]
  },
  {
   "cell_type": "code",
   "execution_count": 23,
   "metadata": {},
   "outputs": [
    {
     "data": {
      "text/plain": [
       "canada                                                   38504\n",
       "world                                                     2054\n",
       "politics                                                  1694\n",
       "business                                                   648\n",
       "entertainment                                              541\n",
       "                                                         ...  \n",
       "ukraine-russia-counteroffensive-summer-1.6895765             1\n",
       "social-media-advertising-federal-government-1.6899347        1\n",
       "wage-theft-ontario-workers-1.6913090                         1\n",
       "hunter-biden-explainer-1.6928591                             1\n",
       "israel-hamas-war-day-79-1.7069133                            1\n",
       "Name: news_type, Length: 77, dtype: int64"
      ]
     },
     "execution_count": 23,
     "metadata": {},
     "output_type": "execute_result"
    }
   ],
   "source": [
    "news_counts"
   ]
  },
  {
   "cell_type": "code",
   "execution_count": 24,
   "metadata": {},
   "outputs": [],
   "source": [
    "news_counts.to_csv('URL_news_types.csv')"
   ]
  },
  {
   "cell_type": "markdown",
   "metadata": {},
   "source": [
    "### Further, what types under 'canada'"
   ]
  },
  {
   "cell_type": "code",
   "execution_count": 26,
   "metadata": {},
   "outputs": [
    {
     "data": {
      "text/html": [
       "<div>\n",
       "<style scoped>\n",
       "    .dataframe tbody tr th:only-of-type {\n",
       "        vertical-align: middle;\n",
       "    }\n",
       "\n",
       "    .dataframe tbody tr th {\n",
       "        vertical-align: top;\n",
       "    }\n",
       "\n",
       "    .dataframe thead th {\n",
       "        text-align: right;\n",
       "    }\n",
       "</style>\n",
       "<table border=\"1\" class=\"dataframe\">\n",
       "  <thead>\n",
       "    <tr style=\"text-align: right;\">\n",
       "      <th></th>\n",
       "      <th>id</th>\n",
       "      <th>url</th>\n",
       "      <th>body</th>\n",
       "      <th>title</th>\n",
       "      <th>first_segment</th>\n",
       "      <th>last_segment</th>\n",
       "      <th>news_type</th>\n",
       "    </tr>\n",
       "  </thead>\n",
       "  <tbody>\n",
       "    <tr>\n",
       "      <th>1</th>\n",
       "      <td>63b0d065f642cd4562ec7bd0</td>\n",
       "      <td>https://www.cbc.ca/news/world/north-korea-incr...</td>\n",
       "      <td>North Korean leader Kim Jong-un vowed to incre...</td>\n",
       "      <td>Kim Jong-un vows to 'exponentially' increase N...</td>\n",
       "      <td>news</td>\n",
       "      <td>world</td>\n",
       "      <td>world</td>\n",
       "    </tr>\n",
       "    <tr>\n",
       "      <th>2</th>\n",
       "      <td>63b0eb8bf642cd4562ed022d</td>\n",
       "      <td>https://www.cbc.ca/news/canada/british-columbi...</td>\n",
       "      <td>Starting Monday Translink will modify 45 bus r...</td>\n",
       "      <td>Translink is changing service on 45 bus routes...</td>\n",
       "      <td>news</td>\n",
       "      <td>canada</td>\n",
       "      <td>canada</td>\n",
       "    </tr>\n",
       "    <tr>\n",
       "      <th>5</th>\n",
       "      <td>63b1167cf642cd4562ee1392</td>\n",
       "      <td>http://www.cbc.ca/news/canada/british-columbia...</td>\n",
       "      <td>Police in Victoria are looking for more potent...</td>\n",
       "      <td>Man arrested after Victoria assaults where wom...</td>\n",
       "      <td>news</td>\n",
       "      <td>canada</td>\n",
       "      <td>canada</td>\n",
       "    </tr>\n",
       "    <tr>\n",
       "      <th>10</th>\n",
       "      <td>63b14edcf642cd4562efb0e7</td>\n",
       "      <td>https://www.cbc.ca/news/canada/toronto/bus-com...</td>\n",
       "      <td>With the main competitor out of the way, bus c...</td>\n",
       "      <td>Is the bus back? Why these companies are betti...</td>\n",
       "      <td>news</td>\n",
       "      <td>canada</td>\n",
       "      <td>canada</td>\n",
       "    </tr>\n",
       "    <tr>\n",
       "      <th>11</th>\n",
       "      <td>63b14edff642cd4562efb136</td>\n",
       "      <td>https://www.cbc.ca/news/canada/montreal/quebec...</td>\n",
       "      <td>Quebecers are increasingly streaming music onl...</td>\n",
       "      <td>Quebecers are listening to less local music; a...</td>\n",
       "      <td>news</td>\n",
       "      <td>canada</td>\n",
       "      <td>canada</td>\n",
       "    </tr>\n",
       "    <tr>\n",
       "      <th>...</th>\n",
       "      <td>...</td>\n",
       "      <td>...</td>\n",
       "      <td>...</td>\n",
       "      <td>...</td>\n",
       "      <td>...</td>\n",
       "      <td>...</td>\n",
       "      <td>...</td>\n",
       "    </tr>\n",
       "    <tr>\n",
       "      <th>52318</th>\n",
       "      <td>6591d9f058b434ef00c268bb</td>\n",
       "      <td>https://www.cbc.ca/news/canada/prince-edward-i...</td>\n",
       "      <td>Edward Lambert remembers attending a New Year'...</td>\n",
       "      <td>Kensington café spreading the love with 'queer...</td>\n",
       "      <td>news</td>\n",
       "      <td>canada</td>\n",
       "      <td>canada</td>\n",
       "    </tr>\n",
       "    <tr>\n",
       "      <th>52320</th>\n",
       "      <td>6591e7ed58b434ef00c2bf9c</td>\n",
       "      <td>https://www.cbc.ca/news/world/israel-siblings-...</td>\n",
       "      <td>Israeli Maya Regev lay badly wounded in a nond...</td>\n",
       "      <td>Israeli siblings freed from Hamas describe pas...</td>\n",
       "      <td>news</td>\n",
       "      <td>world</td>\n",
       "      <td>world</td>\n",
       "    </tr>\n",
       "    <tr>\n",
       "      <th>52322</th>\n",
       "      <td>6591f60658b434ef00c3239c</td>\n",
       "      <td>http://www.cbc.ca/news/world/israel-hamas-war-...</td>\n",
       "      <td>Israeli strikes in central Gaza killed at leas...</td>\n",
       "      <td>Israeli strikes in central Gaza kill at least ...</td>\n",
       "      <td>news</td>\n",
       "      <td>world</td>\n",
       "      <td>world</td>\n",
       "    </tr>\n",
       "    <tr>\n",
       "      <th>52323</th>\n",
       "      <td>6591f6b158b434ef00c32999</td>\n",
       "      <td>https://www.cbc.ca/news/canada/manitoba/jets-m...</td>\n",
       "      <td>Rutger McGroarty was desperate to play for his...</td>\n",
       "      <td>Jets prospect McGroarty savouring 2nd world ju...</td>\n",
       "      <td>news</td>\n",
       "      <td>canada</td>\n",
       "      <td>canada</td>\n",
       "    </tr>\n",
       "    <tr>\n",
       "      <th>52324</th>\n",
       "      <td>6591fc6858b434ef00c34b11</td>\n",
       "      <td>https://www.cbc.ca/news/canada/manitoba/jets-w...</td>\n",
       "      <td>Dominic Toninato scored the tie-breaking goal ...</td>\n",
       "      <td>Jets spoil Wild goaltender Fleury's 1,000th NH...</td>\n",
       "      <td>news</td>\n",
       "      <td>canada</td>\n",
       "      <td>canada</td>\n",
       "    </tr>\n",
       "  </tbody>\n",
       "</table>\n",
       "<p>44423 rows × 7 columns</p>\n",
       "</div>"
      ],
      "text/plain": [
       "                             id  \\\n",
       "1      63b0d065f642cd4562ec7bd0   \n",
       "2      63b0eb8bf642cd4562ed022d   \n",
       "5      63b1167cf642cd4562ee1392   \n",
       "10     63b14edcf642cd4562efb0e7   \n",
       "11     63b14edff642cd4562efb136   \n",
       "...                         ...   \n",
       "52318  6591d9f058b434ef00c268bb   \n",
       "52320  6591e7ed58b434ef00c2bf9c   \n",
       "52322  6591f60658b434ef00c3239c   \n",
       "52323  6591f6b158b434ef00c32999   \n",
       "52324  6591fc6858b434ef00c34b11   \n",
       "\n",
       "                                                     url  \\\n",
       "1      https://www.cbc.ca/news/world/north-korea-incr...   \n",
       "2      https://www.cbc.ca/news/canada/british-columbi...   \n",
       "5      http://www.cbc.ca/news/canada/british-columbia...   \n",
       "10     https://www.cbc.ca/news/canada/toronto/bus-com...   \n",
       "11     https://www.cbc.ca/news/canada/montreal/quebec...   \n",
       "...                                                  ...   \n",
       "52318  https://www.cbc.ca/news/canada/prince-edward-i...   \n",
       "52320  https://www.cbc.ca/news/world/israel-siblings-...   \n",
       "52322  http://www.cbc.ca/news/world/israel-hamas-war-...   \n",
       "52323  https://www.cbc.ca/news/canada/manitoba/jets-m...   \n",
       "52324  https://www.cbc.ca/news/canada/manitoba/jets-w...   \n",
       "\n",
       "                                                    body  \\\n",
       "1      North Korean leader Kim Jong-un vowed to incre...   \n",
       "2      Starting Monday Translink will modify 45 bus r...   \n",
       "5      Police in Victoria are looking for more potent...   \n",
       "10     With the main competitor out of the way, bus c...   \n",
       "11     Quebecers are increasingly streaming music onl...   \n",
       "...                                                  ...   \n",
       "52318  Edward Lambert remembers attending a New Year'...   \n",
       "52320  Israeli Maya Regev lay badly wounded in a nond...   \n",
       "52322  Israeli strikes in central Gaza killed at leas...   \n",
       "52323  Rutger McGroarty was desperate to play for his...   \n",
       "52324  Dominic Toninato scored the tie-breaking goal ...   \n",
       "\n",
       "                                                   title first_segment  \\\n",
       "1      Kim Jong-un vows to 'exponentially' increase N...          news   \n",
       "2      Translink is changing service on 45 bus routes...          news   \n",
       "5      Man arrested after Victoria assaults where wom...          news   \n",
       "10     Is the bus back? Why these companies are betti...          news   \n",
       "11     Quebecers are listening to less local music; a...          news   \n",
       "...                                                  ...           ...   \n",
       "52318  Kensington café spreading the love with 'queer...          news   \n",
       "52320  Israeli siblings freed from Hamas describe pas...          news   \n",
       "52322  Israeli strikes in central Gaza kill at least ...          news   \n",
       "52323  Jets prospect McGroarty savouring 2nd world ju...          news   \n",
       "52324  Jets spoil Wild goaltender Fleury's 1,000th NH...          news   \n",
       "\n",
       "      last_segment news_type  \n",
       "1            world     world  \n",
       "2           canada    canada  \n",
       "5           canada    canada  \n",
       "10          canada    canada  \n",
       "11          canada    canada  \n",
       "...            ...       ...  \n",
       "52318       canada    canada  \n",
       "52320        world     world  \n",
       "52322        world     world  \n",
       "52323       canada    canada  \n",
       "52324       canada    canada  \n",
       "\n",
       "[44423 rows x 7 columns]"
      ]
     },
     "execution_count": 26,
     "metadata": {},
     "output_type": "execute_result"
    }
   ],
   "source": [
    "news_df"
   ]
  },
  {
   "cell_type": "code",
   "execution_count": 28,
   "metadata": {},
   "outputs": [],
   "source": [
    "news_canada_df = news_df[news_df['news_type'] == 'canada']"
   ]
  },
  {
   "cell_type": "code",
   "execution_count": 32,
   "metadata": {},
   "outputs": [
    {
     "name": "stdout",
     "output_type": "stream",
     "text": [
      "Counts for the first news canada segment:\n",
      " british-columbia                                                                                  3920\n",
      "manitoba                                                                                          3542\n",
      "nova-scotia                                                                                       2864\n",
      "toronto                                                                                           2502\n",
      "ottawa                                                                                            2391\n",
      "                                                                                                  ... \n",
      "am-i-still-a-mother-if-my-newborn-died-1.6822059                                                     1\n",
      "our-baby-girls-were-born-5-months-apart-after-we-suffered-with-infertility-for-years-1.6822095       1\n",
      "stanley-cup-canada-chart-1.6820519                                                                   1\n",
      "king-charles-coronation-viewing-cbc-1.6819386                                                        1\n",
      "canadian-food-banks-pressure-1.7071747                                                               1\n",
      "Name: news_canada_type, Length: 434, dtype: int64\n"
     ]
    },
    {
     "name": "stderr",
     "output_type": "stream",
     "text": [
      "C:\\Users\\mtaboada\\AppData\\Local\\Temp/ipykernel_27320/4269701876.py:1: SettingWithCopyWarning: \n",
      "A value is trying to be set on a copy of a slice from a DataFrame.\n",
      "Try using .loc[row_indexer,col_indexer] = value instead\n",
      "\n",
      "See the caveats in the documentation: https://pandas.pydata.org/pandas-docs/stable/user_guide/indexing.html#returning-a-view-versus-a-copy\n",
      "  news_canada_df['news_canada_type'] = news_canada_df['url'].str.extract(r'cbc\\.ca/news/canada/([^/]+)')\n"
     ]
    }
   ],
   "source": [
    "news_canada_df['news_canada_type'] = news_canada_df['url'].str.extract(r'cbc\\.ca/news/canada/([^/]+)')\n",
    "\n",
    "# Count occurrences of each unique segment\n",
    "news_canada_counts = news_canada_df['news_canada_type'].value_counts()\n",
    "\n",
    "# Display the counts\n",
    "print(\"Counts for the first news canada segment:\\n\", news_canada_df['news_canada_type'].value_counts())"
   ]
  },
  {
   "cell_type": "code",
   "execution_count": 33,
   "metadata": {},
   "outputs": [],
   "source": [
    "news_canada_counts.to_csv('URL_news_canada.csv')"
   ]
  },
  {
   "cell_type": "markdown",
   "metadata": {},
   "source": [
    "### Just checking what's under PEI, the province with the smallest number of articles"
   ]
  },
  {
   "cell_type": "code",
   "execution_count": 36,
   "metadata": {},
   "outputs": [],
   "source": [
    "news_pei_df = news_canada_df[news_canada_df['news_canada_type'] == 'prince-edward-island']"
   ]
  },
  {
   "cell_type": "code",
   "execution_count": 37,
   "metadata": {},
   "outputs": [
    {
     "data": {
      "text/html": [
       "<div>\n",
       "<style scoped>\n",
       "    .dataframe tbody tr th:only-of-type {\n",
       "        vertical-align: middle;\n",
       "    }\n",
       "\n",
       "    .dataframe tbody tr th {\n",
       "        vertical-align: top;\n",
       "    }\n",
       "\n",
       "    .dataframe thead th {\n",
       "        text-align: right;\n",
       "    }\n",
       "</style>\n",
       "<table border=\"1\" class=\"dataframe\">\n",
       "  <thead>\n",
       "    <tr style=\"text-align: right;\">\n",
       "      <th></th>\n",
       "      <th>id</th>\n",
       "      <th>url</th>\n",
       "      <th>body</th>\n",
       "      <th>title</th>\n",
       "      <th>first_segment</th>\n",
       "      <th>last_segment</th>\n",
       "      <th>news_type</th>\n",
       "      <th>news_canada_type</th>\n",
       "    </tr>\n",
       "  </thead>\n",
       "  <tbody>\n",
       "    <tr>\n",
       "      <th>41</th>\n",
       "      <td>63b1d4a0f642cd4562f31f0e</td>\n",
       "      <td>https://www.cbc.ca/news/canada/prince-edward-i...</td>\n",
       "      <td>Haley Zavo always dreamed of creating a vibran...</td>\n",
       "      <td>Kings Playhouse executive director exits stage...</td>\n",
       "      <td>news</td>\n",
       "      <td>canada</td>\n",
       "      <td>canada</td>\n",
       "      <td>prince-edward-island</td>\n",
       "    </tr>\n",
       "    <tr>\n",
       "      <th>82</th>\n",
       "      <td>63b2ae78f642cd4562f87fc6</td>\n",
       "      <td>https://www.cbc.ca/news/canada/prince-edward-i...</td>\n",
       "      <td>Canadian Blood Services is urging people on Pr...</td>\n",
       "      <td>Canadian Blood Services urges Islanders to boo...</td>\n",
       "      <td>news</td>\n",
       "      <td>canada</td>\n",
       "      <td>canada</td>\n",
       "      <td>prince-edward-island</td>\n",
       "    </tr>\n",
       "    <tr>\n",
       "      <th>90</th>\n",
       "      <td>63b2c3aef642cd4562f933e3</td>\n",
       "      <td>https://www.cbc.ca/news/canada/prince-edward-i...</td>\n",
       "      <td>The police cruiser, a century-old symbol of po...</td>\n",
       "      <td>Cruisers out, SUVs in as Charlottetown renews ...</td>\n",
       "      <td>news</td>\n",
       "      <td>canada</td>\n",
       "      <td>canada</td>\n",
       "      <td>prince-edward-island</td>\n",
       "    </tr>\n",
       "    <tr>\n",
       "      <th>104</th>\n",
       "      <td>63b30298f642cd4562fad8a9</td>\n",
       "      <td>https://www.cbc.ca/news/canada/prince-edward-i...</td>\n",
       "      <td>It's been a long year for Buddy the eagle at C...</td>\n",
       "      <td>Eagle, recovered from spinal surgery, heading ...</td>\n",
       "      <td>news</td>\n",
       "      <td>canada</td>\n",
       "      <td>canada</td>\n",
       "      <td>prince-edward-island</td>\n",
       "    </tr>\n",
       "    <tr>\n",
       "      <th>152</th>\n",
       "      <td>63b36492f642cd4562fd297a</td>\n",
       "      <td>https://www.cbc.ca/news/canada/prince-edward-i...</td>\n",
       "      <td>Some members of P.E.I.'s Chinese community hav...</td>\n",
       "      <td>As China eases COVID-19 restrictions, some peo...</td>\n",
       "      <td>news</td>\n",
       "      <td>canada</td>\n",
       "      <td>canada</td>\n",
       "      <td>prince-edward-island</td>\n",
       "    </tr>\n",
       "    <tr>\n",
       "      <th>...</th>\n",
       "      <td>...</td>\n",
       "      <td>...</td>\n",
       "      <td>...</td>\n",
       "      <td>...</td>\n",
       "      <td>...</td>\n",
       "      <td>...</td>\n",
       "      <td>...</td>\n",
       "      <td>...</td>\n",
       "    </tr>\n",
       "    <tr>\n",
       "      <th>52241</th>\n",
       "      <td>6590334558b434ef00b69058</td>\n",
       "      <td>https://www.cbc.ca/news/canada/prince-edward-i...</td>\n",
       "      <td>The emergency department at Western Hospital i...</td>\n",
       "      <td>Alberton ER closed for weekend, other hospital...</td>\n",
       "      <td>news</td>\n",
       "      <td>canada</td>\n",
       "      <td>canada</td>\n",
       "      <td>prince-edward-island</td>\n",
       "    </tr>\n",
       "    <tr>\n",
       "      <th>52284</th>\n",
       "      <td>65913e9658b434ef00be0a3a</td>\n",
       "      <td>https://www.cbc.ca/news/canada/prince-edward-i...</td>\n",
       "      <td>Many P.E.I. businesses and services will be cl...</td>\n",
       "      <td>New Year's Eve and New Year's Day: What's open...</td>\n",
       "      <td>news</td>\n",
       "      <td>canada</td>\n",
       "      <td>canada</td>\n",
       "      <td>prince-edward-island</td>\n",
       "    </tr>\n",
       "    <tr>\n",
       "      <th>52286</th>\n",
       "      <td>65913f1358b434ef00be0fd2</td>\n",
       "      <td>https://www.cbc.ca/news/canada/prince-edward-i...</td>\n",
       "      <td>A provincial election. A scathing report detai...</td>\n",
       "      <td>A look back at the stories that shaped Prince ...</td>\n",
       "      <td>news</td>\n",
       "      <td>canada</td>\n",
       "      <td>canada</td>\n",
       "      <td>prince-edward-island</td>\n",
       "    </tr>\n",
       "    <tr>\n",
       "      <th>52300</th>\n",
       "      <td>659199ab58b434ef00c0a0e4</td>\n",
       "      <td>https://www.cbc.ca/news/canada/prince-edward-i...</td>\n",
       "      <td>Tennis P.E.I. is searching for a new home cour...</td>\n",
       "      <td>After 43 years, it's game, set, match for tenn...</td>\n",
       "      <td>news</td>\n",
       "      <td>canada</td>\n",
       "      <td>canada</td>\n",
       "      <td>prince-edward-island</td>\n",
       "    </tr>\n",
       "    <tr>\n",
       "      <th>52318</th>\n",
       "      <td>6591d9f058b434ef00c268bb</td>\n",
       "      <td>https://www.cbc.ca/news/canada/prince-edward-i...</td>\n",
       "      <td>Edward Lambert remembers attending a New Year'...</td>\n",
       "      <td>Kensington café spreading the love with 'queer...</td>\n",
       "      <td>news</td>\n",
       "      <td>canada</td>\n",
       "      <td>canada</td>\n",
       "      <td>prince-edward-island</td>\n",
       "    </tr>\n",
       "  </tbody>\n",
       "</table>\n",
       "<p>1885 rows × 8 columns</p>\n",
       "</div>"
      ],
      "text/plain": [
       "                             id  \\\n",
       "41     63b1d4a0f642cd4562f31f0e   \n",
       "82     63b2ae78f642cd4562f87fc6   \n",
       "90     63b2c3aef642cd4562f933e3   \n",
       "104    63b30298f642cd4562fad8a9   \n",
       "152    63b36492f642cd4562fd297a   \n",
       "...                         ...   \n",
       "52241  6590334558b434ef00b69058   \n",
       "52284  65913e9658b434ef00be0a3a   \n",
       "52286  65913f1358b434ef00be0fd2   \n",
       "52300  659199ab58b434ef00c0a0e4   \n",
       "52318  6591d9f058b434ef00c268bb   \n",
       "\n",
       "                                                     url  \\\n",
       "41     https://www.cbc.ca/news/canada/prince-edward-i...   \n",
       "82     https://www.cbc.ca/news/canada/prince-edward-i...   \n",
       "90     https://www.cbc.ca/news/canada/prince-edward-i...   \n",
       "104    https://www.cbc.ca/news/canada/prince-edward-i...   \n",
       "152    https://www.cbc.ca/news/canada/prince-edward-i...   \n",
       "...                                                  ...   \n",
       "52241  https://www.cbc.ca/news/canada/prince-edward-i...   \n",
       "52284  https://www.cbc.ca/news/canada/prince-edward-i...   \n",
       "52286  https://www.cbc.ca/news/canada/prince-edward-i...   \n",
       "52300  https://www.cbc.ca/news/canada/prince-edward-i...   \n",
       "52318  https://www.cbc.ca/news/canada/prince-edward-i...   \n",
       "\n",
       "                                                    body  \\\n",
       "41     Haley Zavo always dreamed of creating a vibran...   \n",
       "82     Canadian Blood Services is urging people on Pr...   \n",
       "90     The police cruiser, a century-old symbol of po...   \n",
       "104    It's been a long year for Buddy the eagle at C...   \n",
       "152    Some members of P.E.I.'s Chinese community hav...   \n",
       "...                                                  ...   \n",
       "52241  The emergency department at Western Hospital i...   \n",
       "52284  Many P.E.I. businesses and services will be cl...   \n",
       "52286  A provincial election. A scathing report detai...   \n",
       "52300  Tennis P.E.I. is searching for a new home cour...   \n",
       "52318  Edward Lambert remembers attending a New Year'...   \n",
       "\n",
       "                                                   title first_segment  \\\n",
       "41     Kings Playhouse executive director exits stage...          news   \n",
       "82     Canadian Blood Services urges Islanders to boo...          news   \n",
       "90     Cruisers out, SUVs in as Charlottetown renews ...          news   \n",
       "104    Eagle, recovered from spinal surgery, heading ...          news   \n",
       "152    As China eases COVID-19 restrictions, some peo...          news   \n",
       "...                                                  ...           ...   \n",
       "52241  Alberton ER closed for weekend, other hospital...          news   \n",
       "52284  New Year's Eve and New Year's Day: What's open...          news   \n",
       "52286  A look back at the stories that shaped Prince ...          news   \n",
       "52300  After 43 years, it's game, set, match for tenn...          news   \n",
       "52318  Kensington café spreading the love with 'queer...          news   \n",
       "\n",
       "      last_segment news_type      news_canada_type  \n",
       "41          canada    canada  prince-edward-island  \n",
       "82          canada    canada  prince-edward-island  \n",
       "90          canada    canada  prince-edward-island  \n",
       "104         canada    canada  prince-edward-island  \n",
       "152         canada    canada  prince-edward-island  \n",
       "...            ...       ...                   ...  \n",
       "52241       canada    canada  prince-edward-island  \n",
       "52284       canada    canada  prince-edward-island  \n",
       "52286       canada    canada  prince-edward-island  \n",
       "52300       canada    canada  prince-edward-island  \n",
       "52318       canada    canada  prince-edward-island  \n",
       "\n",
       "[1885 rows x 8 columns]"
      ]
     },
     "execution_count": 37,
     "metadata": {},
     "output_type": "execute_result"
    }
   ],
   "source": [
    "news_pei_df"
   ]
  },
  {
   "cell_type": "code",
   "execution_count": 39,
   "metadata": {},
   "outputs": [],
   "source": [
    "news_pei_df.to_csv('URL_news_pei.csv')"
   ]
  },
  {
   "cell_type": "code",
   "execution_count": null,
   "metadata": {},
   "outputs": [],
   "source": []
  }
 ],
 "metadata": {
  "kernelspec": {
   "display_name": "Python 3 (ipykernel)",
   "language": "python",
   "name": "python3"
  },
  "language_info": {
   "codemirror_mode": {
    "name": "ipython",
    "version": 3
   },
   "file_extension": ".py",
   "mimetype": "text/x-python",
   "name": "python",
   "nbconvert_exporter": "python",
   "pygments_lexer": "ipython3",
   "version": "3.9.7"
  }
 },
 "nbformat": 4,
 "nbformat_minor": 2
}
