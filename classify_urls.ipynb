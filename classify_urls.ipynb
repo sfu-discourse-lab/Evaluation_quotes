{
 "cells": [
  {
   "cell_type": "markdown",
   "metadata": {
    "id": "S0WcFGFdeD_c"
   },
   "source": [
    "## Create a classification of URLs\n",
    "\n",
    "For project analyzing the evaluative content of quotes vs. non-quotes.\n",
    "\n",
    "This notebook reads in the full CBC csv (in \"CBC_input\") and counts the number of:\n",
    "\n",
    "* types of things immediately after: http://cbc.ca/ or http://www.cbc.ca/ or https://cbc.ca/ or https://www.cbc.ca/\n",
    "* then, types of things immediately after that first / but before the last one\n",
    "\n",
    "For instance, in the first case, we get categories like \"books\", \"news\", or \"radio\":\n",
    "\n",
    "```\n",
    "http://cbc.ca/books/the-great-beyond-by-léa-murawiec-translated-by-aleshia-jensen-1.6948864\n",
    "http://www.cbc.ca/news/canada/nova-scotia/hurricane-franklin-powerful-surf-atlantic-canada-1.6950427\n",
    "http://www.cbc.ca/radio/frontburner/as-fires-burn-n-w-t-s-premier-calls-out-ottawa-1.6951393\n",
    "https://www.cbc.ca/sports/the-buzzer-newsletter-world-athletics-championships-day-6-preview-1.6945499\n",
    "https://cbc.ca/radio/asithappens/pink-floyd-brain-scans-1.6939698\n",
    "\n",
    "```\n",
    "\n",
    "In the second, we get types of radio programs (as in \"frontburner\" above), but also types of news and other first-level categories:\n",
    "\n",
    "```\n",
    "http://www.cbc.ca/news/climate/northwest-territories-wildfires-1.6939337\n",
    "https://www.cbc.ca/sports/tennis/tennis-dc-open-handshake-warning-1.6923907\n",
    "\n",
    "```\n",
    "\n",
    "\\* 2024-11-13 edit: This notebook now uses the xlsx files from \"CBC_sentiment_output\" for consistency and ease of access"
   ]
  },
  {
   "cell_type": "code",
   "execution_count": 1,
   "metadata": {
    "executionInfo": {
     "elapsed": 187,
     "status": "ok",
     "timestamp": 1731531646631,
     "user": {
      "displayName": "Jodie Lee",
      "userId": "05117498454440747132"
     },
     "user_tz": 480
    },
    "id": "M99kF7ZXeD_k"
   },
   "outputs": [],
   "source": [
    "import pandas as pd\n",
    "import numpy as np\n",
    "import json\n",
    "from pandas import json_normalize\n",
    "import ast\n",
    "from ast import literal_eval\n",
    "import os\n",
    "import glob\n",
    "import re\n",
    "import matplotlib.pyplot as plt"
   ]
  },
  {
   "cell_type": "code",
   "execution_count": null,
   "metadata": {
    "colab": {
     "base_uri": "https://localhost:8080/"
    },
    "executionInfo": {
     "elapsed": 20284,
     "status": "ok",
     "timestamp": 1731517420008,
     "user": {
      "displayName": "Jodie Lee",
      "userId": "05117498454440747132"
     },
     "user_tz": 480
    },
    "id": "Dqgvzf16eOWG",
    "outputId": "ba78620c-700a-4cf1-8d2d-8c26d2db458f"
   },
   "outputs": [
    {
     "name": "stdout",
     "output_type": "stream",
     "text": [
      "Mounted at /content/drive\n"
     ]
    }
   ],
   "source": [
    "from google.colab import drive\n",
    "drive.mount('/content/drive')"
   ]
  },
  {
   "cell_type": "markdown",
   "metadata": {
    "id": "5XEM7rx-eD_n"
   },
   "source": [
    "This needs to be done on the sentiment_output dirs, can be done on the quotes tab (url column)."
   ]
  },
  {
   "cell_type": "markdown",
   "metadata": {
    "id": "aGqXNtMqjSrl"
   },
   "source": [
    "## Redoing Information Extraction with Updated Dataframes"
   ]
  },
  {
   "cell_type": "markdown",
   "metadata": {
    "id": "42eHZB61fjCJ"
   },
   "source": [
    "### Reading Excel files from Sentiment Output"
   ]
  },
  {
   "cell_type": "code",
   "execution_count": 3,
   "metadata": {
    "id": "p6yEB8qNfr3K"
   },
   "outputs": [],
   "source": [
    "path = r'C:/Maite/MOD/projects/Monika_Bednarek/Evaluation_quotes/Data/CBC_sentiment_output'\n",
    "\n",
    "all_months = glob.glob(path + '/2023*.xlsx')\n",
    "months_qt = []\n",
    "months_nqt = []\n",
    "for filename in all_months:\n",
    "  temp_qt_df = pd.read_excel(filename, sheet_name='quotes', usecols=['text_name', 'compound', 'url'])\n",
    "  temp_nqt_df = pd.read_excel(filename, sheet_name='non_quotes', usecols=['text_name', 'compound'])\n",
    "\n",
    "  months_qt.append(temp_qt_df)\n",
    "  months_nqt.append(temp_nqt_df)\n",
    "\n",
    "quotes_df = pd.concat(months_qt, axis=0, ignore_index=True)\n",
    "non_quotes_df = pd.concat(months_nqt, axis=0, ignore_index=True)"
   ]
  },
  {
   "cell_type": "code",
   "execution_count": 4,
   "metadata": {
    "colab": {
     "base_uri": "https://localhost:8080/",
     "height": 206
    },
    "executionInfo": {
     "elapsed": 179,
     "status": "ok",
     "timestamp": 1731519511655,
     "user": {
      "displayName": "Jodie Lee",
      "userId": "05117498454440747132"
     },
     "user_tz": 480
    },
    "id": "pMYZa3sDiIPA",
    "outputId": "24f1e5c9-1ddc-40a7-b7d5-4dae83432912"
   },
   "outputs": [
    {
     "data": {
      "text/html": [
       "<div>\n",
       "<style scoped>\n",
       "    .dataframe tbody tr th:only-of-type {\n",
       "        vertical-align: middle;\n",
       "    }\n",
       "\n",
       "    .dataframe tbody tr th {\n",
       "        vertical-align: top;\n",
       "    }\n",
       "\n",
       "    .dataframe thead th {\n",
       "        text-align: right;\n",
       "    }\n",
       "</style>\n",
       "<table border=\"1\" class=\"dataframe\">\n",
       "  <thead>\n",
       "    <tr style=\"text-align: right;\">\n",
       "      <th></th>\n",
       "      <th>text_name</th>\n",
       "      <th>compound</th>\n",
       "      <th>url</th>\n",
       "    </tr>\n",
       "  </thead>\n",
       "  <tbody>\n",
       "    <tr>\n",
       "      <th>0</th>\n",
       "      <td>63d2f449f642cd4562e2dafd</td>\n",
       "      <td>0.9422</td>\n",
       "      <td>https://www.cbc.ca/news/canada/windsor/detroit...</td>\n",
       "    </tr>\n",
       "    <tr>\n",
       "      <th>1</th>\n",
       "      <td>63baa544f642cd45622e5e52</td>\n",
       "      <td>0.8547</td>\n",
       "      <td>https://www.cbc.ca/news/world/china-borders-op...</td>\n",
       "    </tr>\n",
       "    <tr>\n",
       "      <th>2</th>\n",
       "      <td>63c5d969f642cd456280a6c3</td>\n",
       "      <td>0.8883</td>\n",
       "      <td>https://www.cbc.ca/news/world/martin-luther-ki...</td>\n",
       "    </tr>\n",
       "    <tr>\n",
       "      <th>3</th>\n",
       "      <td>63bfcf7af642cd456253f104</td>\n",
       "      <td>0.9663</td>\n",
       "      <td>https://www.cbc.ca/news/politics/ukraine-russi...</td>\n",
       "    </tr>\n",
       "    <tr>\n",
       "      <th>4</th>\n",
       "      <td>63d2a6eaf642cd4562e0acd0</td>\n",
       "      <td>-0.4939</td>\n",
       "      <td>https://www.cbc.ca/news/canada/toronto/toronto...</td>\n",
       "    </tr>\n",
       "  </tbody>\n",
       "</table>\n",
       "</div>"
      ],
      "text/plain": [
       "                  text_name  compound  \\\n",
       "0  63d2f449f642cd4562e2dafd    0.9422   \n",
       "1  63baa544f642cd45622e5e52    0.8547   \n",
       "2  63c5d969f642cd456280a6c3    0.8883   \n",
       "3  63bfcf7af642cd456253f104    0.9663   \n",
       "4  63d2a6eaf642cd4562e0acd0   -0.4939   \n",
       "\n",
       "                                                 url  \n",
       "0  https://www.cbc.ca/news/canada/windsor/detroit...  \n",
       "1  https://www.cbc.ca/news/world/china-borders-op...  \n",
       "2  https://www.cbc.ca/news/world/martin-luther-ki...  \n",
       "3  https://www.cbc.ca/news/politics/ukraine-russi...  \n",
       "4  https://www.cbc.ca/news/canada/toronto/toronto...  "
      ]
     },
     "execution_count": 4,
     "metadata": {},
     "output_type": "execute_result"
    }
   ],
   "source": [
    "quotes_df.head()"
   ]
  },
  {
   "cell_type": "code",
   "execution_count": 5,
   "metadata": {
    "colab": {
     "base_uri": "https://localhost:8080/",
     "height": 206
    },
    "executionInfo": {
     "elapsed": 186,
     "status": "ok",
     "timestamp": 1731519516714,
     "user": {
      "displayName": "Jodie Lee",
      "userId": "05117498454440747132"
     },
     "user_tz": 480
    },
    "id": "ee0_AnmDiLsY",
    "outputId": "8d022066-3e2f-4161-e0e2-73a3c3a4ab01"
   },
   "outputs": [
    {
     "data": {
      "text/html": [
       "<div>\n",
       "<style scoped>\n",
       "    .dataframe tbody tr th:only-of-type {\n",
       "        vertical-align: middle;\n",
       "    }\n",
       "\n",
       "    .dataframe tbody tr th {\n",
       "        vertical-align: top;\n",
       "    }\n",
       "\n",
       "    .dataframe thead th {\n",
       "        text-align: right;\n",
       "    }\n",
       "</style>\n",
       "<table border=\"1\" class=\"dataframe\">\n",
       "  <thead>\n",
       "    <tr style=\"text-align: right;\">\n",
       "      <th></th>\n",
       "      <th>text_name</th>\n",
       "      <th>compound</th>\n",
       "    </tr>\n",
       "  </thead>\n",
       "  <tbody>\n",
       "    <tr>\n",
       "      <th>0</th>\n",
       "      <td>63d2f449f642cd4562e2dafd</td>\n",
       "      <td>-0.4019</td>\n",
       "    </tr>\n",
       "    <tr>\n",
       "      <th>1</th>\n",
       "      <td>63baa544f642cd45622e5e52</td>\n",
       "      <td>0.9835</td>\n",
       "    </tr>\n",
       "    <tr>\n",
       "      <th>2</th>\n",
       "      <td>63c5d969f642cd456280a6c3</td>\n",
       "      <td>0.9886</td>\n",
       "    </tr>\n",
       "    <tr>\n",
       "      <th>3</th>\n",
       "      <td>63bfcf7af642cd456253f104</td>\n",
       "      <td>-0.8118</td>\n",
       "    </tr>\n",
       "    <tr>\n",
       "      <th>4</th>\n",
       "      <td>63d2a6eaf642cd4562e0acd0</td>\n",
       "      <td>-0.9728</td>\n",
       "    </tr>\n",
       "  </tbody>\n",
       "</table>\n",
       "</div>"
      ],
      "text/plain": [
       "                  text_name  compound\n",
       "0  63d2f449f642cd4562e2dafd   -0.4019\n",
       "1  63baa544f642cd45622e5e52    0.9835\n",
       "2  63c5d969f642cd456280a6c3    0.9886\n",
       "3  63bfcf7af642cd456253f104   -0.8118\n",
       "4  63d2a6eaf642cd4562e0acd0   -0.9728"
      ]
     },
     "execution_count": 5,
     "metadata": {},
     "output_type": "execute_result"
    }
   ],
   "source": [
    "non_quotes_df.head()"
   ]
  },
  {
   "cell_type": "code",
   "execution_count": 6,
   "metadata": {
    "colab": {
     "base_uri": "https://localhost:8080/"
    },
    "executionInfo": {
     "elapsed": 163,
     "status": "ok",
     "timestamp": 1731519519673,
     "user": {
      "displayName": "Jodie Lee",
      "userId": "05117498454440747132"
     },
     "user_tz": 480
    },
    "id": "m0qBCzTQizOG",
    "outputId": "ec00581e-c742-4331-8667-9aea64e8638d"
   },
   "outputs": [
    {
     "data": {
      "text/plain": [
       "48701"
      ]
     },
     "execution_count": 6,
     "metadata": {},
     "output_type": "execute_result"
    }
   ],
   "source": [
    "num_articles = len(quotes_df)\n",
    "num_articles"
   ]
  },
  {
   "cell_type": "code",
   "execution_count": 7,
   "metadata": {
    "colab": {
     "base_uri": "https://localhost:8080/"
    },
    "executionInfo": {
     "elapsed": 209,
     "status": "ok",
     "timestamp": 1731519521501,
     "user": {
      "displayName": "Jodie Lee",
      "userId": "05117498454440747132"
     },
     "user_tz": 480
    },
    "id": "0WWDZlY_i7QX",
    "outputId": "859706e3-96ee-40df-c6da-fc81ce34c578"
   },
   "outputs": [
    {
     "data": {
      "text/plain": [
       "48701"
      ]
     },
     "execution_count": 7,
     "metadata": {},
     "output_type": "execute_result"
    }
   ],
   "source": [
    "# sanity check: same number of articles in non_quotes\n",
    "len(non_quotes_df)"
   ]
  },
  {
   "cell_type": "code",
   "execution_count": 8,
   "metadata": {
    "colab": {
     "base_uri": "https://localhost:8080/"
    },
    "executionInfo": {
     "elapsed": 189,
     "status": "ok",
     "timestamp": 1731519524662,
     "user": {
      "displayName": "Jodie Lee",
      "userId": "05117498454440747132"
     },
     "user_tz": 480
    },
    "id": "C-w2BOtnl0Au",
    "outputId": "c35aa8d4-6d2b-49e6-d32a-d50441138392"
   },
   "outputs": [
    {
     "name": "stdout",
     "output_type": "stream",
     "text": [
      "                  text_name  compound_quotes  \\\n",
      "0  63d2f449f642cd4562e2dafd           0.9422   \n",
      "1  63baa544f642cd45622e5e52           0.8547   \n",
      "2  63c5d969f642cd456280a6c3           0.8883   \n",
      "3  63bfcf7af642cd456253f104           0.9663   \n",
      "4  63d2a6eaf642cd4562e0acd0          -0.4939   \n",
      "\n",
      "                                                 url  compound_non_quotes  \n",
      "0  https://www.cbc.ca/news/canada/windsor/detroit...              -0.4019  \n",
      "1  https://www.cbc.ca/news/world/china-borders-op...               0.9835  \n",
      "2  https://www.cbc.ca/news/world/martin-luther-ki...               0.9886  \n",
      "3  https://www.cbc.ca/news/politics/ukraine-russi...              -0.8118  \n",
      "4  https://www.cbc.ca/news/canada/toronto/toronto...              -0.9728  \n",
      "48701\n"
     ]
    }
   ],
   "source": [
    "# merge dataframes on text name\n",
    "months_df = pd.merge(quotes_df, non_quotes_df, on=['text_name'], suffixes=('_quotes', '_non_quotes'))\n",
    "\n",
    "print(months_df.head())\n",
    "print(len(months_df))"
   ]
  },
  {
   "cell_type": "code",
   "execution_count": 9,
   "metadata": {
    "id": "UDmfvtoKngpq"
   },
   "outputs": [],
   "source": [
    "# rearrange columns to be more legible\n",
    "headers = ['text_name', 'compound_quotes', 'compound_non_quotes', 'url']\n",
    "months_df = months_df.reindex(columns=headers)"
   ]
  },
  {
   "cell_type": "code",
   "execution_count": 10,
   "metadata": {
    "colab": {
     "base_uri": "https://localhost:8080/",
     "height": 206
    },
    "executionInfo": {
     "elapsed": 174,
     "status": "ok",
     "timestamp": 1731519783959,
     "user": {
      "displayName": "Jodie Lee",
      "userId": "05117498454440747132"
     },
     "user_tz": 480
    },
    "id": "tPPcbhYjnwM4",
    "outputId": "e1af2355-e5fa-448e-9e47-977814b6d179"
   },
   "outputs": [
    {
     "data": {
      "text/html": [
       "<div>\n",
       "<style scoped>\n",
       "    .dataframe tbody tr th:only-of-type {\n",
       "        vertical-align: middle;\n",
       "    }\n",
       "\n",
       "    .dataframe tbody tr th {\n",
       "        vertical-align: top;\n",
       "    }\n",
       "\n",
       "    .dataframe thead th {\n",
       "        text-align: right;\n",
       "    }\n",
       "</style>\n",
       "<table border=\"1\" class=\"dataframe\">\n",
       "  <thead>\n",
       "    <tr style=\"text-align: right;\">\n",
       "      <th></th>\n",
       "      <th>text_name</th>\n",
       "      <th>compound_quotes</th>\n",
       "      <th>compound_non_quotes</th>\n",
       "      <th>url</th>\n",
       "    </tr>\n",
       "  </thead>\n",
       "  <tbody>\n",
       "    <tr>\n",
       "      <th>0</th>\n",
       "      <td>63d2f449f642cd4562e2dafd</td>\n",
       "      <td>0.9422</td>\n",
       "      <td>-0.4019</td>\n",
       "      <td>https://www.cbc.ca/news/canada/windsor/detroit...</td>\n",
       "    </tr>\n",
       "    <tr>\n",
       "      <th>1</th>\n",
       "      <td>63baa544f642cd45622e5e52</td>\n",
       "      <td>0.8547</td>\n",
       "      <td>0.9835</td>\n",
       "      <td>https://www.cbc.ca/news/world/china-borders-op...</td>\n",
       "    </tr>\n",
       "    <tr>\n",
       "      <th>2</th>\n",
       "      <td>63c5d969f642cd456280a6c3</td>\n",
       "      <td>0.8883</td>\n",
       "      <td>0.9886</td>\n",
       "      <td>https://www.cbc.ca/news/world/martin-luther-ki...</td>\n",
       "    </tr>\n",
       "    <tr>\n",
       "      <th>3</th>\n",
       "      <td>63bfcf7af642cd456253f104</td>\n",
       "      <td>0.9663</td>\n",
       "      <td>-0.8118</td>\n",
       "      <td>https://www.cbc.ca/news/politics/ukraine-russi...</td>\n",
       "    </tr>\n",
       "    <tr>\n",
       "      <th>4</th>\n",
       "      <td>63d2a6eaf642cd4562e0acd0</td>\n",
       "      <td>-0.4939</td>\n",
       "      <td>-0.9728</td>\n",
       "      <td>https://www.cbc.ca/news/canada/toronto/toronto...</td>\n",
       "    </tr>\n",
       "  </tbody>\n",
       "</table>\n",
       "</div>"
      ],
      "text/plain": [
       "                  text_name  compound_quotes  compound_non_quotes  \\\n",
       "0  63d2f449f642cd4562e2dafd           0.9422              -0.4019   \n",
       "1  63baa544f642cd45622e5e52           0.8547               0.9835   \n",
       "2  63c5d969f642cd456280a6c3           0.8883               0.9886   \n",
       "3  63bfcf7af642cd456253f104           0.9663              -0.8118   \n",
       "4  63d2a6eaf642cd4562e0acd0          -0.4939              -0.9728   \n",
       "\n",
       "                                                 url  \n",
       "0  https://www.cbc.ca/news/canada/windsor/detroit...  \n",
       "1  https://www.cbc.ca/news/world/china-borders-op...  \n",
       "2  https://www.cbc.ca/news/world/martin-luther-ki...  \n",
       "3  https://www.cbc.ca/news/politics/ukraine-russi...  \n",
       "4  https://www.cbc.ca/news/canada/toronto/toronto...  "
      ]
     },
     "execution_count": 10,
     "metadata": {},
     "output_type": "execute_result"
    }
   ],
   "source": [
    "months_df.head()"
   ]
  },
  {
   "cell_type": "markdown",
   "metadata": {
    "id": "G9Yv3qKujX9y"
   },
   "source": [
    "### Extracting First Segment: High Level Category\n",
    "This only looks at the stuff right after 'cbc.ca' - generally \"sports\", \"arts\", \"news\". Since quotes and non_quotes sheets have the same articles and thus identical urls, we will do all url classification/analysis with the quotes_df."
   ]
  },
  {
   "cell_type": "code",
   "execution_count": 11,
   "metadata": {
    "colab": {
     "base_uri": "https://localhost:8080/"
    },
    "executionInfo": {
     "elapsed": 385,
     "status": "ok",
     "timestamp": 1731519816121,
     "user": {
      "displayName": "Jodie Lee",
      "userId": "05117498454440747132"
     },
     "user_tz": 480
    },
    "id": "vzxZ1P7MjnQH",
    "outputId": "64db7ad5-1ab2-4393-b521-98fb6bdfcb1e"
   },
   "outputs": [
    {
     "name": "stdout",
     "output_type": "stream",
     "text": [
      "Counts for the first segment:\n",
      " news                 42979\n",
      "sports                2768\n",
      "radio                 1265\n",
      "arts                   610\n",
      "books                  314\n",
      "music                  240\n",
      "kidsnews               136\n",
      "life                   129\n",
      "documentaries          100\n",
      "television              92\n",
      "archives                39\n",
      "newsletter_static       18\n",
      "comedy                   9\n",
      "indspire                 1\n",
      "media                    1\n",
      "Name: first_segment, dtype: int64\n"
     ]
    }
   ],
   "source": [
    "months_df['first_segment'] = months_df['url'].str.extract(r'cbc\\.ca/([^/]+)')\n",
    "\n",
    "# count occurrences of unique segments\n",
    "segment_counts = months_df['first_segment'].value_counts()\n",
    "\n",
    "# display the counts\n",
    "print(\"Counts for the first segment:\\n\", months_df['first_segment'].value_counts())"
   ]
  },
  {
   "cell_type": "code",
   "execution_count": 69,
   "metadata": {
    "executionInfo": {
     "elapsed": 180,
     "status": "ok",
     "timestamp": 1731533040627,
     "user": {
      "displayName": "Jodie Lee",
      "userId": "05117498454440747132"
     },
     "user_tz": 480
    },
    "id": "_K96jcCUOusY"
   },
   "outputs": [],
   "source": [
    "# export to csv\n",
    "fp = '/content/drive/My Drive/evaluation_quotes/CSVs/URL_first_category.csv'\n",
    "segment_counts.reset_index().to_csv(fp, index=False)"
   ]
  },
  {
   "cell_type": "code",
   "execution_count": 12,
   "metadata": {
    "colab": {
     "base_uri": "https://localhost:8080/"
    },
    "executionInfo": {
     "elapsed": 189,
     "status": "ok",
     "timestamp": 1731519828531,
     "user": {
      "displayName": "Jodie Lee",
      "userId": "05117498454440747132"
     },
     "user_tz": 480
    },
    "id": "xf6H9EPTkdWI",
    "outputId": "48e8351b-5056-41c0-9fc8-70ec2921baf4"
   },
   "outputs": [
    {
     "name": "stdout",
     "output_type": "stream",
     "text": [
      "Total count across all first segments:  48701\n",
      "Total number of articles:  48701\n"
     ]
    }
   ],
   "source": [
    "# count occurrences of each unique first segment\n",
    "first_segment_counts = months_df['first_segment'].value_counts()\n",
    "\n",
    "# calculate the total count\n",
    "first_total_counts = first_segment_counts.sum()\n",
    "\n",
    "print(\"Total count across all first segments: \", first_total_counts)\n",
    "print(\"Total number of articles: \", num_articles)"
   ]
  },
  {
   "cell_type": "code",
   "execution_count": 13,
   "metadata": {
    "colab": {
     "base_uri": "https://localhost:8080/",
     "height": 206
    },
    "executionInfo": {
     "elapsed": 346,
     "status": "ok",
     "timestamp": 1731519835519,
     "user": {
      "displayName": "Jodie Lee",
      "userId": "05117498454440747132"
     },
     "user_tz": 480
    },
    "id": "T-oR9SH3lCb8",
    "outputId": "c0e10cdd-da0f-4dfa-a484-459df41e00f9"
   },
   "outputs": [
    {
     "data": {
      "text/html": [
       "<div>\n",
       "<style scoped>\n",
       "    .dataframe tbody tr th:only-of-type {\n",
       "        vertical-align: middle;\n",
       "    }\n",
       "\n",
       "    .dataframe tbody tr th {\n",
       "        vertical-align: top;\n",
       "    }\n",
       "\n",
       "    .dataframe thead th {\n",
       "        text-align: right;\n",
       "    }\n",
       "</style>\n",
       "<table border=\"1\" class=\"dataframe\">\n",
       "  <thead>\n",
       "    <tr style=\"text-align: right;\">\n",
       "      <th></th>\n",
       "      <th>text_name</th>\n",
       "      <th>compound_quotes</th>\n",
       "      <th>compound_non_quotes</th>\n",
       "      <th>url</th>\n",
       "      <th>first_segment</th>\n",
       "    </tr>\n",
       "  </thead>\n",
       "  <tbody>\n",
       "    <tr>\n",
       "      <th>0</th>\n",
       "      <td>63d2f449f642cd4562e2dafd</td>\n",
       "      <td>0.9422</td>\n",
       "      <td>-0.4019</td>\n",
       "      <td>https://www.cbc.ca/news/canada/windsor/detroit...</td>\n",
       "      <td>news</td>\n",
       "    </tr>\n",
       "    <tr>\n",
       "      <th>1</th>\n",
       "      <td>63baa544f642cd45622e5e52</td>\n",
       "      <td>0.8547</td>\n",
       "      <td>0.9835</td>\n",
       "      <td>https://www.cbc.ca/news/world/china-borders-op...</td>\n",
       "      <td>news</td>\n",
       "    </tr>\n",
       "    <tr>\n",
       "      <th>2</th>\n",
       "      <td>63c5d969f642cd456280a6c3</td>\n",
       "      <td>0.8883</td>\n",
       "      <td>0.9886</td>\n",
       "      <td>https://www.cbc.ca/news/world/martin-luther-ki...</td>\n",
       "      <td>news</td>\n",
       "    </tr>\n",
       "    <tr>\n",
       "      <th>3</th>\n",
       "      <td>63bfcf7af642cd456253f104</td>\n",
       "      <td>0.9663</td>\n",
       "      <td>-0.8118</td>\n",
       "      <td>https://www.cbc.ca/news/politics/ukraine-russi...</td>\n",
       "      <td>news</td>\n",
       "    </tr>\n",
       "    <tr>\n",
       "      <th>4</th>\n",
       "      <td>63d2a6eaf642cd4562e0acd0</td>\n",
       "      <td>-0.4939</td>\n",
       "      <td>-0.9728</td>\n",
       "      <td>https://www.cbc.ca/news/canada/toronto/toronto...</td>\n",
       "      <td>news</td>\n",
       "    </tr>\n",
       "  </tbody>\n",
       "</table>\n",
       "</div>"
      ],
      "text/plain": [
       "                  text_name  compound_quotes  compound_non_quotes  \\\n",
       "0  63d2f449f642cd4562e2dafd           0.9422              -0.4019   \n",
       "1  63baa544f642cd45622e5e52           0.8547               0.9835   \n",
       "2  63c5d969f642cd456280a6c3           0.8883               0.9886   \n",
       "3  63bfcf7af642cd456253f104           0.9663              -0.8118   \n",
       "4  63d2a6eaf642cd4562e0acd0          -0.4939              -0.9728   \n",
       "\n",
       "                                                 url first_segment  \n",
       "0  https://www.cbc.ca/news/canada/windsor/detroit...          news  \n",
       "1  https://www.cbc.ca/news/world/china-borders-op...          news  \n",
       "2  https://www.cbc.ca/news/world/martin-luther-ki...          news  \n",
       "3  https://www.cbc.ca/news/politics/ukraine-russi...          news  \n",
       "4  https://www.cbc.ca/news/canada/toronto/toronto...          news  "
      ]
     },
     "execution_count": 13,
     "metadata": {},
     "output_type": "execute_result"
    }
   ],
   "source": [
    "months_df.head()"
   ]
  },
  {
   "cell_type": "markdown",
   "metadata": {
    "id": "34uuuOghoKUk"
   },
   "source": [
    "### Extracting Last Segment: News Category\n",
    "This looks at the subcategories for articles classified under \"cbc.ca/news/\". We want to figure out what are the most common subcategories under 'news'.\n",
    "\n",
    "First we extract the last segment, i.e. the last level of categorization before the article title."
   ]
  },
  {
   "cell_type": "code",
   "execution_count": 14,
   "metadata": {
    "colab": {
     "base_uri": "https://localhost:8080/"
    },
    "executionInfo": {
     "elapsed": 345,
     "status": "ok",
     "timestamp": 1731521979557,
     "user": {
      "displayName": "Jodie Lee",
      "userId": "05117498454440747132"
     },
     "user_tz": 480
    },
    "id": "yyXNK_OLvXyC",
    "outputId": "08c19a58-1559-40c6-97ba-7e5c09370867"
   },
   "outputs": [
    {
     "name": "stdout",
     "output_type": "stream",
     "text": [
      "Counts for the last segment:\n",
      " canada                                                                                               37179\n",
      "world                                                                                                 2012\n",
      "politics                                                                                              1681\n",
      "business                                                                                               640\n",
      "olympics                                                                                               605\n",
      "                                                                                                     ...  \n",
      "canada-bermuda-cricket-mens-t20-americas-world-cup-qualifier-final-1.6990412                             1\n",
      "spirit-muchmusic-still-alive-doc-premiere-with-vjs-1.6977287                                             1\n",
      "the-man-who-stole-einstein-s-brain-hot-docs-interview-carolyn-abraham-michelle-shephard-1.6831222        1\n",
      "national-youth-orchestra-of-canada-conductor-naomi-woo-1.7050437                                         1\n",
      "silver-nitrate-by-silvia-moreno-garcia-1.6917166                                                         1\n",
      "Name: last_segment, Length: 1271, dtype: int64\n"
     ]
    }
   ],
   "source": [
    "months_df['last_segment'] = months_df['url'].str.extract(r'cbc\\.ca/[^/]+/([^/]+)')\n",
    "\n",
    "# count occurrences of each unique last segment\n",
    "last_segment_counts = months_df['last_segment'].value_counts()\n",
    "\n",
    "# display the counts\n",
    "print(\"Counts for the last segment:\\n\", last_segment_counts)"
   ]
  },
  {
   "cell_type": "code",
   "execution_count": 15,
   "metadata": {
    "colab": {
     "base_uri": "https://localhost:8080/"
    },
    "executionInfo": {
     "elapsed": 208,
     "status": "ok",
     "timestamp": 1731522035904,
     "user": {
      "displayName": "Jodie Lee",
      "userId": "05117498454440747132"
     },
     "user_tz": 480
    },
    "id": "JGxl8zaUvdYz",
    "outputId": "13b7c3a6-44f0-48d7-8742-849927022359"
   },
   "outputs": [
    {
     "name": "stdout",
     "output_type": "stream",
     "text": [
      "Total count across all last segments:  48700\n",
      "Total number of articles:  48701\n"
     ]
    }
   ],
   "source": [
    "# count occurrences of each unique last segment\n",
    "last_segment_counts = months_df['last_segment'].value_counts()\n",
    "\n",
    "# calculate the total count\n",
    "last_total_counts = last_segment_counts.sum()\n",
    "\n",
    "print(\"Total count across all last segments: \", last_total_counts) # we lost an article here?? how?? where??\n",
    "print(\"Total number of articles: \", num_articles)"
   ]
  },
  {
   "cell_type": "code",
   "execution_count": 16,
   "metadata": {
    "id": "744FfJbpoCT7"
   },
   "outputs": [],
   "source": [
    "# filter the df so it is only news\n",
    "news_df = months_df[months_df['first_segment'] == 'news']"
   ]
  },
  {
   "cell_type": "code",
   "execution_count": 17,
   "metadata": {
    "colab": {
     "base_uri": "https://localhost:8080/",
     "height": 206
    },
    "executionInfo": {
     "elapsed": 358,
     "status": "ok",
     "timestamp": 1731522144409,
     "user": {
      "displayName": "Jodie Lee",
      "userId": "05117498454440747132"
     },
     "user_tz": 480
    },
    "id": "v2IIf0BXvDtT",
    "outputId": "f2dd77bf-d12f-426a-813e-78771f1f19d0"
   },
   "outputs": [
    {
     "data": {
      "text/html": [
       "<div>\n",
       "<style scoped>\n",
       "    .dataframe tbody tr th:only-of-type {\n",
       "        vertical-align: middle;\n",
       "    }\n",
       "\n",
       "    .dataframe tbody tr th {\n",
       "        vertical-align: top;\n",
       "    }\n",
       "\n",
       "    .dataframe thead th {\n",
       "        text-align: right;\n",
       "    }\n",
       "</style>\n",
       "<table border=\"1\" class=\"dataframe\">\n",
       "  <thead>\n",
       "    <tr style=\"text-align: right;\">\n",
       "      <th></th>\n",
       "      <th>text_name</th>\n",
       "      <th>compound_quotes</th>\n",
       "      <th>compound_non_quotes</th>\n",
       "      <th>url</th>\n",
       "      <th>first_segment</th>\n",
       "      <th>last_segment</th>\n",
       "    </tr>\n",
       "  </thead>\n",
       "  <tbody>\n",
       "    <tr>\n",
       "      <th>0</th>\n",
       "      <td>63d2f449f642cd4562e2dafd</td>\n",
       "      <td>0.9422</td>\n",
       "      <td>-0.4019</td>\n",
       "      <td>https://www.cbc.ca/news/canada/windsor/detroit...</td>\n",
       "      <td>news</td>\n",
       "      <td>canada</td>\n",
       "    </tr>\n",
       "    <tr>\n",
       "      <th>1</th>\n",
       "      <td>63baa544f642cd45622e5e52</td>\n",
       "      <td>0.8547</td>\n",
       "      <td>0.9835</td>\n",
       "      <td>https://www.cbc.ca/news/world/china-borders-op...</td>\n",
       "      <td>news</td>\n",
       "      <td>world</td>\n",
       "    </tr>\n",
       "    <tr>\n",
       "      <th>2</th>\n",
       "      <td>63c5d969f642cd456280a6c3</td>\n",
       "      <td>0.8883</td>\n",
       "      <td>0.9886</td>\n",
       "      <td>https://www.cbc.ca/news/world/martin-luther-ki...</td>\n",
       "      <td>news</td>\n",
       "      <td>world</td>\n",
       "    </tr>\n",
       "    <tr>\n",
       "      <th>3</th>\n",
       "      <td>63bfcf7af642cd456253f104</td>\n",
       "      <td>0.9663</td>\n",
       "      <td>-0.8118</td>\n",
       "      <td>https://www.cbc.ca/news/politics/ukraine-russi...</td>\n",
       "      <td>news</td>\n",
       "      <td>politics</td>\n",
       "    </tr>\n",
       "    <tr>\n",
       "      <th>4</th>\n",
       "      <td>63d2a6eaf642cd4562e0acd0</td>\n",
       "      <td>-0.4939</td>\n",
       "      <td>-0.9728</td>\n",
       "      <td>https://www.cbc.ca/news/canada/toronto/toronto...</td>\n",
       "      <td>news</td>\n",
       "      <td>canada</td>\n",
       "    </tr>\n",
       "  </tbody>\n",
       "</table>\n",
       "</div>"
      ],
      "text/plain": [
       "                  text_name  compound_quotes  compound_non_quotes  \\\n",
       "0  63d2f449f642cd4562e2dafd           0.9422              -0.4019   \n",
       "1  63baa544f642cd45622e5e52           0.8547               0.9835   \n",
       "2  63c5d969f642cd456280a6c3           0.8883               0.9886   \n",
       "3  63bfcf7af642cd456253f104           0.9663              -0.8118   \n",
       "4  63d2a6eaf642cd4562e0acd0          -0.4939              -0.9728   \n",
       "\n",
       "                                                 url first_segment  \\\n",
       "0  https://www.cbc.ca/news/canada/windsor/detroit...          news   \n",
       "1  https://www.cbc.ca/news/world/china-borders-op...          news   \n",
       "2  https://www.cbc.ca/news/world/martin-luther-ki...          news   \n",
       "3  https://www.cbc.ca/news/politics/ukraine-russi...          news   \n",
       "4  https://www.cbc.ca/news/canada/toronto/toronto...          news   \n",
       "\n",
       "  last_segment  \n",
       "0       canada  \n",
       "1        world  \n",
       "2        world  \n",
       "3     politics  \n",
       "4       canada  "
      ]
     },
     "execution_count": 17,
     "metadata": {},
     "output_type": "execute_result"
    }
   ],
   "source": [
    "news_df.head()"
   ]
  },
  {
   "cell_type": "code",
   "execution_count": 18,
   "metadata": {
    "colab": {
     "base_uri": "https://localhost:8080/"
    },
    "executionInfo": {
     "elapsed": 199,
     "status": "ok",
     "timestamp": 1731532391709,
     "user": {
      "displayName": "Jodie Lee",
      "userId": "05117498454440747132"
     },
     "user_tz": 480
    },
    "id": "I-DDCl8mXAZc",
    "outputId": "9e984f6e-f9c5-4477-eb73-7140118b3430"
   },
   "outputs": [
    {
     "name": "stdout",
     "output_type": "stream",
     "text": [
      "Counts for the news types:\n",
      " canada                                                 37179\n",
      "world                                                   2012\n",
      "politics                                                1681\n",
      "business                                                 640\n",
      "entertainment                                            512\n",
      "                                                       ...  \n",
      "montreal-bagel-uk-1.6849133                                1\n",
      "former-caf-interpreter-arrest-afghanistan-1.7047195        1\n",
      "ttc-halloween-subway-changes-1.7010403                     1\n",
      "wage-theft-ontario-workers-1.6913090                       1\n",
      "hong-kong-china-national-security-law-1.6890220            1\n",
      "Name: last_segment, Length: 76, dtype: int64\n"
     ]
    }
   ],
   "source": [
    "# count occurrences of each unique last segment\n",
    "news_type_counts = news_df['last_segment'].value_counts()\n",
    "\n",
    "# display the counts\n",
    "print(\"Counts for the news types:\\n\", news_type_counts)"
   ]
  },
  {
   "cell_type": "code",
   "execution_count": 70,
   "metadata": {
    "executionInfo": {
     "elapsed": 163,
     "status": "ok",
     "timestamp": 1731533053931,
     "user": {
      "displayName": "Jodie Lee",
      "userId": "05117498454440747132"
     },
     "user_tz": 480
    },
    "id": "hRRkO4i1XrxT"
   },
   "outputs": [],
   "source": [
    "# export to csv\n",
    "fp = '/content/drive/My Drive/evaluation_quotes/CSVs/URL_news_type.csv'\n",
    "news_type_counts.reset_index().to_csv(fp, index=False)"
   ]
  },
  {
   "cell_type": "markdown",
   "metadata": {
    "id": "FfzieEb3xCHB"
   },
   "source": [
    "### Looking at subtypes of news under Canada"
   ]
  },
  {
   "cell_type": "code",
   "execution_count": 19,
   "metadata": {
    "id": "KVn12FFbw0OQ"
   },
   "outputs": [],
   "source": [
    "news_canada_df = news_df[news_df['last_segment'] == 'canada']"
   ]
  },
  {
   "cell_type": "code",
   "execution_count": 20,
   "metadata": {
    "colab": {
     "base_uri": "https://localhost:8080/",
     "height": 206
    },
    "executionInfo": {
     "elapsed": 349,
     "status": "ok",
     "timestamp": 1731522291609,
     "user": {
      "displayName": "Jodie Lee",
      "userId": "05117498454440747132"
     },
     "user_tz": 480
    },
    "id": "f6zqk0-cxUMu",
    "outputId": "d9c9fe86-222e-4fee-8c39-ad951a72734b"
   },
   "outputs": [
    {
     "data": {
      "text/html": [
       "<div>\n",
       "<style scoped>\n",
       "    .dataframe tbody tr th:only-of-type {\n",
       "        vertical-align: middle;\n",
       "    }\n",
       "\n",
       "    .dataframe tbody tr th {\n",
       "        vertical-align: top;\n",
       "    }\n",
       "\n",
       "    .dataframe thead th {\n",
       "        text-align: right;\n",
       "    }\n",
       "</style>\n",
       "<table border=\"1\" class=\"dataframe\">\n",
       "  <thead>\n",
       "    <tr style=\"text-align: right;\">\n",
       "      <th></th>\n",
       "      <th>text_name</th>\n",
       "      <th>compound_quotes</th>\n",
       "      <th>compound_non_quotes</th>\n",
       "      <th>url</th>\n",
       "      <th>first_segment</th>\n",
       "      <th>last_segment</th>\n",
       "    </tr>\n",
       "  </thead>\n",
       "  <tbody>\n",
       "    <tr>\n",
       "      <th>0</th>\n",
       "      <td>63d2f449f642cd4562e2dafd</td>\n",
       "      <td>0.9422</td>\n",
       "      <td>-0.4019</td>\n",
       "      <td>https://www.cbc.ca/news/canada/windsor/detroit...</td>\n",
       "      <td>news</td>\n",
       "      <td>canada</td>\n",
       "    </tr>\n",
       "    <tr>\n",
       "      <th>4</th>\n",
       "      <td>63d2a6eaf642cd4562e0acd0</td>\n",
       "      <td>-0.4939</td>\n",
       "      <td>-0.9728</td>\n",
       "      <td>https://www.cbc.ca/news/canada/toronto/toronto...</td>\n",
       "      <td>news</td>\n",
       "      <td>canada</td>\n",
       "    </tr>\n",
       "    <tr>\n",
       "      <th>6</th>\n",
       "      <td>63c4829bf642cd45627700ff</td>\n",
       "      <td>-0.3612</td>\n",
       "      <td>-0.8979</td>\n",
       "      <td>https://www.cbc.ca/news/canada/manitoba/winnip...</td>\n",
       "      <td>news</td>\n",
       "      <td>canada</td>\n",
       "    </tr>\n",
       "    <tr>\n",
       "      <th>7</th>\n",
       "      <td>63cc0137f642cd4562aeb9c1</td>\n",
       "      <td>0.9147</td>\n",
       "      <td>0.7903</td>\n",
       "      <td>https://www.cbc.ca/news/canada/british-columbi...</td>\n",
       "      <td>news</td>\n",
       "      <td>canada</td>\n",
       "    </tr>\n",
       "    <tr>\n",
       "      <th>8</th>\n",
       "      <td>63b96f99f642cd456226358d</td>\n",
       "      <td>0.9845</td>\n",
       "      <td>0.7783</td>\n",
       "      <td>https://www.cbc.ca/news/canada/british-columbi...</td>\n",
       "      <td>news</td>\n",
       "      <td>canada</td>\n",
       "    </tr>\n",
       "  </tbody>\n",
       "</table>\n",
       "</div>"
      ],
      "text/plain": [
       "                  text_name  compound_quotes  compound_non_quotes  \\\n",
       "0  63d2f449f642cd4562e2dafd           0.9422              -0.4019   \n",
       "4  63d2a6eaf642cd4562e0acd0          -0.4939              -0.9728   \n",
       "6  63c4829bf642cd45627700ff          -0.3612              -0.8979   \n",
       "7  63cc0137f642cd4562aeb9c1           0.9147               0.7903   \n",
       "8  63b96f99f642cd456226358d           0.9845               0.7783   \n",
       "\n",
       "                                                 url first_segment  \\\n",
       "0  https://www.cbc.ca/news/canada/windsor/detroit...          news   \n",
       "4  https://www.cbc.ca/news/canada/toronto/toronto...          news   \n",
       "6  https://www.cbc.ca/news/canada/manitoba/winnip...          news   \n",
       "7  https://www.cbc.ca/news/canada/british-columbi...          news   \n",
       "8  https://www.cbc.ca/news/canada/british-columbi...          news   \n",
       "\n",
       "  last_segment  \n",
       "0       canada  \n",
       "4       canada  \n",
       "6       canada  \n",
       "7       canada  \n",
       "8       canada  "
      ]
     },
     "execution_count": 20,
     "metadata": {},
     "output_type": "execute_result"
    }
   ],
   "source": [
    "news_canada_df.head()"
   ]
  },
  {
   "cell_type": "code",
   "execution_count": 21,
   "metadata": {
    "colab": {
     "base_uri": "https://localhost:8080/"
    },
    "executionInfo": {
     "elapsed": 364,
     "status": "ok",
     "timestamp": 1731522658838,
     "user": {
      "displayName": "Jodie Lee",
      "userId": "05117498454440747132"
     },
     "user_tz": 480
    },
    "id": "omK6i74rxLNh",
    "outputId": "c7687968-58cd-4e3a-e8b8-4f1c677803e0"
   },
   "outputs": [
    {
     "name": "stdout",
     "output_type": "stream",
     "text": [
      "Counts for the first news canada segment:\n",
      " british-columbia                                                            3843\n",
      "manitoba                                                                    3445\n",
      "nova-scotia                                                                 2764\n",
      "toronto                                                                     2436\n",
      "ottawa                                                                      2286\n",
      "                                                                            ... \n",
      "psac-strike-cra-passports-canada-workers-labour-action-trudeau-1.6815288       1\n",
      "pride-flags-political-debates-1.6837143                                        1\n",
      "short-film-face-off-season-16-films-announced-1.6855661                        1\n",
      "coronation-ceremony-processions-1.6829168                                      1\n",
      "alberta-charges-carbon-offset-firm-1.6903889                                   1\n",
      "Name: news_canada_type, Length: 409, dtype: int64\n"
     ]
    },
    {
     "name": "stderr",
     "output_type": "stream",
     "text": [
      "<ipython-input-21-8ef4e84cff6a>:1: SettingWithCopyWarning: \n",
      "A value is trying to be set on a copy of a slice from a DataFrame.\n",
      "Try using .loc[row_indexer,col_indexer] = value instead\n",
      "\n",
      "See the caveats in the documentation: https://pandas.pydata.org/pandas-docs/stable/user_guide/indexing.html#returning-a-view-versus-a-copy\n",
      "  news_canada_df['news_canada_type'] = news_canada_df['url'].str.extract(r'cbc\\.ca/news/canada/([^/]+)')\n"
     ]
    }
   ],
   "source": [
    "news_canada_df['news_canada_type'] = news_canada_df['url'].str.extract(r'cbc\\.ca/news/canada/([^/]+)')\n",
    "\n",
    "# count occurrences of each unique segment\n",
    "news_canada_counts = news_canada_df['news_canada_type'].value_counts()\n",
    "\n",
    "# display the counts\n",
    "print(\"Counts for the first news canada segment:\\n\", news_canada_df['news_canada_type'].value_counts())"
   ]
  },
  {
   "cell_type": "markdown",
   "metadata": {
    "id": "Bol74F5cyxqZ"
   },
   "source": [
    "## URL Analysis\n",
    "Want to create six dataframes with the following categories:\n",
    "* sports_df: all urls from the sports category, as filtered from months_df\n",
    "* news_df: all urls from the news category, as filtered from months_df (this df was already created in the previous section)\n",
    "* arts_df: all urls from the arts category, as filtered from months_df\n",
    "\n",
    "And the following subcategories:\n",
    "* news_canada_df: all urls from the canada subcategory, as filtered from news_df (this df was already created in the previous section)\n",
    "* news_world_df: all urls from the world subcategory, as filtered from news_df\n",
    "* news_politics_df: all urls from the politics subcategory, as filtered from news_df\n",
    "\n",
    "For each df, we want to take the average of\n",
    "* all positive compound scores from quotes\n",
    "* all negative compound scores from quotes\n",
    "* all positive compound scores from non_quotes\n",
    "* all negative compound scores from non_quotes"
   ]
  },
  {
   "cell_type": "markdown",
   "metadata": {
    "id": "0vwGuV6D04r3"
   },
   "source": [
    "### Create dataframes"
   ]
  },
  {
   "cell_type": "code",
   "execution_count": 22,
   "metadata": {
    "id": "NEQLGwJgz-4A"
   },
   "outputs": [],
   "source": [
    "# create new dataframes\n",
    "# remember: we already have news_df and news_canada_df\n",
    "sports_df = months_df[months_df['first_segment'] == 'sports']\n",
    "arts_df = months_df[months_df['first_segment'] == 'arts']\n",
    "news_world_df = news_df[news_df['last_segment'] == 'world']\n",
    "news_politics_df = news_df[news_df['last_segment'] == 'politics']"
   ]
  },
  {
   "cell_type": "code",
   "execution_count": 23,
   "metadata": {
    "colab": {
     "base_uri": "https://localhost:8080/",
     "height": 206
    },
    "executionInfo": {
     "elapsed": 373,
     "status": "ok",
     "timestamp": 1731523193486,
     "user": {
      "displayName": "Jodie Lee",
      "userId": "05117498454440747132"
     },
     "user_tz": 480
    },
    "id": "MHnphLpu0rm2",
    "outputId": "da50006b-c57b-4cb8-daec-0ccc9775cf8a"
   },
   "outputs": [
    {
     "data": {
      "text/html": [
       "<div>\n",
       "<style scoped>\n",
       "    .dataframe tbody tr th:only-of-type {\n",
       "        vertical-align: middle;\n",
       "    }\n",
       "\n",
       "    .dataframe tbody tr th {\n",
       "        vertical-align: top;\n",
       "    }\n",
       "\n",
       "    .dataframe thead th {\n",
       "        text-align: right;\n",
       "    }\n",
       "</style>\n",
       "<table border=\"1\" class=\"dataframe\">\n",
       "  <thead>\n",
       "    <tr style=\"text-align: right;\">\n",
       "      <th></th>\n",
       "      <th>text_name</th>\n",
       "      <th>compound_quotes</th>\n",
       "      <th>compound_non_quotes</th>\n",
       "      <th>url</th>\n",
       "      <th>first_segment</th>\n",
       "      <th>last_segment</th>\n",
       "    </tr>\n",
       "  </thead>\n",
       "  <tbody>\n",
       "    <tr>\n",
       "      <th>0</th>\n",
       "      <td>63d2f449f642cd4562e2dafd</td>\n",
       "      <td>0.9422</td>\n",
       "      <td>-0.4019</td>\n",
       "      <td>https://www.cbc.ca/news/canada/windsor/detroit...</td>\n",
       "      <td>news</td>\n",
       "      <td>canada</td>\n",
       "    </tr>\n",
       "    <tr>\n",
       "      <th>1</th>\n",
       "      <td>63baa544f642cd45622e5e52</td>\n",
       "      <td>0.8547</td>\n",
       "      <td>0.9835</td>\n",
       "      <td>https://www.cbc.ca/news/world/china-borders-op...</td>\n",
       "      <td>news</td>\n",
       "      <td>world</td>\n",
       "    </tr>\n",
       "    <tr>\n",
       "      <th>2</th>\n",
       "      <td>63c5d969f642cd456280a6c3</td>\n",
       "      <td>0.8883</td>\n",
       "      <td>0.9886</td>\n",
       "      <td>https://www.cbc.ca/news/world/martin-luther-ki...</td>\n",
       "      <td>news</td>\n",
       "      <td>world</td>\n",
       "    </tr>\n",
       "    <tr>\n",
       "      <th>3</th>\n",
       "      <td>63bfcf7af642cd456253f104</td>\n",
       "      <td>0.9663</td>\n",
       "      <td>-0.8118</td>\n",
       "      <td>https://www.cbc.ca/news/politics/ukraine-russi...</td>\n",
       "      <td>news</td>\n",
       "      <td>politics</td>\n",
       "    </tr>\n",
       "    <tr>\n",
       "      <th>4</th>\n",
       "      <td>63d2a6eaf642cd4562e0acd0</td>\n",
       "      <td>-0.4939</td>\n",
       "      <td>-0.9728</td>\n",
       "      <td>https://www.cbc.ca/news/canada/toronto/toronto...</td>\n",
       "      <td>news</td>\n",
       "      <td>canada</td>\n",
       "    </tr>\n",
       "  </tbody>\n",
       "</table>\n",
       "</div>"
      ],
      "text/plain": [
       "                  text_name  compound_quotes  compound_non_quotes  \\\n",
       "0  63d2f449f642cd4562e2dafd           0.9422              -0.4019   \n",
       "1  63baa544f642cd45622e5e52           0.8547               0.9835   \n",
       "2  63c5d969f642cd456280a6c3           0.8883               0.9886   \n",
       "3  63bfcf7af642cd456253f104           0.9663              -0.8118   \n",
       "4  63d2a6eaf642cd4562e0acd0          -0.4939              -0.9728   \n",
       "\n",
       "                                                 url first_segment  \\\n",
       "0  https://www.cbc.ca/news/canada/windsor/detroit...          news   \n",
       "1  https://www.cbc.ca/news/world/china-borders-op...          news   \n",
       "2  https://www.cbc.ca/news/world/martin-luther-ki...          news   \n",
       "3  https://www.cbc.ca/news/politics/ukraine-russi...          news   \n",
       "4  https://www.cbc.ca/news/canada/toronto/toronto...          news   \n",
       "\n",
       "  last_segment  \n",
       "0       canada  \n",
       "1        world  \n",
       "2        world  \n",
       "3     politics  \n",
       "4       canada  "
      ]
     },
     "execution_count": 23,
     "metadata": {},
     "output_type": "execute_result"
    }
   ],
   "source": [
    "news_df.head()"
   ]
  },
  {
   "cell_type": "code",
   "execution_count": 24,
   "metadata": {
    "colab": {
     "base_uri": "https://localhost:8080/",
     "height": 206
    },
    "executionInfo": {
     "elapsed": 156,
     "status": "ok",
     "timestamp": 1731523198310,
     "user": {
      "displayName": "Jodie Lee",
      "userId": "05117498454440747132"
     },
     "user_tz": 480
    },
    "id": "_9sK8d7Y0o4d",
    "outputId": "69d9df45-2a18-41cc-a0ad-94075a4a9733"
   },
   "outputs": [
    {
     "data": {
      "text/html": [
       "<div>\n",
       "<style scoped>\n",
       "    .dataframe tbody tr th:only-of-type {\n",
       "        vertical-align: middle;\n",
       "    }\n",
       "\n",
       "    .dataframe tbody tr th {\n",
       "        vertical-align: top;\n",
       "    }\n",
       "\n",
       "    .dataframe thead th {\n",
       "        text-align: right;\n",
       "    }\n",
       "</style>\n",
       "<table border=\"1\" class=\"dataframe\">\n",
       "  <thead>\n",
       "    <tr style=\"text-align: right;\">\n",
       "      <th></th>\n",
       "      <th>text_name</th>\n",
       "      <th>compound_quotes</th>\n",
       "      <th>compound_non_quotes</th>\n",
       "      <th>url</th>\n",
       "      <th>first_segment</th>\n",
       "      <th>last_segment</th>\n",
       "    </tr>\n",
       "  </thead>\n",
       "  <tbody>\n",
       "    <tr>\n",
       "      <th>5</th>\n",
       "      <td>63c763acf642cd45628ba09b</td>\n",
       "      <td>0.9824</td>\n",
       "      <td>0.6169</td>\n",
       "      <td>https://www.cbc.ca/sports/tennis/australian-op...</td>\n",
       "      <td>sports</td>\n",
       "      <td>tennis</td>\n",
       "    </tr>\n",
       "    <tr>\n",
       "      <th>11</th>\n",
       "      <td>63b6f66ff642cd456215195c</td>\n",
       "      <td>0.9442</td>\n",
       "      <td>0.5423</td>\n",
       "      <td>https://www.cbc.ca/sports/football/nfl/buffalo...</td>\n",
       "      <td>sports</td>\n",
       "      <td>football</td>\n",
       "    </tr>\n",
       "    <tr>\n",
       "      <th>30</th>\n",
       "      <td>63c97a3ef642cd45629bdaab</td>\n",
       "      <td>0.9588</td>\n",
       "      <td>0.8750</td>\n",
       "      <td>https://www.cbc.ca/sports/hockey/hockey-canada...</td>\n",
       "      <td>sports</td>\n",
       "      <td>hockey</td>\n",
       "    </tr>\n",
       "    <tr>\n",
       "      <th>35</th>\n",
       "      <td>63d67ee5f642cd4562fd6778</td>\n",
       "      <td>0.8766</td>\n",
       "      <td>0.5589</td>\n",
       "      <td>https://www.cbc.ca/sports/olympics/winter/alpi...</td>\n",
       "      <td>sports</td>\n",
       "      <td>olympics</td>\n",
       "    </tr>\n",
       "    <tr>\n",
       "      <th>41</th>\n",
       "      <td>63d5263af642cd4562f3e2e1</td>\n",
       "      <td>0.9443</td>\n",
       "      <td>0.9934</td>\n",
       "      <td>https://www.cbc.ca/sports/olympics/winter/alpi...</td>\n",
       "      <td>sports</td>\n",
       "      <td>olympics</td>\n",
       "    </tr>\n",
       "  </tbody>\n",
       "</table>\n",
       "</div>"
      ],
      "text/plain": [
       "                   text_name  compound_quotes  compound_non_quotes  \\\n",
       "5   63c763acf642cd45628ba09b           0.9824               0.6169   \n",
       "11  63b6f66ff642cd456215195c           0.9442               0.5423   \n",
       "30  63c97a3ef642cd45629bdaab           0.9588               0.8750   \n",
       "35  63d67ee5f642cd4562fd6778           0.8766               0.5589   \n",
       "41  63d5263af642cd4562f3e2e1           0.9443               0.9934   \n",
       "\n",
       "                                                  url first_segment  \\\n",
       "5   https://www.cbc.ca/sports/tennis/australian-op...        sports   \n",
       "11  https://www.cbc.ca/sports/football/nfl/buffalo...        sports   \n",
       "30  https://www.cbc.ca/sports/hockey/hockey-canada...        sports   \n",
       "35  https://www.cbc.ca/sports/olympics/winter/alpi...        sports   \n",
       "41  https://www.cbc.ca/sports/olympics/winter/alpi...        sports   \n",
       "\n",
       "   last_segment  \n",
       "5        tennis  \n",
       "11     football  \n",
       "30       hockey  \n",
       "35     olympics  \n",
       "41     olympics  "
      ]
     },
     "execution_count": 24,
     "metadata": {},
     "output_type": "execute_result"
    }
   ],
   "source": [
    "sports_df.head()"
   ]
  },
  {
   "cell_type": "code",
   "execution_count": 25,
   "metadata": {
    "colab": {
     "base_uri": "https://localhost:8080/",
     "height": 206
    },
    "executionInfo": {
     "elapsed": 164,
     "status": "ok",
     "timestamp": 1731523202184,
     "user": {
      "displayName": "Jodie Lee",
      "userId": "05117498454440747132"
     },
     "user_tz": 480
    },
    "id": "Z-eZA90B0qao",
    "outputId": "4ef4031f-904f-4bf5-de6b-2e3b5eaef267"
   },
   "outputs": [
    {
     "data": {
      "text/html": [
       "<div>\n",
       "<style scoped>\n",
       "    .dataframe tbody tr th:only-of-type {\n",
       "        vertical-align: middle;\n",
       "    }\n",
       "\n",
       "    .dataframe tbody tr th {\n",
       "        vertical-align: top;\n",
       "    }\n",
       "\n",
       "    .dataframe thead th {\n",
       "        text-align: right;\n",
       "    }\n",
       "</style>\n",
       "<table border=\"1\" class=\"dataframe\">\n",
       "  <thead>\n",
       "    <tr style=\"text-align: right;\">\n",
       "      <th></th>\n",
       "      <th>text_name</th>\n",
       "      <th>compound_quotes</th>\n",
       "      <th>compound_non_quotes</th>\n",
       "      <th>url</th>\n",
       "      <th>first_segment</th>\n",
       "      <th>last_segment</th>\n",
       "    </tr>\n",
       "  </thead>\n",
       "  <tbody>\n",
       "    <tr>\n",
       "      <th>31</th>\n",
       "      <td>63d19406f642cd4562d7fa64</td>\n",
       "      <td>0.0000</td>\n",
       "      <td>0.9985</td>\n",
       "      <td>http://www.cbc.ca/arts/why-sex-and-the-city-is...</td>\n",
       "      <td>arts</td>\n",
       "      <td>why-sex-and-the-city-is-actually-the-ultimate-...</td>\n",
       "    </tr>\n",
       "    <tr>\n",
       "      <th>132</th>\n",
       "      <td>63bc2f44f642cd456238cd16</td>\n",
       "      <td>0.9555</td>\n",
       "      <td>-0.8781</td>\n",
       "      <td>https://www.cbc.ca/arts/stuff-the-british-stol...</td>\n",
       "      <td>arts</td>\n",
       "      <td>stuff-the-british-stole-host-marc-fennell-want...</td>\n",
       "    </tr>\n",
       "    <tr>\n",
       "      <th>169</th>\n",
       "      <td>63e537f8f642cd45626c919d</td>\n",
       "      <td>0.5562</td>\n",
       "      <td>0.9872</td>\n",
       "      <td>https://www.cbc.ca/arts/how-chase-joynt-is-ima...</td>\n",
       "      <td>arts</td>\n",
       "      <td>how-chase-joynt-is-imagining-new-trans-worlds-...</td>\n",
       "    </tr>\n",
       "    <tr>\n",
       "      <th>343</th>\n",
       "      <td>63e3e67bf642cd45626290cc</td>\n",
       "      <td>0.9976</td>\n",
       "      <td>0.9967</td>\n",
       "      <td>https://www.cbc.ca/arts/hannah-moscovitch-inte...</td>\n",
       "      <td>arts</td>\n",
       "      <td>hannah-moscovitch-interview-with-the-vampire-f...</td>\n",
       "    </tr>\n",
       "    <tr>\n",
       "      <th>409</th>\n",
       "      <td>63c82f91f642cd4562923fe1</td>\n",
       "      <td>0.2263</td>\n",
       "      <td>0.9999</td>\n",
       "      <td>http://www.cbc.ca/arts/2023-oscars-95th-academ...</td>\n",
       "      <td>arts</td>\n",
       "      <td>2023-oscars-95th-academy-awards-nominations-ho...</td>\n",
       "    </tr>\n",
       "  </tbody>\n",
       "</table>\n",
       "</div>"
      ],
      "text/plain": [
       "                    text_name  compound_quotes  compound_non_quotes  \\\n",
       "31   63d19406f642cd4562d7fa64           0.0000               0.9985   \n",
       "132  63bc2f44f642cd456238cd16           0.9555              -0.8781   \n",
       "169  63e537f8f642cd45626c919d           0.5562               0.9872   \n",
       "343  63e3e67bf642cd45626290cc           0.9976               0.9967   \n",
       "409  63c82f91f642cd4562923fe1           0.2263               0.9999   \n",
       "\n",
       "                                                   url first_segment  \\\n",
       "31   http://www.cbc.ca/arts/why-sex-and-the-city-is...          arts   \n",
       "132  https://www.cbc.ca/arts/stuff-the-british-stol...          arts   \n",
       "169  https://www.cbc.ca/arts/how-chase-joynt-is-ima...          arts   \n",
       "343  https://www.cbc.ca/arts/hannah-moscovitch-inte...          arts   \n",
       "409  http://www.cbc.ca/arts/2023-oscars-95th-academ...          arts   \n",
       "\n",
       "                                          last_segment  \n",
       "31   why-sex-and-the-city-is-actually-the-ultimate-...  \n",
       "132  stuff-the-british-stole-host-marc-fennell-want...  \n",
       "169  how-chase-joynt-is-imagining-new-trans-worlds-...  \n",
       "343  hannah-moscovitch-interview-with-the-vampire-f...  \n",
       "409  2023-oscars-95th-academy-awards-nominations-ho...  "
      ]
     },
     "execution_count": 25,
     "metadata": {},
     "output_type": "execute_result"
    }
   ],
   "source": [
    "arts_df.head()"
   ]
  },
  {
   "cell_type": "code",
   "execution_count": 26,
   "metadata": {
    "colab": {
     "base_uri": "https://localhost:8080/",
     "height": 206
    },
    "executionInfo": {
     "elapsed": 325,
     "status": "ok",
     "timestamp": 1731523204772,
     "user": {
      "displayName": "Jodie Lee",
      "userId": "05117498454440747132"
     },
     "user_tz": 480
    },
    "id": "30bCqcHW0sqa",
    "outputId": "e6e27754-769d-4327-b52f-eb71bf97c9cb"
   },
   "outputs": [
    {
     "data": {
      "text/html": [
       "<div>\n",
       "<style scoped>\n",
       "    .dataframe tbody tr th:only-of-type {\n",
       "        vertical-align: middle;\n",
       "    }\n",
       "\n",
       "    .dataframe tbody tr th {\n",
       "        vertical-align: top;\n",
       "    }\n",
       "\n",
       "    .dataframe thead th {\n",
       "        text-align: right;\n",
       "    }\n",
       "</style>\n",
       "<table border=\"1\" class=\"dataframe\">\n",
       "  <thead>\n",
       "    <tr style=\"text-align: right;\">\n",
       "      <th></th>\n",
       "      <th>text_name</th>\n",
       "      <th>compound_quotes</th>\n",
       "      <th>compound_non_quotes</th>\n",
       "      <th>url</th>\n",
       "      <th>first_segment</th>\n",
       "      <th>last_segment</th>\n",
       "      <th>news_canada_type</th>\n",
       "    </tr>\n",
       "  </thead>\n",
       "  <tbody>\n",
       "    <tr>\n",
       "      <th>0</th>\n",
       "      <td>63d2f449f642cd4562e2dafd</td>\n",
       "      <td>0.9422</td>\n",
       "      <td>-0.4019</td>\n",
       "      <td>https://www.cbc.ca/news/canada/windsor/detroit...</td>\n",
       "      <td>news</td>\n",
       "      <td>canada</td>\n",
       "      <td>windsor</td>\n",
       "    </tr>\n",
       "    <tr>\n",
       "      <th>4</th>\n",
       "      <td>63d2a6eaf642cd4562e0acd0</td>\n",
       "      <td>-0.4939</td>\n",
       "      <td>-0.9728</td>\n",
       "      <td>https://www.cbc.ca/news/canada/toronto/toronto...</td>\n",
       "      <td>news</td>\n",
       "      <td>canada</td>\n",
       "      <td>toronto</td>\n",
       "    </tr>\n",
       "    <tr>\n",
       "      <th>6</th>\n",
       "      <td>63c4829bf642cd45627700ff</td>\n",
       "      <td>-0.3612</td>\n",
       "      <td>-0.8979</td>\n",
       "      <td>https://www.cbc.ca/news/canada/manitoba/winnip...</td>\n",
       "      <td>news</td>\n",
       "      <td>canada</td>\n",
       "      <td>manitoba</td>\n",
       "    </tr>\n",
       "    <tr>\n",
       "      <th>7</th>\n",
       "      <td>63cc0137f642cd4562aeb9c1</td>\n",
       "      <td>0.9147</td>\n",
       "      <td>0.7903</td>\n",
       "      <td>https://www.cbc.ca/news/canada/british-columbi...</td>\n",
       "      <td>news</td>\n",
       "      <td>canada</td>\n",
       "      <td>british-columbia</td>\n",
       "    </tr>\n",
       "    <tr>\n",
       "      <th>8</th>\n",
       "      <td>63b96f99f642cd456226358d</td>\n",
       "      <td>0.9845</td>\n",
       "      <td>0.7783</td>\n",
       "      <td>https://www.cbc.ca/news/canada/british-columbi...</td>\n",
       "      <td>news</td>\n",
       "      <td>canada</td>\n",
       "      <td>british-columbia</td>\n",
       "    </tr>\n",
       "  </tbody>\n",
       "</table>\n",
       "</div>"
      ],
      "text/plain": [
       "                  text_name  compound_quotes  compound_non_quotes  \\\n",
       "0  63d2f449f642cd4562e2dafd           0.9422              -0.4019   \n",
       "4  63d2a6eaf642cd4562e0acd0          -0.4939              -0.9728   \n",
       "6  63c4829bf642cd45627700ff          -0.3612              -0.8979   \n",
       "7  63cc0137f642cd4562aeb9c1           0.9147               0.7903   \n",
       "8  63b96f99f642cd456226358d           0.9845               0.7783   \n",
       "\n",
       "                                                 url first_segment  \\\n",
       "0  https://www.cbc.ca/news/canada/windsor/detroit...          news   \n",
       "4  https://www.cbc.ca/news/canada/toronto/toronto...          news   \n",
       "6  https://www.cbc.ca/news/canada/manitoba/winnip...          news   \n",
       "7  https://www.cbc.ca/news/canada/british-columbi...          news   \n",
       "8  https://www.cbc.ca/news/canada/british-columbi...          news   \n",
       "\n",
       "  last_segment  news_canada_type  \n",
       "0       canada           windsor  \n",
       "4       canada           toronto  \n",
       "6       canada          manitoba  \n",
       "7       canada  british-columbia  \n",
       "8       canada  british-columbia  "
      ]
     },
     "execution_count": 26,
     "metadata": {},
     "output_type": "execute_result"
    }
   ],
   "source": [
    "news_canada_df.head()"
   ]
  },
  {
   "cell_type": "code",
   "execution_count": 27,
   "metadata": {
    "colab": {
     "base_uri": "https://localhost:8080/",
     "height": 206
    },
    "executionInfo": {
     "elapsed": 185,
     "status": "ok",
     "timestamp": 1731523207133,
     "user": {
      "displayName": "Jodie Lee",
      "userId": "05117498454440747132"
     },
     "user_tz": 480
    },
    "id": "vzxe3bE_0uYE",
    "outputId": "3b788f60-d21e-4974-81b4-7a7715c9e5d8"
   },
   "outputs": [
    {
     "data": {
      "text/html": [
       "<div>\n",
       "<style scoped>\n",
       "    .dataframe tbody tr th:only-of-type {\n",
       "        vertical-align: middle;\n",
       "    }\n",
       "\n",
       "    .dataframe tbody tr th {\n",
       "        vertical-align: top;\n",
       "    }\n",
       "\n",
       "    .dataframe thead th {\n",
       "        text-align: right;\n",
       "    }\n",
       "</style>\n",
       "<table border=\"1\" class=\"dataframe\">\n",
       "  <thead>\n",
       "    <tr style=\"text-align: right;\">\n",
       "      <th></th>\n",
       "      <th>text_name</th>\n",
       "      <th>compound_quotes</th>\n",
       "      <th>compound_non_quotes</th>\n",
       "      <th>url</th>\n",
       "      <th>first_segment</th>\n",
       "      <th>last_segment</th>\n",
       "    </tr>\n",
       "  </thead>\n",
       "  <tbody>\n",
       "    <tr>\n",
       "      <th>1</th>\n",
       "      <td>63baa544f642cd45622e5e52</td>\n",
       "      <td>0.8547</td>\n",
       "      <td>0.9835</td>\n",
       "      <td>https://www.cbc.ca/news/world/china-borders-op...</td>\n",
       "      <td>news</td>\n",
       "      <td>world</td>\n",
       "    </tr>\n",
       "    <tr>\n",
       "      <th>2</th>\n",
       "      <td>63c5d969f642cd456280a6c3</td>\n",
       "      <td>0.8883</td>\n",
       "      <td>0.9886</td>\n",
       "      <td>https://www.cbc.ca/news/world/martin-luther-ki...</td>\n",
       "      <td>news</td>\n",
       "      <td>world</td>\n",
       "    </tr>\n",
       "    <tr>\n",
       "      <th>14</th>\n",
       "      <td>63c28719f642cd456268c042</td>\n",
       "      <td>-0.9923</td>\n",
       "      <td>-0.9975</td>\n",
       "      <td>https://www.cbc.ca/news/world/iran-british-exe...</td>\n",
       "      <td>news</td>\n",
       "      <td>world</td>\n",
       "    </tr>\n",
       "    <tr>\n",
       "      <th>40</th>\n",
       "      <td>63c5e82ef642cd4562810bd2</td>\n",
       "      <td>-0.5859</td>\n",
       "      <td>-0.9802</td>\n",
       "      <td>https://www.cbc.ca/news/world/california-major...</td>\n",
       "      <td>news</td>\n",
       "      <td>world</td>\n",
       "    </tr>\n",
       "    <tr>\n",
       "      <th>74</th>\n",
       "      <td>63d70406f642cd45620110cb</td>\n",
       "      <td>-0.9979</td>\n",
       "      <td>-0.9974</td>\n",
       "      <td>https://www.cbc.ca/news/world/ukraine-russia-k...</td>\n",
       "      <td>news</td>\n",
       "      <td>world</td>\n",
       "    </tr>\n",
       "  </tbody>\n",
       "</table>\n",
       "</div>"
      ],
      "text/plain": [
       "                   text_name  compound_quotes  compound_non_quotes  \\\n",
       "1   63baa544f642cd45622e5e52           0.8547               0.9835   \n",
       "2   63c5d969f642cd456280a6c3           0.8883               0.9886   \n",
       "14  63c28719f642cd456268c042          -0.9923              -0.9975   \n",
       "40  63c5e82ef642cd4562810bd2          -0.5859              -0.9802   \n",
       "74  63d70406f642cd45620110cb          -0.9979              -0.9974   \n",
       "\n",
       "                                                  url first_segment  \\\n",
       "1   https://www.cbc.ca/news/world/china-borders-op...          news   \n",
       "2   https://www.cbc.ca/news/world/martin-luther-ki...          news   \n",
       "14  https://www.cbc.ca/news/world/iran-british-exe...          news   \n",
       "40  https://www.cbc.ca/news/world/california-major...          news   \n",
       "74  https://www.cbc.ca/news/world/ukraine-russia-k...          news   \n",
       "\n",
       "   last_segment  \n",
       "1         world  \n",
       "2         world  \n",
       "14        world  \n",
       "40        world  \n",
       "74        world  "
      ]
     },
     "execution_count": 27,
     "metadata": {},
     "output_type": "execute_result"
    }
   ],
   "source": [
    "news_world_df.head()"
   ]
  },
  {
   "cell_type": "code",
   "execution_count": 28,
   "metadata": {
    "colab": {
     "base_uri": "https://localhost:8080/",
     "height": 206
    },
    "executionInfo": {
     "elapsed": 202,
     "status": "ok",
     "timestamp": 1731523209631,
     "user": {
      "displayName": "Jodie Lee",
      "userId": "05117498454440747132"
     },
     "user_tz": 480
    },
    "id": "Gl73ZJ1Q0vxY",
    "outputId": "37d023f8-de8b-4d41-e6b4-cde28cf26f90"
   },
   "outputs": [
    {
     "data": {
      "text/html": [
       "<div>\n",
       "<style scoped>\n",
       "    .dataframe tbody tr th:only-of-type {\n",
       "        vertical-align: middle;\n",
       "    }\n",
       "\n",
       "    .dataframe tbody tr th {\n",
       "        vertical-align: top;\n",
       "    }\n",
       "\n",
       "    .dataframe thead th {\n",
       "        text-align: right;\n",
       "    }\n",
       "</style>\n",
       "<table border=\"1\" class=\"dataframe\">\n",
       "  <thead>\n",
       "    <tr style=\"text-align: right;\">\n",
       "      <th></th>\n",
       "      <th>text_name</th>\n",
       "      <th>compound_quotes</th>\n",
       "      <th>compound_non_quotes</th>\n",
       "      <th>url</th>\n",
       "      <th>first_segment</th>\n",
       "      <th>last_segment</th>\n",
       "    </tr>\n",
       "  </thead>\n",
       "  <tbody>\n",
       "    <tr>\n",
       "      <th>3</th>\n",
       "      <td>63bfcf7af642cd456253f104</td>\n",
       "      <td>0.9663</td>\n",
       "      <td>-0.8118</td>\n",
       "      <td>https://www.cbc.ca/news/politics/ukraine-russi...</td>\n",
       "      <td>news</td>\n",
       "      <td>politics</td>\n",
       "    </tr>\n",
       "    <tr>\n",
       "      <th>65</th>\n",
       "      <td>63ccfd88f642cd4562b57f9e</td>\n",
       "      <td>0.9313</td>\n",
       "      <td>-0.9578</td>\n",
       "      <td>https://www.cbc.ca/news/politics/sweden-foreig...</td>\n",
       "      <td>news</td>\n",
       "      <td>politics</td>\n",
       "    </tr>\n",
       "    <tr>\n",
       "      <th>73</th>\n",
       "      <td>63d63804f642cd4562fb7d58</td>\n",
       "      <td>-0.9939</td>\n",
       "      <td>-0.9981</td>\n",
       "      <td>https://www.cbc.ca/news/politics/kirsty-duncan...</td>\n",
       "      <td>news</td>\n",
       "      <td>politics</td>\n",
       "    </tr>\n",
       "    <tr>\n",
       "      <th>163</th>\n",
       "      <td>63c7167af642cd456289c4d3</td>\n",
       "      <td>0.9944</td>\n",
       "      <td>0.9968</td>\n",
       "      <td>https://www.cbc.ca/news/politics/poilievre-que...</td>\n",
       "      <td>news</td>\n",
       "      <td>politics</td>\n",
       "    </tr>\n",
       "    <tr>\n",
       "      <th>259</th>\n",
       "      <td>63ccfd7af642cd4562b57d3f</td>\n",
       "      <td>0.7103</td>\n",
       "      <td>-0.9223</td>\n",
       "      <td>https://www.cbc.ca/news/politics/advocates-cta...</td>\n",
       "      <td>news</td>\n",
       "      <td>politics</td>\n",
       "    </tr>\n",
       "  </tbody>\n",
       "</table>\n",
       "</div>"
      ],
      "text/plain": [
       "                    text_name  compound_quotes  compound_non_quotes  \\\n",
       "3    63bfcf7af642cd456253f104           0.9663              -0.8118   \n",
       "65   63ccfd88f642cd4562b57f9e           0.9313              -0.9578   \n",
       "73   63d63804f642cd4562fb7d58          -0.9939              -0.9981   \n",
       "163  63c7167af642cd456289c4d3           0.9944               0.9968   \n",
       "259  63ccfd7af642cd4562b57d3f           0.7103              -0.9223   \n",
       "\n",
       "                                                   url first_segment  \\\n",
       "3    https://www.cbc.ca/news/politics/ukraine-russi...          news   \n",
       "65   https://www.cbc.ca/news/politics/sweden-foreig...          news   \n",
       "73   https://www.cbc.ca/news/politics/kirsty-duncan...          news   \n",
       "163  https://www.cbc.ca/news/politics/poilievre-que...          news   \n",
       "259  https://www.cbc.ca/news/politics/advocates-cta...          news   \n",
       "\n",
       "    last_segment  \n",
       "3       politics  \n",
       "65      politics  \n",
       "73      politics  \n",
       "163     politics  \n",
       "259     politics  "
      ]
     },
     "execution_count": 28,
     "metadata": {},
     "output_type": "execute_result"
    }
   ],
   "source": [
    "news_politics_df.head()"
   ]
  },
  {
   "cell_type": "markdown",
   "metadata": {
    "id": "Dxz2TlGQ08ig"
   },
   "source": [
    "### Sentiment Analysis on URLs"
   ]
  },
  {
   "cell_type": "code",
   "execution_count": 29,
   "metadata": {
    "id": "CwI7tDiR070G"
   },
   "outputs": [],
   "source": [
    "# helper function for creating the summary table\n",
    "# where df is the relevant category's dataframe\n",
    "def get_sentiment(df):\n",
    "  row = []\n",
    "\n",
    "  # average of positive and negative quote scores\n",
    "  row.append(df['compound_quotes'][df['compound_quotes'] > 0].mean())\n",
    "  row.append(df['compound_quotes'][df['compound_quotes'] < 0].mean())\n",
    "\n",
    "  # average of positive and negative non_quote scores\n",
    "  row.append(df['compound_non_quotes'][df['compound_non_quotes'] > 0].mean())\n",
    "  row.append(df['compound_non_quotes'][df['compound_non_quotes'] < 0].mean())\n",
    "\n",
    "  return row"
   ]
  },
  {
   "cell_type": "code",
   "execution_count": 30,
   "metadata": {
    "id": "upngr8ri2PQR"
   },
   "outputs": [],
   "source": [
    "# create summary dataframe\n",
    "# create summary dataframe\n",
    "summary = []\n",
    "\n",
    "summary.append(get_sentiment(sports_df))\n",
    "summary.append(get_sentiment(news_df))\n",
    "summary.append(get_sentiment(arts_df))\n",
    "summary.append(get_sentiment(news_canada_df))\n",
    "summary.append(get_sentiment(news_world_df))\n",
    "summary.append(get_sentiment(news_politics_df))\n",
    "\n",
    "articles_summary_df = pd.DataFrame(summary)\n",
    "\n",
    "# row and column headers\n",
    "row_labels = ['sports', 'news', 'arts', 'canada', 'world', 'politics']\n",
    "col_labels = ['quotes_positive', 'quotes_negative', 'non_quotes_positive', 'non_quotes_negative']\n",
    "\n",
    "articles_summary_df.index = row_labels\n",
    "articles_summary_df.columns = col_labels"
   ]
  },
  {
   "cell_type": "code",
   "execution_count": 31,
   "metadata": {
    "colab": {
     "base_uri": "https://localhost:8080/",
     "height": 238
    },
    "executionInfo": {
     "elapsed": 164,
     "status": "ok",
     "timestamp": 1731524334904,
     "user": {
      "displayName": "Jodie Lee",
      "userId": "05117498454440747132"
     },
     "user_tz": 480
    },
    "id": "fKyZ5p_b2-xg",
    "outputId": "c7a3a07d-7ebe-4488-b166-34516c96c169"
   },
   "outputs": [
    {
     "data": {
      "text/html": [
       "<div>\n",
       "<style scoped>\n",
       "    .dataframe tbody tr th:only-of-type {\n",
       "        vertical-align: middle;\n",
       "    }\n",
       "\n",
       "    .dataframe tbody tr th {\n",
       "        vertical-align: top;\n",
       "    }\n",
       "\n",
       "    .dataframe thead th {\n",
       "        text-align: right;\n",
       "    }\n",
       "</style>\n",
       "<table border=\"1\" class=\"dataframe\">\n",
       "  <thead>\n",
       "    <tr style=\"text-align: right;\">\n",
       "      <th></th>\n",
       "      <th>quotes_positive</th>\n",
       "      <th>quotes_negative</th>\n",
       "      <th>non_quotes_positive</th>\n",
       "      <th>non_quotes_negative</th>\n",
       "    </tr>\n",
       "  </thead>\n",
       "  <tbody>\n",
       "    <tr>\n",
       "      <th>sports</th>\n",
       "      <td>0.804411</td>\n",
       "      <td>-0.573171</td>\n",
       "      <td>0.905765</td>\n",
       "      <td>-0.705587</td>\n",
       "    </tr>\n",
       "    <tr>\n",
       "      <th>news</th>\n",
       "      <td>0.814117</td>\n",
       "      <td>-0.724398</td>\n",
       "      <td>0.801766</td>\n",
       "      <td>-0.773773</td>\n",
       "    </tr>\n",
       "    <tr>\n",
       "      <th>arts</th>\n",
       "      <td>0.804812</td>\n",
       "      <td>-0.556657</td>\n",
       "      <td>0.941901</td>\n",
       "      <td>-0.739338</td>\n",
       "    </tr>\n",
       "    <tr>\n",
       "      <th>canada</th>\n",
       "      <td>0.815805</td>\n",
       "      <td>-0.711601</td>\n",
       "      <td>0.800073</td>\n",
       "      <td>-0.759629</td>\n",
       "    </tr>\n",
       "    <tr>\n",
       "      <th>world</th>\n",
       "      <td>0.730499</td>\n",
       "      <td>-0.844796</td>\n",
       "      <td>0.790347</td>\n",
       "      <td>-0.902413</td>\n",
       "    </tr>\n",
       "    <tr>\n",
       "      <th>politics</th>\n",
       "      <td>0.806655</td>\n",
       "      <td>-0.744014</td>\n",
       "      <td>0.779685</td>\n",
       "      <td>-0.782167</td>\n",
       "    </tr>\n",
       "  </tbody>\n",
       "</table>\n",
       "</div>"
      ],
      "text/plain": [
       "          quotes_positive  quotes_negative  non_quotes_positive  \\\n",
       "sports           0.804411        -0.573171             0.905765   \n",
       "news             0.814117        -0.724398             0.801766   \n",
       "arts             0.804812        -0.556657             0.941901   \n",
       "canada           0.815805        -0.711601             0.800073   \n",
       "world            0.730499        -0.844796             0.790347   \n",
       "politics         0.806655        -0.744014             0.779685   \n",
       "\n",
       "          non_quotes_negative  \n",
       "sports              -0.705587  \n",
       "news                -0.773773  \n",
       "arts                -0.739338  \n",
       "canada              -0.759629  \n",
       "world               -0.902413  \n",
       "politics            -0.782167  "
      ]
     },
     "execution_count": 31,
     "metadata": {},
     "output_type": "execute_result"
    }
   ],
   "source": [
    "articles_summary_df"
   ]
  },
  {
   "cell_type": "code",
   "execution_count": 64,
   "metadata": {
    "executionInfo": {
     "elapsed": 206,
     "status": "ok",
     "timestamp": 1731532480918,
     "user": {
      "displayName": "Jodie Lee",
      "userId": "05117498454440747132"
     },
     "user_tz": 480
    },
    "id": "Ek-_6UZqX_9R"
   },
   "outputs": [],
   "source": [
    "# export to csv\n",
    "fp = '/content/drive/My Drive/evaluation_quotes/CSVs/URL_sentiment_scores.csv'\n",
    "articles_summary_df.to_csv(fp)"
   ]
  },
  {
   "cell_type": "code",
   "execution_count": null,
   "metadata": {},
   "outputs": [],
   "source": []
  },
  {
   "cell_type": "markdown",
   "metadata": {
    "id": "Dxz2TlGQ08ig"
   },
   "source": [
    "### Sentiment Analysis on URLs - Take 2\n",
    "\n",
    "In the above, we get the average compound score. Here, we want the counts only"
   ]
  },
  {
   "cell_type": "code",
   "execution_count": 34,
   "metadata": {
    "id": "CwI7tDiR070G"
   },
   "outputs": [],
   "source": [
    "# helper function for creating the summary table\n",
    "# where df is the relevant category's dataframe\n",
    "def get_sentiment(df):\n",
    "  row = []\n",
    "\n",
    "  # average of positive and negative quote scores\n",
    "  row.append(df['compound_quotes'][df['compound_quotes'] > 0].count())\n",
    "  row.append(df['compound_quotes'][df['compound_quotes'] < 0].count())\n",
    "\n",
    "  # average of positive and negative non_quote scores\n",
    "  row.append(df['compound_non_quotes'][df['compound_non_quotes'] > 0].count())\n",
    "  row.append(df['compound_non_quotes'][df['compound_non_quotes'] < 0].count())\n",
    "\n",
    "  return row"
   ]
  },
  {
   "cell_type": "code",
   "execution_count": 35,
   "metadata": {
    "id": "upngr8ri2PQR"
   },
   "outputs": [],
   "source": [
    "# create summary dataframe\n",
    "# create summary dataframe\n",
    "summary_count = []\n",
    "\n",
    "summary_count.append(get_sentiment(sports_df))\n",
    "summary_count.append(get_sentiment(news_df))\n",
    "summary_count.append(get_sentiment(arts_df))\n",
    "summary_count.append(get_sentiment(news_canada_df))\n",
    "summary_count.append(get_sentiment(news_world_df))\n",
    "summary_count.append(get_sentiment(news_politics_df))\n",
    "\n",
    "articles_summary_df_count = pd.DataFrame(summary_count)\n",
    "\n",
    "# row and column headers\n",
    "row_labels_count = ['sports', 'news', 'arts', 'canada', 'world', 'politics']\n",
    "col_labels_count = ['quotes_positive', 'quotes_negative', 'non_quotes_positive', 'non_quotes_negative']\n",
    "\n",
    "articles_summary_df_count.index = row_labels_count\n",
    "articles_summary_df_count.columns = col_labels_count"
   ]
  },
  {
   "cell_type": "code",
   "execution_count": 36,
   "metadata": {
    "colab": {
     "base_uri": "https://localhost:8080/",
     "height": 238
    },
    "executionInfo": {
     "elapsed": 164,
     "status": "ok",
     "timestamp": 1731524334904,
     "user": {
      "displayName": "Jodie Lee",
      "userId": "05117498454440747132"
     },
     "user_tz": 480
    },
    "id": "fKyZ5p_b2-xg",
    "outputId": "c7a3a07d-7ebe-4488-b166-34516c96c169"
   },
   "outputs": [
    {
     "data": {
      "text/html": [
       "<div>\n",
       "<style scoped>\n",
       "    .dataframe tbody tr th:only-of-type {\n",
       "        vertical-align: middle;\n",
       "    }\n",
       "\n",
       "    .dataframe tbody tr th {\n",
       "        vertical-align: top;\n",
       "    }\n",
       "\n",
       "    .dataframe thead th {\n",
       "        text-align: right;\n",
       "    }\n",
       "</style>\n",
       "<table border=\"1\" class=\"dataframe\">\n",
       "  <thead>\n",
       "    <tr style=\"text-align: right;\">\n",
       "      <th></th>\n",
       "      <th>quotes_positive</th>\n",
       "      <th>quotes_negative</th>\n",
       "      <th>non_quotes_positive</th>\n",
       "      <th>non_quotes_negative</th>\n",
       "    </tr>\n",
       "  </thead>\n",
       "  <tbody>\n",
       "    <tr>\n",
       "      <th>sports</th>\n",
       "      <td>2112</td>\n",
       "      <td>467</td>\n",
       "      <td>2291</td>\n",
       "      <td>466</td>\n",
       "    </tr>\n",
       "    <tr>\n",
       "      <th>news</th>\n",
       "      <td>26655</td>\n",
       "      <td>15508</td>\n",
       "      <td>23678</td>\n",
       "      <td>18909</td>\n",
       "    </tr>\n",
       "    <tr>\n",
       "      <th>arts</th>\n",
       "      <td>466</td>\n",
       "      <td>109</td>\n",
       "      <td>540</td>\n",
       "      <td>69</td>\n",
       "    </tr>\n",
       "    <tr>\n",
       "      <th>canada</th>\n",
       "      <td>23529</td>\n",
       "      <td>12910</td>\n",
       "      <td>20977</td>\n",
       "      <td>15839</td>\n",
       "    </tr>\n",
       "    <tr>\n",
       "      <th>world</th>\n",
       "      <td>664</td>\n",
       "      <td>1330</td>\n",
       "      <td>463</td>\n",
       "      <td>1539</td>\n",
       "    </tr>\n",
       "    <tr>\n",
       "      <th>politics</th>\n",
       "      <td>1063</td>\n",
       "      <td>597</td>\n",
       "      <td>904</td>\n",
       "      <td>766</td>\n",
       "    </tr>\n",
       "  </tbody>\n",
       "</table>\n",
       "</div>"
      ],
      "text/plain": [
       "          quotes_positive  quotes_negative  non_quotes_positive  \\\n",
       "sports               2112              467                 2291   \n",
       "news                26655            15508                23678   \n",
       "arts                  466              109                  540   \n",
       "canada              23529            12910                20977   \n",
       "world                 664             1330                  463   \n",
       "politics             1063              597                  904   \n",
       "\n",
       "          non_quotes_negative  \n",
       "sports                    466  \n",
       "news                    18909  \n",
       "arts                       69  \n",
       "canada                  15839  \n",
       "world                    1539  \n",
       "politics                  766  "
      ]
     },
     "execution_count": 36,
     "metadata": {},
     "output_type": "execute_result"
    }
   ],
   "source": [
    "articles_summary_df_count"
   ]
  },
  {
   "cell_type": "code",
   "execution_count": 38,
   "metadata": {
    "executionInfo": {
     "elapsed": 206,
     "status": "ok",
     "timestamp": 1731532480918,
     "user": {
      "displayName": "Jodie Lee",
      "userId": "05117498454440747132"
     },
     "user_tz": 480
    },
    "id": "Ek-_6UZqX_9R"
   },
   "outputs": [],
   "source": [
    "# export to csv\n",
    "fp = 'C:/Maite/MOD/projects/Monika_Bednarek/Evaluation_quotes/Data/CBC_url_analysis/URL_sentiment_counts.csv'\n",
    "articles_summary_df_count.to_csv(fp)"
   ]
  },
  {
   "cell_type": "code",
   "execution_count": null,
   "metadata": {},
   "outputs": [],
   "source": []
  },
  {
   "cell_type": "markdown",
   "metadata": {
    "id": "EjhpMnDieD_s"
   },
   "source": [
    "# Initial pass of url classification on CBC_input files\n"
   ]
  },
  {
   "cell_type": "markdown",
   "metadata": {
    "id": "yAd8_TkjeD_p"
   },
   "source": [
    "### Reading original CSV\n",
    "Testing this with August (because it's the shortest), but eventually I want to read `CBC_news_all_2023.csv`"
   ]
  },
  {
   "cell_type": "code",
   "execution_count": null,
   "metadata": {
    "id": "nNyo1Wx1eD_o"
   },
   "outputs": [],
   "source": [
    "os.chdir(r'C:\\Maite\\MOD\\projects\\Monika_Bednarek\\Evaluation_quotes\\Data\\CBC_input')"
   ]
  },
  {
   "cell_type": "code",
   "execution_count": null,
   "metadata": {
    "id": "KxM0CWLueD_p"
   },
   "outputs": [],
   "source": [
    "df = pd.read_csv('CBC_news_all_2023.csv', encoding = 'utf8')"
   ]
  },
  {
   "cell_type": "code",
   "execution_count": null,
   "metadata": {
    "id": "kMZPAtcfeD_q",
    "outputId": "d76905d1-7937-4e3a-b305-f84592529a44"
   },
   "outputs": [
    {
     "data": {
      "text/html": [
       "<div>\n",
       "<style scoped>\n",
       "    .dataframe tbody tr th:only-of-type {\n",
       "        vertical-align: middle;\n",
       "    }\n",
       "\n",
       "    .dataframe tbody tr th {\n",
       "        vertical-align: top;\n",
       "    }\n",
       "\n",
       "    .dataframe thead th {\n",
       "        text-align: right;\n",
       "    }\n",
       "</style>\n",
       "<table border=\"1\" class=\"dataframe\">\n",
       "  <thead>\n",
       "    <tr style=\"text-align: right;\">\n",
       "      <th></th>\n",
       "      <th>id</th>\n",
       "      <th>url</th>\n",
       "      <th>body</th>\n",
       "      <th>title</th>\n",
       "    </tr>\n",
       "  </thead>\n",
       "  <tbody>\n",
       "    <tr>\n",
       "      <th>0</th>\n",
       "      <td>63b0d066f642cd4562ec7be5</td>\n",
       "      <td>https://www.cbc.ca/sports/hockey/nhl/montreal-...</td>\n",
       "      <td>Alex Ovechkin recorded his 30th career hat tri...</td>\n",
       "      <td>Capitals' offence explodes for 9 goals to send...</td>\n",
       "    </tr>\n",
       "    <tr>\n",
       "      <th>1</th>\n",
       "      <td>63b0d065f642cd4562ec7bd0</td>\n",
       "      <td>https://www.cbc.ca/news/world/north-korea-incr...</td>\n",
       "      <td>North Korean leader Kim Jong-un vowed to incre...</td>\n",
       "      <td>Kim Jong-un vows to 'exponentially' increase N...</td>\n",
       "    </tr>\n",
       "    <tr>\n",
       "      <th>2</th>\n",
       "      <td>63b0eb8bf642cd4562ed022d</td>\n",
       "      <td>https://www.cbc.ca/news/canada/british-columbi...</td>\n",
       "      <td>Starting Monday Translink will modify 45 bus r...</td>\n",
       "      <td>Translink is changing service on 45 bus routes...</td>\n",
       "    </tr>\n",
       "    <tr>\n",
       "      <th>3</th>\n",
       "      <td>63b0f31df642cd4562ed34cc</td>\n",
       "      <td>https://www.cbc.ca/sports/hockey/canada-sweden...</td>\n",
       "      <td>Connor Bedard had four assists to tie Eric Lin...</td>\n",
       "      <td>Canada tops Sweden at men's world juniors to s...</td>\n",
       "    </tr>\n",
       "    <tr>\n",
       "      <th>4</th>\n",
       "      <td>63b0faa9f642cd4562ed62b4</td>\n",
       "      <td>https://www.cbc.ca/sports/hockey/nhl/ottawa-se...</td>\n",
       "      <td>Lucas Raymond had a goal and an assist, and th...</td>\n",
       "      <td>Red Wings score 4 unanswered goals to rally pa...</td>\n",
       "    </tr>\n",
       "    <tr>\n",
       "      <th>...</th>\n",
       "      <td>...</td>\n",
       "      <td>...</td>\n",
       "      <td>...</td>\n",
       "      <td>...</td>\n",
       "    </tr>\n",
       "    <tr>\n",
       "      <th>52320</th>\n",
       "      <td>6591e7ed58b434ef00c2bf9c</td>\n",
       "      <td>https://www.cbc.ca/news/world/israel-siblings-...</td>\n",
       "      <td>Israeli Maya Regev lay badly wounded in a nond...</td>\n",
       "      <td>Israeli siblings freed from Hamas describe pas...</td>\n",
       "    </tr>\n",
       "    <tr>\n",
       "      <th>52321</th>\n",
       "      <td>6591e87458b434ef00c2c26f</td>\n",
       "      <td>https://www.cbc.ca/sports/football/nfl/philade...</td>\n",
       "      <td>James Conner ran for a two-yard touchdown with...</td>\n",
       "      <td>Canadian rookie Sydney Brown returns intercept...</td>\n",
       "    </tr>\n",
       "    <tr>\n",
       "      <th>52322</th>\n",
       "      <td>6591f60658b434ef00c3239c</td>\n",
       "      <td>http://www.cbc.ca/news/world/israel-hamas-war-...</td>\n",
       "      <td>Israeli strikes in central Gaza killed at leas...</td>\n",
       "      <td>Israeli strikes in central Gaza kill at least ...</td>\n",
       "    </tr>\n",
       "    <tr>\n",
       "      <th>52323</th>\n",
       "      <td>6591f6b158b434ef00c32999</td>\n",
       "      <td>https://www.cbc.ca/news/canada/manitoba/jets-m...</td>\n",
       "      <td>Rutger McGroarty was desperate to play for his...</td>\n",
       "      <td>Jets prospect McGroarty savouring 2nd world ju...</td>\n",
       "    </tr>\n",
       "    <tr>\n",
       "      <th>52324</th>\n",
       "      <td>6591fc6858b434ef00c34b11</td>\n",
       "      <td>https://www.cbc.ca/news/canada/manitoba/jets-w...</td>\n",
       "      <td>Dominic Toninato scored the tie-breaking goal ...</td>\n",
       "      <td>Jets spoil Wild goaltender Fleury's 1,000th NH...</td>\n",
       "    </tr>\n",
       "  </tbody>\n",
       "</table>\n",
       "<p>52325 rows × 4 columns</p>\n",
       "</div>"
      ],
      "text/plain": [
       "                             id  \\\n",
       "0      63b0d066f642cd4562ec7be5   \n",
       "1      63b0d065f642cd4562ec7bd0   \n",
       "2      63b0eb8bf642cd4562ed022d   \n",
       "3      63b0f31df642cd4562ed34cc   \n",
       "4      63b0faa9f642cd4562ed62b4   \n",
       "...                         ...   \n",
       "52320  6591e7ed58b434ef00c2bf9c   \n",
       "52321  6591e87458b434ef00c2c26f   \n",
       "52322  6591f60658b434ef00c3239c   \n",
       "52323  6591f6b158b434ef00c32999   \n",
       "52324  6591fc6858b434ef00c34b11   \n",
       "\n",
       "                                                     url  \\\n",
       "0      https://www.cbc.ca/sports/hockey/nhl/montreal-...   \n",
       "1      https://www.cbc.ca/news/world/north-korea-incr...   \n",
       "2      https://www.cbc.ca/news/canada/british-columbi...   \n",
       "3      https://www.cbc.ca/sports/hockey/canada-sweden...   \n",
       "4      https://www.cbc.ca/sports/hockey/nhl/ottawa-se...   \n",
       "...                                                  ...   \n",
       "52320  https://www.cbc.ca/news/world/israel-siblings-...   \n",
       "52321  https://www.cbc.ca/sports/football/nfl/philade...   \n",
       "52322  http://www.cbc.ca/news/world/israel-hamas-war-...   \n",
       "52323  https://www.cbc.ca/news/canada/manitoba/jets-m...   \n",
       "52324  https://www.cbc.ca/news/canada/manitoba/jets-w...   \n",
       "\n",
       "                                                    body  \\\n",
       "0      Alex Ovechkin recorded his 30th career hat tri...   \n",
       "1      North Korean leader Kim Jong-un vowed to incre...   \n",
       "2      Starting Monday Translink will modify 45 bus r...   \n",
       "3      Connor Bedard had four assists to tie Eric Lin...   \n",
       "4      Lucas Raymond had a goal and an assist, and th...   \n",
       "...                                                  ...   \n",
       "52320  Israeli Maya Regev lay badly wounded in a nond...   \n",
       "52321  James Conner ran for a two-yard touchdown with...   \n",
       "52322  Israeli strikes in central Gaza killed at leas...   \n",
       "52323  Rutger McGroarty was desperate to play for his...   \n",
       "52324  Dominic Toninato scored the tie-breaking goal ...   \n",
       "\n",
       "                                                   title  \n",
       "0      Capitals' offence explodes for 9 goals to send...  \n",
       "1      Kim Jong-un vows to 'exponentially' increase N...  \n",
       "2      Translink is changing service on 45 bus routes...  \n",
       "3      Canada tops Sweden at men's world juniors to s...  \n",
       "4      Red Wings score 4 unanswered goals to rally pa...  \n",
       "...                                                  ...  \n",
       "52320  Israeli siblings freed from Hamas describe pas...  \n",
       "52321  Canadian rookie Sydney Brown returns intercept...  \n",
       "52322  Israeli strikes in central Gaza kill at least ...  \n",
       "52323  Jets prospect McGroarty savouring 2nd world ju...  \n",
       "52324  Jets spoil Wild goaltender Fleury's 1,000th NH...  \n",
       "\n",
       "[52325 rows x 4 columns]"
      ]
     },
     "execution_count": 4,
     "metadata": {},
     "output_type": "execute_result"
    }
   ],
   "source": [
    "df"
   ]
  },
  {
   "cell_type": "code",
   "execution_count": null,
   "metadata": {
    "id": "VUyT53rweD_s",
    "outputId": "d1197da3-1781-4603-c788-cf973d7de2b3"
   },
   "outputs": [
    {
     "data": {
      "text/plain": [
       "52325"
      ]
     },
     "execution_count": 5,
     "metadata": {},
     "output_type": "execute_result"
    }
   ],
   "source": [
    "n_all = len(df)\n",
    "n_all"
   ]
  },
  {
   "cell_type": "markdown",
   "metadata": {
    "id": "HGUroboieD_t"
   },
   "source": [
    "### First segment only, i.e., the stuff right after \"cbc.ca\""
   ]
  },
  {
   "cell_type": "code",
   "execution_count": null,
   "metadata": {
    "id": "l0Hx-QxmeD_t",
    "outputId": "f235e454-2599-44e8-f8f1-aa9c32538165"
   },
   "outputs": [
    {
     "name": "stdout",
     "output_type": "stream",
     "text": [
      "Counts for the first segment:\n",
      " news                                    44423\n",
      "sports                                   4124\n",
      "radio                                    1435\n",
      "arts                                      824\n",
      "books                                     516\n",
      "music                                     278\n",
      "life                                      228\n",
      "kidsnews                                  147\n",
      "television                                136\n",
      "documentaries                             118\n",
      "archives                                   39\n",
      "newsletter_static                          20\n",
      "comedy                                     16\n",
      "media                                       8\n",
      "the-last-black-man-in-san-francisco         2\n",
      "jamie-and-jimmys-food-fight-club            2\n",
      "backlash-misogyny-in-the-digital-age        2\n",
      "surfing-the-menu-the-next-generation        1\n",
      "indspire                                    1\n",
      "red-bull-bc-one-cypher-canada               1\n",
      "canadaday                                   1\n",
      "jamies-easy-meals-for-every-day             1\n",
      "i-hate-people-people-hate-me                1\n",
      "its-a-very-merry-muppet-movie               1\n",
      "Name: first_segment, dtype: int64\n"
     ]
    }
   ],
   "source": [
    "df['first_segment'] = df['url'].str.extract(r'cbc\\.ca/([^/]+)')\n",
    "\n",
    "# Count occurrences of each unique segment\n",
    "segment_counts = df['first_segment'].value_counts()\n",
    "\n",
    "# Display the counts\n",
    "print(\"Counts for the first segment:\\n\", df['first_segment'].value_counts())"
   ]
  },
  {
   "cell_type": "code",
   "execution_count": null,
   "metadata": {
    "id": "IB-sKJPkeD_u",
    "outputId": "d59f1927-33d2-4d0a-c89e-f227e07aa54f"
   },
   "outputs": [
    {
     "name": "stdout",
     "output_type": "stream",
     "text": [
      "\n",
      "Total count across all first segments: 52325\n"
     ]
    }
   ],
   "source": [
    "# Count occurrences of each unique first segment\n",
    "first_segment_counts = df['first_segment'].value_counts()\n",
    "\n",
    "# Calculate the total count\n",
    "first_total_counts = first_segment_counts.sum()\n",
    "\n",
    "print(\"\\nTotal count across all first segments:\", first_total_counts)"
   ]
  },
  {
   "cell_type": "markdown",
   "metadata": {
    "id": "P4y7nGBFeD_u"
   },
   "source": [
    "Check that this count is the same as `n_all`"
   ]
  },
  {
   "cell_type": "code",
   "execution_count": null,
   "metadata": {
    "id": "u1IwDQEleD_u",
    "outputId": "cee153d6-d397-4f86-d99a-f7dbe7ec3e69"
   },
   "outputs": [
    {
     "data": {
      "text/plain": [
       "52325"
      ]
     },
     "execution_count": 9,
     "metadata": {},
     "output_type": "execute_result"
    }
   ],
   "source": [
    "n_all"
   ]
  },
  {
   "cell_type": "code",
   "execution_count": null,
   "metadata": {
    "id": "MENcxjdveD_u",
    "outputId": "a7b018bc-d80b-425b-a79a-fa629e03fab2"
   },
   "outputs": [
    {
     "data": {
      "image/png": "[encoded data removed]",
      "text/plain": [
       "<Figure size 432x288 with 1 Axes>"
      ]
     },
     "metadata": {
      "needs_background": "light"
     },
     "output_type": "display_data"
    }
   ],
   "source": [
    "df['first_segment'].value_counts().plot(kind='bar')\n",
    "plt.show()"
   ]
  },
  {
   "cell_type": "markdown",
   "metadata": {
    "id": "Ry1fxpWyeD_v"
   },
   "source": [
    "### Last segment, i.e., right before final slash"
   ]
  },
  {
   "cell_type": "code",
   "execution_count": null,
   "metadata": {
    "id": "Z3QE8lwjeD_v",
    "outputId": "0ca95953-1692-4115-e4ce-9d1649f17ec0"
   },
   "outputs": [
    {
     "name": "stdout",
     "output_type": "stream",
     "text": [
      "\n",
      "Counts for the last segment:\n",
      " canada                                                                                                    38504\n",
      "world                                                                                                      2054\n",
      "politics                                                                                                   1694\n",
      "olympics                                                                                                    918\n",
      "hockey                                                                                                      882\n",
      "                                                                                                          ...  \n",
      "the-song-that-called-them-home-by-david-a-robertson-illustrated-by-maya-mckibbin-1.6816003                    1\n",
      "the-buzzer-newsletter-marathon-goat-eliud-kpchoge-1.6815840                                                   1\n",
      "sarah-polley-brandi-morin-saeed-teebi-shortlisted-for-10k-rakuten-kobo-emerging-writer-prize-1.6815495        1\n",
      "how-to-watch-skymed-on-cbc-gem-1.6502977                                                                      1\n",
      "this-artist-winner-of-season-3-of-best-in-miniature-creates-bloody-spooky-landscapes-1.7039226                1\n",
      "Name: last_segment, Length: 1627, dtype: int64\n"
     ]
    }
   ],
   "source": [
    "df['last_segment'] = df['url'].str.extract(r'cbc\\.ca/[^/]+/([^/]+)')\n",
    "\n",
    "# Count occurrences of each unique second segment\n",
    "last_segment_counts = df['last_segment'].value_counts()\n",
    "\n",
    "# Display the counts\n",
    "print(\"\\nCounts for the last segment:\\n\", last_segment_counts)"
   ]
  },
  {
   "cell_type": "code",
   "execution_count": null,
   "metadata": {
    "id": "niJdMeDEeD_v",
    "outputId": "7c93cc39-0bbb-417b-c467-a9f3dbde5a2a"
   },
   "outputs": [
    {
     "name": "stdout",
     "output_type": "stream",
     "text": [
      "\n",
      "Total count across all last segments: 52313\n"
     ]
    }
   ],
   "source": [
    "# Count occurrences of each unique last segment\n",
    "last_segment_counts = df['last_segment'].value_counts()\n",
    "\n",
    "# Calculate the total count\n",
    "last_total_counts = last_segment_counts.sum()\n",
    "\n",
    "print(\"\\nTotal count across all last segments:\", last_total_counts)"
   ]
  },
  {
   "cell_type": "markdown",
   "metadata": {
    "id": "Sclnfzc4eD_v"
   },
   "source": [
    "Check that this count is the same as `n_all`"
   ]
  },
  {
   "cell_type": "code",
   "execution_count": null,
   "metadata": {
    "id": "-rQzwWCNeD_w",
    "outputId": "5a8acf1a-82be-4c53-82d6-3d19f1465ede"
   },
   "outputs": [
    {
     "data": {
      "text/plain": [
       "52325"
      ]
     },
     "execution_count": 12,
     "metadata": {},
     "output_type": "execute_result"
    }
   ],
   "source": [
    "n_all"
   ]
  },
  {
   "cell_type": "code",
   "execution_count": null,
   "metadata": {
    "id": "w2Qo60KOeD_w"
   },
   "outputs": [],
   "source": [
    "last_segment_counts.to_csv('URL_last_segment.csv')"
   ]
  },
  {
   "cell_type": "markdown",
   "metadata": {
    "id": "88sHHr1ReD_w"
   },
   "source": [
    "### Check whether all last segment stuff is just news"
   ]
  },
  {
   "cell_type": "code",
   "execution_count": null,
   "metadata": {
    "id": "Xtf0Z6rEeD_w",
    "outputId": "4bdc21b9-8bd1-4bd7-ad9d-9e2b9ffe8b2a"
   },
   "outputs": [
    {
     "name": "stdout",
     "output_type": "stream",
     "text": [
      "Counts of the last segment for 'news':\n",
      " canada                                                   38504\n",
      "world                                                     2054\n",
      "politics                                                  1694\n",
      "business                                                   648\n",
      "entertainment                                              541\n",
      "                                                         ...  \n",
      "ukraine-russia-counteroffensive-summer-1.6895765             1\n",
      "social-media-advertising-federal-government-1.6899347        1\n",
      "wage-theft-ontario-workers-1.6913090                         1\n",
      "hunter-biden-explainer-1.6928591                             1\n",
      "israel-hamas-war-day-79-1.7069133                            1\n",
      "Name: last_segment, Length: 77, dtype: int64\n"
     ]
    }
   ],
   "source": [
    "# Filter the DataFrame where the first_segment is 'news'\n",
    "news_df = df[df['first_segment'] == 'news']\n",
    "\n",
    "# Count occurrences of the last_segment for the 'news' first segment\n",
    "news_last_segment_counts = news_df['last_segment'].value_counts()\n",
    "\n",
    "# Print the results\n",
    "print(\"Counts of the last segment for 'news':\\n\", news_last_segment_counts)"
   ]
  },
  {
   "cell_type": "code",
   "execution_count": null,
   "metadata": {
    "id": "XodEcdfaeD_x",
    "outputId": "3fda645c-b8b7-4154-8304-5650de669adc"
   },
   "outputs": [
    {
     "name": "stdout",
     "output_type": "stream",
     "text": [
      "\n",
      "Total count of news last segments: 52313\n"
     ]
    }
   ],
   "source": [
    "# Count occurrences of each unique last segment after news\n",
    "news_last_segment_counts = df['last_segment'].value_counts()\n",
    "\n",
    "# Calculate the total count\n",
    "news_last_total_counts = news_last_segment_counts.sum()\n",
    "\n",
    "print(\"\\nTotal count of news last segments:\", news_last_total_counts)"
   ]
  },
  {
   "cell_type": "code",
   "execution_count": null,
   "metadata": {
    "id": "gpRTOoSfeD_x"
   },
   "outputs": [],
   "source": [
    "news_last_segment_counts.to_csv('URL_news_last_segment.csv')"
   ]
  },
  {
   "cell_type": "markdown",
   "metadata": {
    "id": "SHeQs59leD_x"
   },
   "source": [
    "### Not sure the above works\n",
    "Trying something else"
   ]
  },
  {
   "cell_type": "code",
   "execution_count": null,
   "metadata": {
    "id": "_iNmBfLmeD_y"
   },
   "outputs": [],
   "source": [
    "# Filter the DataFrame where the first_segment is 'news'\n",
    "news_df = df[df['first_segment'] == 'news']"
   ]
  },
  {
   "cell_type": "code",
   "execution_count": null,
   "metadata": {
    "id": "oChtTYv_eD_y",
    "outputId": "37f73cc1-6e15-45ee-b6d9-9d16538b3435"
   },
   "outputs": [
    {
     "data": {
      "text/html": [
       "<div>\n",
       "<style scoped>\n",
       "    .dataframe tbody tr th:only-of-type {\n",
       "        vertical-align: middle;\n",
       "    }\n",
       "\n",
       "    .dataframe tbody tr th {\n",
       "        vertical-align: top;\n",
       "    }\n",
       "\n",
       "    .dataframe thead th {\n",
       "        text-align: right;\n",
       "    }\n",
       "</style>\n",
       "<table border=\"1\" class=\"dataframe\">\n",
       "  <thead>\n",
       "    <tr style=\"text-align: right;\">\n",
       "      <th></th>\n",
       "      <th>id</th>\n",
       "      <th>url</th>\n",
       "      <th>body</th>\n",
       "      <th>title</th>\n",
       "      <th>first_segment</th>\n",
       "      <th>last_segment</th>\n",
       "    </tr>\n",
       "  </thead>\n",
       "  <tbody>\n",
       "    <tr>\n",
       "      <th>1</th>\n",
       "      <td>63b0d065f642cd4562ec7bd0</td>\n",
       "      <td>https://www.cbc.ca/news/world/north-korea-incr...</td>\n",
       "      <td>North Korean leader Kim Jong-un vowed to incre...</td>\n",
       "      <td>Kim Jong-un vows to 'exponentially' increase N...</td>\n",
       "      <td>news</td>\n",
       "      <td>world</td>\n",
       "    </tr>\n",
       "    <tr>\n",
       "      <th>2</th>\n",
       "      <td>63b0eb8bf642cd4562ed022d</td>\n",
       "      <td>https://www.cbc.ca/news/canada/british-columbi...</td>\n",
       "      <td>Starting Monday Translink will modify 45 bus r...</td>\n",
       "      <td>Translink is changing service on 45 bus routes...</td>\n",
       "      <td>news</td>\n",
       "      <td>canada</td>\n",
       "    </tr>\n",
       "    <tr>\n",
       "      <th>5</th>\n",
       "      <td>63b1167cf642cd4562ee1392</td>\n",
       "      <td>http://www.cbc.ca/news/canada/british-columbia...</td>\n",
       "      <td>Police in Victoria are looking for more potent...</td>\n",
       "      <td>Man arrested after Victoria assaults where wom...</td>\n",
       "      <td>news</td>\n",
       "      <td>canada</td>\n",
       "    </tr>\n",
       "    <tr>\n",
       "      <th>10</th>\n",
       "      <td>63b14edcf642cd4562efb0e7</td>\n",
       "      <td>https://www.cbc.ca/news/canada/toronto/bus-com...</td>\n",
       "      <td>With the main competitor out of the way, bus c...</td>\n",
       "      <td>Is the bus back? Why these companies are betti...</td>\n",
       "      <td>news</td>\n",
       "      <td>canada</td>\n",
       "    </tr>\n",
       "    <tr>\n",
       "      <th>11</th>\n",
       "      <td>63b14edff642cd4562efb136</td>\n",
       "      <td>https://www.cbc.ca/news/canada/montreal/quebec...</td>\n",
       "      <td>Quebecers are increasingly streaming music onl...</td>\n",
       "      <td>Quebecers are listening to less local music; a...</td>\n",
       "      <td>news</td>\n",
       "      <td>canada</td>\n",
       "    </tr>\n",
       "    <tr>\n",
       "      <th>...</th>\n",
       "      <td>...</td>\n",
       "      <td>...</td>\n",
       "      <td>...</td>\n",
       "      <td>...</td>\n",
       "      <td>...</td>\n",
       "      <td>...</td>\n",
       "    </tr>\n",
       "    <tr>\n",
       "      <th>52318</th>\n",
       "      <td>6591d9f058b434ef00c268bb</td>\n",
       "      <td>https://www.cbc.ca/news/canada/prince-edward-i...</td>\n",
       "      <td>Edward Lambert remembers attending a New Year'...</td>\n",
       "      <td>Kensington café spreading the love with 'queer...</td>\n",
       "      <td>news</td>\n",
       "      <td>canada</td>\n",
       "    </tr>\n",
       "    <tr>\n",
       "      <th>52320</th>\n",
       "      <td>6591e7ed58b434ef00c2bf9c</td>\n",
       "      <td>https://www.cbc.ca/news/world/israel-siblings-...</td>\n",
       "      <td>Israeli Maya Regev lay badly wounded in a nond...</td>\n",
       "      <td>Israeli siblings freed from Hamas describe pas...</td>\n",
       "      <td>news</td>\n",
       "      <td>world</td>\n",
       "    </tr>\n",
       "    <tr>\n",
       "      <th>52322</th>\n",
       "      <td>6591f60658b434ef00c3239c</td>\n",
       "      <td>http://www.cbc.ca/news/world/israel-hamas-war-...</td>\n",
       "      <td>Israeli strikes in central Gaza killed at leas...</td>\n",
       "      <td>Israeli strikes in central Gaza kill at least ...</td>\n",
       "      <td>news</td>\n",
       "      <td>world</td>\n",
       "    </tr>\n",
       "    <tr>\n",
       "      <th>52323</th>\n",
       "      <td>6591f6b158b434ef00c32999</td>\n",
       "      <td>https://www.cbc.ca/news/canada/manitoba/jets-m...</td>\n",
       "      <td>Rutger McGroarty was desperate to play for his...</td>\n",
       "      <td>Jets prospect McGroarty savouring 2nd world ju...</td>\n",
       "      <td>news</td>\n",
       "      <td>canada</td>\n",
       "    </tr>\n",
       "    <tr>\n",
       "      <th>52324</th>\n",
       "      <td>6591fc6858b434ef00c34b11</td>\n",
       "      <td>https://www.cbc.ca/news/canada/manitoba/jets-w...</td>\n",
       "      <td>Dominic Toninato scored the tie-breaking goal ...</td>\n",
       "      <td>Jets spoil Wild goaltender Fleury's 1,000th NH...</td>\n",
       "      <td>news</td>\n",
       "      <td>canada</td>\n",
       "    </tr>\n",
       "  </tbody>\n",
       "</table>\n",
       "<p>44423 rows × 6 columns</p>\n",
       "</div>"
      ],
      "text/plain": [
       "                             id  \\\n",
       "1      63b0d065f642cd4562ec7bd0   \n",
       "2      63b0eb8bf642cd4562ed022d   \n",
       "5      63b1167cf642cd4562ee1392   \n",
       "10     63b14edcf642cd4562efb0e7   \n",
       "11     63b14edff642cd4562efb136   \n",
       "...                         ...   \n",
       "52318  6591d9f058b434ef00c268bb   \n",
       "52320  6591e7ed58b434ef00c2bf9c   \n",
       "52322  6591f60658b434ef00c3239c   \n",
       "52323  6591f6b158b434ef00c32999   \n",
       "52324  6591fc6858b434ef00c34b11   \n",
       "\n",
       "                                                     url  \\\n",
       "1      https://www.cbc.ca/news/world/north-korea-incr...   \n",
       "2      https://www.cbc.ca/news/canada/british-columbi...   \n",
       "5      http://www.cbc.ca/news/canada/british-columbia...   \n",
       "10     https://www.cbc.ca/news/canada/toronto/bus-com...   \n",
       "11     https://www.cbc.ca/news/canada/montreal/quebec...   \n",
       "...                                                  ...   \n",
       "52318  https://www.cbc.ca/news/canada/prince-edward-i...   \n",
       "52320  https://www.cbc.ca/news/world/israel-siblings-...   \n",
       "52322  http://www.cbc.ca/news/world/israel-hamas-war-...   \n",
       "52323  https://www.cbc.ca/news/canada/manitoba/jets-m...   \n",
       "52324  https://www.cbc.ca/news/canada/manitoba/jets-w...   \n",
       "\n",
       "                                                    body  \\\n",
       "1      North Korean leader Kim Jong-un vowed to incre...   \n",
       "2      Starting Monday Translink will modify 45 bus r...   \n",
       "5      Police in Victoria are looking for more potent...   \n",
       "10     With the main competitor out of the way, bus c...   \n",
       "11     Quebecers are increasingly streaming music onl...   \n",
       "...                                                  ...   \n",
       "52318  Edward Lambert remembers attending a New Year'...   \n",
       "52320  Israeli Maya Regev lay badly wounded in a nond...   \n",
       "52322  Israeli strikes in central Gaza killed at leas...   \n",
       "52323  Rutger McGroarty was desperate to play for his...   \n",
       "52324  Dominic Toninato scored the tie-breaking goal ...   \n",
       "\n",
       "                                                   title first_segment  \\\n",
       "1      Kim Jong-un vows to 'exponentially' increase N...          news   \n",
       "2      Translink is changing service on 45 bus routes...          news   \n",
       "5      Man arrested after Victoria assaults where wom...          news   \n",
       "10     Is the bus back? Why these companies are betti...          news   \n",
       "11     Quebecers are listening to less local music; a...          news   \n",
       "...                                                  ...           ...   \n",
       "52318  Kensington café spreading the love with 'queer...          news   \n",
       "52320  Israeli siblings freed from Hamas describe pas...          news   \n",
       "52322  Israeli strikes in central Gaza kill at least ...          news   \n",
       "52323  Jets prospect McGroarty savouring 2nd world ju...          news   \n",
       "52324  Jets spoil Wild goaltender Fleury's 1,000th NH...          news   \n",
       "\n",
       "      last_segment  \n",
       "1            world  \n",
       "2           canada  \n",
       "5           canada  \n",
       "10          canada  \n",
       "11          canada  \n",
       "...            ...  \n",
       "52318       canada  \n",
       "52320        world  \n",
       "52322        world  \n",
       "52323       canada  \n",
       "52324       canada  \n",
       "\n",
       "[44423 rows x 6 columns]"
      ]
     },
     "execution_count": 21,
     "metadata": {},
     "output_type": "execute_result"
    }
   ],
   "source": [
    "news_df"
   ]
  },
  {
   "cell_type": "code",
   "execution_count": null,
   "metadata": {
    "id": "ZVMhJpgSeD_y",
    "outputId": "1574aef6-143c-494a-fe81-7f225c122dc3"
   },
   "outputs": [
    {
     "name": "stdout",
     "output_type": "stream",
     "text": [
      "Counts for the first news segment:\n",
      " canada                                                   38504\n",
      "world                                                     2054\n",
      "politics                                                  1694\n",
      "business                                                   648\n",
      "entertainment                                              541\n",
      "                                                         ...  \n",
      "ukraine-russia-counteroffensive-summer-1.6895765             1\n",
      "social-media-advertising-federal-government-1.6899347        1\n",
      "wage-theft-ontario-workers-1.6913090                         1\n",
      "hunter-biden-explainer-1.6928591                             1\n",
      "israel-hamas-war-day-79-1.7069133                            1\n",
      "Name: news_type, Length: 77, dtype: int64\n"
     ]
    },
    {
     "name": "stderr",
     "output_type": "stream",
     "text": [
      "C:\\Users\\mtaboada\\AppData\\Local\\Temp/ipykernel_27320/242458718.py:1: SettingWithCopyWarning: \n",
      "A value is trying to be set on a copy of a slice from a DataFrame.\n",
      "Try using .loc[row_indexer,col_indexer] = value instead\n",
      "\n",
      "See the caveats in the documentation: https://pandas.pydata.org/pandas-docs/stable/user_guide/indexing.html#returning-a-view-versus-a-copy\n",
      "  news_df['news_type'] = news_df['url'].str.extract(r'cbc\\.ca/news/([^/]+)')\n"
     ]
    }
   ],
   "source": [
    "news_df['news_type'] = news_df['url'].str.extract(r'cbc\\.ca/news/([^/]+)')\n",
    "\n",
    "# Count occurrences of each unique segment\n",
    "news_counts = news_df['news_type'].value_counts()\n",
    "\n",
    "# Display the counts\n",
    "print(\"Counts for the first news segment:\\n\", news_df['news_type'].value_counts())"
   ]
  },
  {
   "cell_type": "code",
   "execution_count": null,
   "metadata": {
    "id": "OZtLQwWAeD_y",
    "outputId": "f4a75ba4-c776-4bc9-9f33-56bf1885e284"
   },
   "outputs": [
    {
     "data": {
      "text/plain": [
       "canada                                                   38504\n",
       "world                                                     2054\n",
       "politics                                                  1694\n",
       "business                                                   648\n",
       "entertainment                                              541\n",
       "                                                         ...  \n",
       "ukraine-russia-counteroffensive-summer-1.6895765             1\n",
       "social-media-advertising-federal-government-1.6899347        1\n",
       "wage-theft-ontario-workers-1.6913090                         1\n",
       "hunter-biden-explainer-1.6928591                             1\n",
       "israel-hamas-war-day-79-1.7069133                            1\n",
       "Name: news_type, Length: 77, dtype: int64"
      ]
     },
     "execution_count": 23,
     "metadata": {},
     "output_type": "execute_result"
    }
   ],
   "source": [
    "news_counts"
   ]
  },
  {
   "cell_type": "code",
   "execution_count": null,
   "metadata": {
    "id": "8Y8qbxqoeD_z"
   },
   "outputs": [],
   "source": [
    "news_counts.to_csv('URL_news_types.csv')"
   ]
  },
  {
   "cell_type": "markdown",
   "metadata": {
    "id": "zJVrHRQ9eD_z"
   },
   "source": [
    "### Further, what types under 'canada'"
   ]
  },
  {
   "cell_type": "code",
   "execution_count": null,
   "metadata": {
    "id": "HrcQdxeDeD_z",
    "outputId": "52b4f6b0-d524-4f7b-f32a-a28d232e8793"
   },
   "outputs": [
    {
     "data": {
      "text/html": [
       "<div>\n",
       "<style scoped>\n",
       "    .dataframe tbody tr th:only-of-type {\n",
       "        vertical-align: middle;\n",
       "    }\n",
       "\n",
       "    .dataframe tbody tr th {\n",
       "        vertical-align: top;\n",
       "    }\n",
       "\n",
       "    .dataframe thead th {\n",
       "        text-align: right;\n",
       "    }\n",
       "</style>\n",
       "<table border=\"1\" class=\"dataframe\">\n",
       "  <thead>\n",
       "    <tr style=\"text-align: right;\">\n",
       "      <th></th>\n",
       "      <th>id</th>\n",
       "      <th>url</th>\n",
       "      <th>body</th>\n",
       "      <th>title</th>\n",
       "      <th>first_segment</th>\n",
       "      <th>last_segment</th>\n",
       "      <th>news_type</th>\n",
       "    </tr>\n",
       "  </thead>\n",
       "  <tbody>\n",
       "    <tr>\n",
       "      <th>1</th>\n",
       "      <td>63b0d065f642cd4562ec7bd0</td>\n",
       "      <td>https://www.cbc.ca/news/world/north-korea-incr...</td>\n",
       "      <td>North Korean leader Kim Jong-un vowed to incre...</td>\n",
       "      <td>Kim Jong-un vows to 'exponentially' increase N...</td>\n",
       "      <td>news</td>\n",
       "      <td>world</td>\n",
       "      <td>world</td>\n",
       "    </tr>\n",
       "    <tr>\n",
       "      <th>2</th>\n",
       "      <td>63b0eb8bf642cd4562ed022d</td>\n",
       "      <td>https://www.cbc.ca/news/canada/british-columbi...</td>\n",
       "      <td>Starting Monday Translink will modify 45 bus r...</td>\n",
       "      <td>Translink is changing service on 45 bus routes...</td>\n",
       "      <td>news</td>\n",
       "      <td>canada</td>\n",
       "      <td>canada</td>\n",
       "    </tr>\n",
       "    <tr>\n",
       "      <th>5</th>\n",
       "      <td>63b1167cf642cd4562ee1392</td>\n",
       "      <td>http://www.cbc.ca/news/canada/british-columbia...</td>\n",
       "      <td>Police in Victoria are looking for more potent...</td>\n",
       "      <td>Man arrested after Victoria assaults where wom...</td>\n",
       "      <td>news</td>\n",
       "      <td>canada</td>\n",
       "      <td>canada</td>\n",
       "    </tr>\n",
       "    <tr>\n",
       "      <th>10</th>\n",
       "      <td>63b14edcf642cd4562efb0e7</td>\n",
       "      <td>https://www.cbc.ca/news/canada/toronto/bus-com...</td>\n",
       "      <td>With the main competitor out of the way, bus c...</td>\n",
       "      <td>Is the bus back? Why these companies are betti...</td>\n",
       "      <td>news</td>\n",
       "      <td>canada</td>\n",
       "      <td>canada</td>\n",
       "    </tr>\n",
       "    <tr>\n",
       "      <th>11</th>\n",
       "      <td>63b14edff642cd4562efb136</td>\n",
       "      <td>https://www.cbc.ca/news/canada/montreal/quebec...</td>\n",
       "      <td>Quebecers are increasingly streaming music onl...</td>\n",
       "      <td>Quebecers are listening to less local music; a...</td>\n",
       "      <td>news</td>\n",
       "      <td>canada</td>\n",
       "      <td>canada</td>\n",
       "    </tr>\n",
       "    <tr>\n",
       "      <th>...</th>\n",
       "      <td>...</td>\n",
       "      <td>...</td>\n",
       "      <td>...</td>\n",
       "      <td>...</td>\n",
       "      <td>...</td>\n",
       "      <td>...</td>\n",
       "      <td>...</td>\n",
       "    </tr>\n",
       "    <tr>\n",
       "      <th>52318</th>\n",
       "      <td>6591d9f058b434ef00c268bb</td>\n",
       "      <td>https://www.cbc.ca/news/canada/prince-edward-i...</td>\n",
       "      <td>Edward Lambert remembers attending a New Year'...</td>\n",
       "      <td>Kensington café spreading the love with 'queer...</td>\n",
       "      <td>news</td>\n",
       "      <td>canada</td>\n",
       "      <td>canada</td>\n",
       "    </tr>\n",
       "    <tr>\n",
       "      <th>52320</th>\n",
       "      <td>6591e7ed58b434ef00c2bf9c</td>\n",
       "      <td>https://www.cbc.ca/news/world/israel-siblings-...</td>\n",
       "      <td>Israeli Maya Regev lay badly wounded in a nond...</td>\n",
       "      <td>Israeli siblings freed from Hamas describe pas...</td>\n",
       "      <td>news</td>\n",
       "      <td>world</td>\n",
       "      <td>world</td>\n",
       "    </tr>\n",
       "    <tr>\n",
       "      <th>52322</th>\n",
       "      <td>6591f60658b434ef00c3239c</td>\n",
       "      <td>http://www.cbc.ca/news/world/israel-hamas-war-...</td>\n",
       "      <td>Israeli strikes in central Gaza killed at leas...</td>\n",
       "      <td>Israeli strikes in central Gaza kill at least ...</td>\n",
       "      <td>news</td>\n",
       "      <td>world</td>\n",
       "      <td>world</td>\n",
       "    </tr>\n",
       "    <tr>\n",
       "      <th>52323</th>\n",
       "      <td>6591f6b158b434ef00c32999</td>\n",
       "      <td>https://www.cbc.ca/news/canada/manitoba/jets-m...</td>\n",
       "      <td>Rutger McGroarty was desperate to play for his...</td>\n",
       "      <td>Jets prospect McGroarty savouring 2nd world ju...</td>\n",
       "      <td>news</td>\n",
       "      <td>canada</td>\n",
       "      <td>canada</td>\n",
       "    </tr>\n",
       "    <tr>\n",
       "      <th>52324</th>\n",
       "      <td>6591fc6858b434ef00c34b11</td>\n",
       "      <td>https://www.cbc.ca/news/canada/manitoba/jets-w...</td>\n",
       "      <td>Dominic Toninato scored the tie-breaking goal ...</td>\n",
       "      <td>Jets spoil Wild goaltender Fleury's 1,000th NH...</td>\n",
       "      <td>news</td>\n",
       "      <td>canada</td>\n",
       "      <td>canada</td>\n",
       "    </tr>\n",
       "  </tbody>\n",
       "</table>\n",
       "<p>44423 rows × 7 columns</p>\n",
       "</div>"
      ],
      "text/plain": [
       "                             id  \\\n",
       "1      63b0d065f642cd4562ec7bd0   \n",
       "2      63b0eb8bf642cd4562ed022d   \n",
       "5      63b1167cf642cd4562ee1392   \n",
       "10     63b14edcf642cd4562efb0e7   \n",
       "11     63b14edff642cd4562efb136   \n",
       "...                         ...   \n",
       "52318  6591d9f058b434ef00c268bb   \n",
       "52320  6591e7ed58b434ef00c2bf9c   \n",
       "52322  6591f60658b434ef00c3239c   \n",
       "52323  6591f6b158b434ef00c32999   \n",
       "52324  6591fc6858b434ef00c34b11   \n",
       "\n",
       "                                                     url  \\\n",
       "1      https://www.cbc.ca/news/world/north-korea-incr...   \n",
       "2      https://www.cbc.ca/news/canada/british-columbi...   \n",
       "5      http://www.cbc.ca/news/canada/british-columbia...   \n",
       "10     https://www.cbc.ca/news/canada/toronto/bus-com...   \n",
       "11     https://www.cbc.ca/news/canada/montreal/quebec...   \n",
       "...                                                  ...   \n",
       "52318  https://www.cbc.ca/news/canada/prince-edward-i...   \n",
       "52320  https://www.cbc.ca/news/world/israel-siblings-...   \n",
       "52322  http://www.cbc.ca/news/world/israel-hamas-war-...   \n",
       "52323  https://www.cbc.ca/news/canada/manitoba/jets-m...   \n",
       "52324  https://www.cbc.ca/news/canada/manitoba/jets-w...   \n",
       "\n",
       "                                                    body  \\\n",
       "1      North Korean leader Kim Jong-un vowed to incre...   \n",
       "2      Starting Monday Translink will modify 45 bus r...   \n",
       "5      Police in Victoria are looking for more potent...   \n",
       "10     With the main competitor out of the way, bus c...   \n",
       "11     Quebecers are increasingly streaming music onl...   \n",
       "...                                                  ...   \n",
       "52318  Edward Lambert remembers attending a New Year'...   \n",
       "52320  Israeli Maya Regev lay badly wounded in a nond...   \n",
       "52322  Israeli strikes in central Gaza killed at leas...   \n",
       "52323  Rutger McGroarty was desperate to play for his...   \n",
       "52324  Dominic Toninato scored the tie-breaking goal ...   \n",
       "\n",
       "                                                   title first_segment  \\\n",
       "1      Kim Jong-un vows to 'exponentially' increase N...          news   \n",
       "2      Translink is changing service on 45 bus routes...          news   \n",
       "5      Man arrested after Victoria assaults where wom...          news   \n",
       "10     Is the bus back? Why these companies are betti...          news   \n",
       "11     Quebecers are listening to less local music; a...          news   \n",
       "...                                                  ...           ...   \n",
       "52318  Kensington café spreading the love with 'queer...          news   \n",
       "52320  Israeli siblings freed from Hamas describe pas...          news   \n",
       "52322  Israeli strikes in central Gaza kill at least ...          news   \n",
       "52323  Jets prospect McGroarty savouring 2nd world ju...          news   \n",
       "52324  Jets spoil Wild goaltender Fleury's 1,000th NH...          news   \n",
       "\n",
       "      last_segment news_type  \n",
       "1            world     world  \n",
       "2           canada    canada  \n",
       "5           canada    canada  \n",
       "10          canada    canada  \n",
       "11          canada    canada  \n",
       "...            ...       ...  \n",
       "52318       canada    canada  \n",
       "52320        world     world  \n",
       "52322        world     world  \n",
       "52323       canada    canada  \n",
       "52324       canada    canada  \n",
       "\n",
       "[44423 rows x 7 columns]"
      ]
     },
     "execution_count": 26,
     "metadata": {},
     "output_type": "execute_result"
    }
   ],
   "source": [
    "news_df"
   ]
  },
  {
   "cell_type": "code",
   "execution_count": null,
   "metadata": {
    "id": "a-UJYZPleD_0"
   },
   "outputs": [],
   "source": [
    "news_canada_df = news_df[news_df['news_type'] == 'canada']"
   ]
  },
  {
   "cell_type": "code",
   "execution_count": null,
   "metadata": {
    "id": "ESV3D9F_eD_0",
    "outputId": "7a9f9f56-b0ee-44a4-a6f5-8692fb99e4c7"
   },
   "outputs": [
    {
     "name": "stdout",
     "output_type": "stream",
     "text": [
      "Counts for the first news canada segment:\n",
      " british-columbia                                                                                  3920\n",
      "manitoba                                                                                          3542\n",
      "nova-scotia                                                                                       2864\n",
      "toronto                                                                                           2502\n",
      "ottawa                                                                                            2391\n",
      "                                                                                                  ... \n",
      "am-i-still-a-mother-if-my-newborn-died-1.6822059                                                     1\n",
      "our-baby-girls-were-born-5-months-apart-after-we-suffered-with-infertility-for-years-1.6822095       1\n",
      "stanley-cup-canada-chart-1.6820519                                                                   1\n",
      "king-charles-coronation-viewing-cbc-1.6819386                                                        1\n",
      "canadian-food-banks-pressure-1.7071747                                                               1\n",
      "Name: news_canada_type, Length: 434, dtype: int64\n"
     ]
    },
    {
     "name": "stderr",
     "output_type": "stream",
     "text": [
      "C:\\Users\\mtaboada\\AppData\\Local\\Temp/ipykernel_27320/4269701876.py:1: SettingWithCopyWarning: \n",
      "A value is trying to be set on a copy of a slice from a DataFrame.\n",
      "Try using .loc[row_indexer,col_indexer] = value instead\n",
      "\n",
      "See the caveats in the documentation: https://pandas.pydata.org/pandas-docs/stable/user_guide/indexing.html#returning-a-view-versus-a-copy\n",
      "  news_canada_df['news_canada_type'] = news_canada_df['url'].str.extract(r'cbc\\.ca/news/canada/([^/]+)')\n"
     ]
    }
   ],
   "source": [
    "news_canada_df['news_canada_type'] = news_canada_df['url'].str.extract(r'cbc\\.ca/news/canada/([^/]+)')\n",
    "\n",
    "# Count occurrences of each unique segment\n",
    "news_canada_counts = news_canada_df['news_canada_type'].value_counts()\n",
    "\n",
    "# Display the counts\n",
    "print(\"Counts for the first news canada segment:\\n\", news_canada_df['news_canada_type'].value_counts())"
   ]
  },
  {
   "cell_type": "code",
   "execution_count": null,
   "metadata": {
    "id": "E1cxJOqeeD_0"
   },
   "outputs": [],
   "source": [
    "news_canada_counts.to_csv('URL_news_canada.csv')"
   ]
  },
  {
   "cell_type": "markdown",
   "metadata": {
    "id": "CKMRUMm1eD_0"
   },
   "source": [
    "### Just checking what's under PEI, the province with the smallest number of articles"
   ]
  },
  {
   "cell_type": "code",
   "execution_count": null,
   "metadata": {
    "id": "Y4sNxC66eD_6"
   },
   "outputs": [],
   "source": [
    "news_pei_df = news_canada_df[news_canada_df['news_canada_type'] == 'prince-edward-island']"
   ]
  },
  {
   "cell_type": "code",
   "execution_count": null,
   "metadata": {
    "id": "GHSBYgTdeD_6",
    "outputId": "30fd70e4-cba9-4ffd-81c1-9f800d2a1802"
   },
   "outputs": [
    {
     "data": {
      "text/html": [
       "<div>\n",
       "<style scoped>\n",
       "    .dataframe tbody tr th:only-of-type {\n",
       "        vertical-align: middle;\n",
       "    }\n",
       "\n",
       "    .dataframe tbody tr th {\n",
       "        vertical-align: top;\n",
       "    }\n",
       "\n",
       "    .dataframe thead th {\n",
       "        text-align: right;\n",
       "    }\n",
       "</style>\n",
       "<table border=\"1\" class=\"dataframe\">\n",
       "  <thead>\n",
       "    <tr style=\"text-align: right;\">\n",
       "      <th></th>\n",
       "      <th>id</th>\n",
       "      <th>url</th>\n",
       "      <th>body</th>\n",
       "      <th>title</th>\n",
       "      <th>first_segment</th>\n",
       "      <th>last_segment</th>\n",
       "      <th>news_type</th>\n",
       "      <th>news_canada_type</th>\n",
       "    </tr>\n",
       "  </thead>\n",
       "  <tbody>\n",
       "    <tr>\n",
       "      <th>41</th>\n",
       "      <td>63b1d4a0f642cd4562f31f0e</td>\n",
       "      <td>https://www.cbc.ca/news/canada/prince-edward-i...</td>\n",
       "      <td>Haley Zavo always dreamed of creating a vibran...</td>\n",
       "      <td>Kings Playhouse executive director exits stage...</td>\n",
       "      <td>news</td>\n",
       "      <td>canada</td>\n",
       "      <td>canada</td>\n",
       "      <td>prince-edward-island</td>\n",
       "    </tr>\n",
       "    <tr>\n",
       "      <th>82</th>\n",
       "      <td>63b2ae78f642cd4562f87fc6</td>\n",
       "      <td>https://www.cbc.ca/news/canada/prince-edward-i...</td>\n",
       "      <td>Canadian Blood Services is urging people on Pr...</td>\n",
       "      <td>Canadian Blood Services urges Islanders to boo...</td>\n",
       "      <td>news</td>\n",
       "      <td>canada</td>\n",
       "      <td>canada</td>\n",
       "      <td>prince-edward-island</td>\n",
       "    </tr>\n",
       "    <tr>\n",
       "      <th>90</th>\n",
       "      <td>63b2c3aef642cd4562f933e3</td>\n",
       "      <td>https://www.cbc.ca/news/canada/prince-edward-i...</td>\n",
       "      <td>The police cruiser, a century-old symbol of po...</td>\n",
       "      <td>Cruisers out, SUVs in as Charlottetown renews ...</td>\n",
       "      <td>news</td>\n",
       "      <td>canada</td>\n",
       "      <td>canada</td>\n",
       "      <td>prince-edward-island</td>\n",
       "    </tr>\n",
       "    <tr>\n",
       "      <th>104</th>\n",
       "      <td>63b30298f642cd4562fad8a9</td>\n",
       "      <td>https://www.cbc.ca/news/canada/prince-edward-i...</td>\n",
       "      <td>It's been a long year for Buddy the eagle at C...</td>\n",
       "      <td>Eagle, recovered from spinal surgery, heading ...</td>\n",
       "      <td>news</td>\n",
       "      <td>canada</td>\n",
       "      <td>canada</td>\n",
       "      <td>prince-edward-island</td>\n",
       "    </tr>\n",
       "    <tr>\n",
       "      <th>152</th>\n",
       "      <td>63b36492f642cd4562fd297a</td>\n",
       "      <td>https://www.cbc.ca/news/canada/prince-edward-i...</td>\n",
       "      <td>Some members of P.E.I.'s Chinese community hav...</td>\n",
       "      <td>As China eases COVID-19 restrictions, some peo...</td>\n",
       "      <td>news</td>\n",
       "      <td>canada</td>\n",
       "      <td>canada</td>\n",
       "      <td>prince-edward-island</td>\n",
       "    </tr>\n",
       "    <tr>\n",
       "      <th>...</th>\n",
       "      <td>...</td>\n",
       "      <td>...</td>\n",
       "      <td>...</td>\n",
       "      <td>...</td>\n",
       "      <td>...</td>\n",
       "      <td>...</td>\n",
       "      <td>...</td>\n",
       "      <td>...</td>\n",
       "    </tr>\n",
       "    <tr>\n",
       "      <th>52241</th>\n",
       "      <td>6590334558b434ef00b69058</td>\n",
       "      <td>https://www.cbc.ca/news/canada/prince-edward-i...</td>\n",
       "      <td>The emergency department at Western Hospital i...</td>\n",
       "      <td>Alberton ER closed for weekend, other hospital...</td>\n",
       "      <td>news</td>\n",
       "      <td>canada</td>\n",
       "      <td>canada</td>\n",
       "      <td>prince-edward-island</td>\n",
       "    </tr>\n",
       "    <tr>\n",
       "      <th>52284</th>\n",
       "      <td>65913e9658b434ef00be0a3a</td>\n",
       "      <td>https://www.cbc.ca/news/canada/prince-edward-i...</td>\n",
       "      <td>Many P.E.I. businesses and services will be cl...</td>\n",
       "      <td>New Year's Eve and New Year's Day: What's open...</td>\n",
       "      <td>news</td>\n",
       "      <td>canada</td>\n",
       "      <td>canada</td>\n",
       "      <td>prince-edward-island</td>\n",
       "    </tr>\n",
       "    <tr>\n",
       "      <th>52286</th>\n",
       "      <td>65913f1358b434ef00be0fd2</td>\n",
       "      <td>https://www.cbc.ca/news/canada/prince-edward-i...</td>\n",
       "      <td>A provincial election. A scathing report detai...</td>\n",
       "      <td>A look back at the stories that shaped Prince ...</td>\n",
       "      <td>news</td>\n",
       "      <td>canada</td>\n",
       "      <td>canada</td>\n",
       "      <td>prince-edward-island</td>\n",
       "    </tr>\n",
       "    <tr>\n",
       "      <th>52300</th>\n",
       "      <td>659199ab58b434ef00c0a0e4</td>\n",
       "      <td>https://www.cbc.ca/news/canada/prince-edward-i...</td>\n",
       "      <td>Tennis P.E.I. is searching for a new home cour...</td>\n",
       "      <td>After 43 years, it's game, set, match for tenn...</td>\n",
       "      <td>news</td>\n",
       "      <td>canada</td>\n",
       "      <td>canada</td>\n",
       "      <td>prince-edward-island</td>\n",
       "    </tr>\n",
       "    <tr>\n",
       "      <th>52318</th>\n",
       "      <td>6591d9f058b434ef00c268bb</td>\n",
       "      <td>https://www.cbc.ca/news/canada/prince-edward-i...</td>\n",
       "      <td>Edward Lambert remembers attending a New Year'...</td>\n",
       "      <td>Kensington café spreading the love with 'queer...</td>\n",
       "      <td>news</td>\n",
       "      <td>canada</td>\n",
       "      <td>canada</td>\n",
       "      <td>prince-edward-island</td>\n",
       "    </tr>\n",
       "  </tbody>\n",
       "</table>\n",
       "<p>1885 rows × 8 columns</p>\n",
       "</div>"
      ],
      "text/plain": [
       "                             id  \\\n",
       "41     63b1d4a0f642cd4562f31f0e   \n",
       "82     63b2ae78f642cd4562f87fc6   \n",
       "90     63b2c3aef642cd4562f933e3   \n",
       "104    63b30298f642cd4562fad8a9   \n",
       "152    63b36492f642cd4562fd297a   \n",
       "...                         ...   \n",
       "52241  6590334558b434ef00b69058   \n",
       "52284  65913e9658b434ef00be0a3a   \n",
       "52286  65913f1358b434ef00be0fd2   \n",
       "52300  659199ab58b434ef00c0a0e4   \n",
       "52318  6591d9f058b434ef00c268bb   \n",
       "\n",
       "                                                     url  \\\n",
       "41     https://www.cbc.ca/news/canada/prince-edward-i...   \n",
       "82     https://www.cbc.ca/news/canada/prince-edward-i...   \n",
       "90     https://www.cbc.ca/news/canada/prince-edward-i...   \n",
       "104    https://www.cbc.ca/news/canada/prince-edward-i...   \n",
       "152    https://www.cbc.ca/news/canada/prince-edward-i...   \n",
       "...                                                  ...   \n",
       "52241  https://www.cbc.ca/news/canada/prince-edward-i...   \n",
       "52284  https://www.cbc.ca/news/canada/prince-edward-i...   \n",
       "52286  https://www.cbc.ca/news/canada/prince-edward-i...   \n",
       "52300  https://www.cbc.ca/news/canada/prince-edward-i...   \n",
       "52318  https://www.cbc.ca/news/canada/prince-edward-i...   \n",
       "\n",
       "                                                    body  \\\n",
       "41     Haley Zavo always dreamed of creating a vibran...   \n",
       "82     Canadian Blood Services is urging people on Pr...   \n",
       "90     The police cruiser, a century-old symbol of po...   \n",
       "104    It's been a long year for Buddy the eagle at C...   \n",
       "152    Some members of P.E.I.'s Chinese community hav...   \n",
       "...                                                  ...   \n",
       "52241  The emergency department at Western Hospital i...   \n",
       "52284  Many P.E.I. businesses and services will be cl...   \n",
       "52286  A provincial election. A scathing report detai...   \n",
       "52300  Tennis P.E.I. is searching for a new home cour...   \n",
       "52318  Edward Lambert remembers attending a New Year'...   \n",
       "\n",
       "                                                   title first_segment  \\\n",
       "41     Kings Playhouse executive director exits stage...          news   \n",
       "82     Canadian Blood Services urges Islanders to boo...          news   \n",
       "90     Cruisers out, SUVs in as Charlottetown renews ...          news   \n",
       "104    Eagle, recovered from spinal surgery, heading ...          news   \n",
       "152    As China eases COVID-19 restrictions, some peo...          news   \n",
       "...                                                  ...           ...   \n",
       "52241  Alberton ER closed for weekend, other hospital...          news   \n",
       "52284  New Year's Eve and New Year's Day: What's open...          news   \n",
       "52286  A look back at the stories that shaped Prince ...          news   \n",
       "52300  After 43 years, it's game, set, match for tenn...          news   \n",
       "52318  Kensington café spreading the love with 'queer...          news   \n",
       "\n",
       "      last_segment news_type      news_canada_type  \n",
       "41          canada    canada  prince-edward-island  \n",
       "82          canada    canada  prince-edward-island  \n",
       "90          canada    canada  prince-edward-island  \n",
       "104         canada    canada  prince-edward-island  \n",
       "152         canada    canada  prince-edward-island  \n",
       "...            ...       ...                   ...  \n",
       "52241       canada    canada  prince-edward-island  \n",
       "52284       canada    canada  prince-edward-island  \n",
       "52286       canada    canada  prince-edward-island  \n",
       "52300       canada    canada  prince-edward-island  \n",
       "52318       canada    canada  prince-edward-island  \n",
       "\n",
       "[1885 rows x 8 columns]"
      ]
     },
     "execution_count": 37,
     "metadata": {},
     "output_type": "execute_result"
    }
   ],
   "source": [
    "news_pei_df"
   ]
  },
  {
   "cell_type": "code",
   "execution_count": null,
   "metadata": {
    "id": "HwGv-p9UeD_7"
   },
   "outputs": [],
   "source": [
    "news_pei_df.to_csv('URL_news_pei.csv')"
   ]
  }
 ],
 "metadata": {
  "colab": {
   "collapsed_sections": [
    "EjhpMnDieD_s",
    "yAd8_TkjeD_p",
    "HGUroboieD_t",
    "Ry1fxpWyeD_v",
    "88sHHr1ReD_w",
    "SHeQs59leD_x",
    "zJVrHRQ9eD_z",
    "CKMRUMm1eD_0"
   ],
   "provenance": []
  },
  "kernelspec": {
   "display_name": "Python 3",
   "language": "python",
   "name": "python3"
  },
  "language_info": {
   "codemirror_mode": {
    "name": "ipython",
    "version": 3
   },
   "file_extension": ".py",
   "mimetype": "text/x-python",
   "name": "python",
   "nbconvert_exporter": "python",
   "pygments_lexer": "ipython3",
   "version": "3.8.5"
  }
 },
 "nbformat": 4,
 "nbformat_minor": 1
}
