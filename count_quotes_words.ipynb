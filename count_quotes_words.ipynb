{
 "cells": [
  {
   "cell_type": "markdown",
   "metadata": {},
   "source": [
    "# Count quotes and words for the first table"
   ]
  },
  {
   "cell_type": "markdown",
   "metadata": {},
   "source": [
    "## Count total number of quotes\n",
    "\n",
    "These come from the \"CBC_qt_output/Quotes_new\" dir. This is the 'last' place where we can count quotes, as in the sentiment output, the quotes for each article are merged into one document."
   ]
  },
  {
   "cell_type": "code",
   "execution_count": 1,
   "metadata": {},
   "outputs": [],
   "source": [
    "import pandas as pd\n",
    "import numpy as np\n",
    "import json\n",
    "from pandas import json_normalize\n",
    "import ast\n",
    "from ast import literal_eval\n",
    "import os\n",
    "import glob\n",
    "import re\n",
    "import matplotlib.pyplot as plt"
   ]
  },
  {
   "cell_type": "code",
   "execution_count": 2,
   "metadata": {},
   "outputs": [],
   "source": [
    "directory = 'C:/Maite/MOD/projects/Monika_Bednarek/Evaluation_quotes/Data/CBC_qt_output/Quotes_new'"
   ]
  },
  {
   "cell_type": "code",
   "execution_count": 6,
   "metadata": {},
   "outputs": [],
   "source": [
    "excel_files = glob.glob(os.path.join(directory, '2023*.xlsx'))\n",
    "\n",
    "results = []\n",
    "\n",
    "for file in excel_files:\n",
    "    try:\n",
    "        # read the full sheet and the quotes column\n",
    "        df = pd.read_excel(file, sheet_name='full')\n",
    "\n",
    "        # count the number of rows\n",
    "        num_rows_quotes = len(df)\n",
    "\n",
    "        # Store the result in the list\n",
    "        results.append({\n",
    "            'file': os.path.basename(file),\n",
    "            'rows_in_full': num_rows_quotes,\n",
    "        })\n",
    "\n",
    "    except Exception as e:\n",
    "        # Handle any errors (e.g., sheet not found)\n",
    "        print(f\"Could not process {file}: {e}\")"
   ]
  },
  {
   "cell_type": "code",
   "execution_count": 7,
   "metadata": {},
   "outputs": [
    {
     "data": {
      "text/html": [
       "<div>\n",
       "<style scoped>\n",
       "    .dataframe tbody tr th:only-of-type {\n",
       "        vertical-align: middle;\n",
       "    }\n",
       "\n",
       "    .dataframe tbody tr th {\n",
       "        vertical-align: top;\n",
       "    }\n",
       "\n",
       "    .dataframe thead th {\n",
       "        text-align: right;\n",
       "    }\n",
       "</style>\n",
       "<table border=\"1\" class=\"dataframe\">\n",
       "  <thead>\n",
       "    <tr style=\"text-align: right;\">\n",
       "      <th></th>\n",
       "      <th>file</th>\n",
       "      <th>rows_in_full</th>\n",
       "    </tr>\n",
       "  </thead>\n",
       "  <tbody>\n",
       "    <tr>\n",
       "      <th>0</th>\n",
       "      <td>2023_01_jan_CBC_news_qt_new.xlsx</td>\n",
       "      <td>55161</td>\n",
       "    </tr>\n",
       "    <tr>\n",
       "      <th>1</th>\n",
       "      <td>2023_03_mar_CBC_news_qt_new.xlsx</td>\n",
       "      <td>60157</td>\n",
       "    </tr>\n",
       "    <tr>\n",
       "      <th>2</th>\n",
       "      <td>2023_04_apr_CBC_news_qt_new.xlsx</td>\n",
       "      <td>51383</td>\n",
       "    </tr>\n",
       "    <tr>\n",
       "      <th>3</th>\n",
       "      <td>2023_05_may_CBC_news_qt_new.xlsx</td>\n",
       "      <td>58306</td>\n",
       "    </tr>\n",
       "    <tr>\n",
       "      <th>4</th>\n",
       "      <td>2023_07_jul_CBC_news_qt_new.xlsx</td>\n",
       "      <td>51754</td>\n",
       "    </tr>\n",
       "    <tr>\n",
       "      <th>5</th>\n",
       "      <td>2023_08_aug_CBC_news_qt_new.xlsx</td>\n",
       "      <td>51011</td>\n",
       "    </tr>\n",
       "    <tr>\n",
       "      <th>6</th>\n",
       "      <td>2023_09_sep_CBC_news_qt_new.xlsx</td>\n",
       "      <td>52230</td>\n",
       "    </tr>\n",
       "    <tr>\n",
       "      <th>7</th>\n",
       "      <td>2023_10_oct_CBC_news_qt_new.xlsx</td>\n",
       "      <td>55202</td>\n",
       "    </tr>\n",
       "    <tr>\n",
       "      <th>8</th>\n",
       "      <td>2023_11_nov_CBC_news_qt_new.xlsx</td>\n",
       "      <td>55528</td>\n",
       "    </tr>\n",
       "    <tr>\n",
       "      <th>9</th>\n",
       "      <td>2023_12_dec_CBC_news_qt_new.xlsx</td>\n",
       "      <td>47561</td>\n",
       "    </tr>\n",
       "  </tbody>\n",
       "</table>\n",
       "</div>"
      ],
      "text/plain": [
       "                               file  rows_in_full\n",
       "0  2023_01_jan_CBC_news_qt_new.xlsx         55161\n",
       "1  2023_03_mar_CBC_news_qt_new.xlsx         60157\n",
       "2  2023_04_apr_CBC_news_qt_new.xlsx         51383\n",
       "3  2023_05_may_CBC_news_qt_new.xlsx         58306\n",
       "4  2023_07_jul_CBC_news_qt_new.xlsx         51754\n",
       "5  2023_08_aug_CBC_news_qt_new.xlsx         51011\n",
       "6  2023_09_sep_CBC_news_qt_new.xlsx         52230\n",
       "7  2023_10_oct_CBC_news_qt_new.xlsx         55202\n",
       "8  2023_11_nov_CBC_news_qt_new.xlsx         55528\n",
       "9  2023_12_dec_CBC_news_qt_new.xlsx         47561"
      ]
     },
     "execution_count": 7,
     "metadata": {},
     "output_type": "execute_result"
    }
   ],
   "source": [
    "results_df = pd.DataFrame(results)\n",
    "\n",
    "results_df"
   ]
  },
  {
   "cell_type": "code",
   "execution_count": 8,
   "metadata": {},
   "outputs": [
    {
     "data": {
      "text/html": [
       "<div>\n",
       "<style scoped>\n",
       "    .dataframe tbody tr th:only-of-type {\n",
       "        vertical-align: middle;\n",
       "    }\n",
       "\n",
       "    .dataframe tbody tr th {\n",
       "        vertical-align: top;\n",
       "    }\n",
       "\n",
       "    .dataframe thead th {\n",
       "        text-align: right;\n",
       "    }\n",
       "</style>\n",
       "<table border=\"1\" class=\"dataframe\">\n",
       "  <thead>\n",
       "    <tr style=\"text-align: right;\">\n",
       "      <th></th>\n",
       "      <th>file</th>\n",
       "      <th>rows_in_full</th>\n",
       "    </tr>\n",
       "  </thead>\n",
       "  <tbody>\n",
       "    <tr>\n",
       "      <th>0</th>\n",
       "      <td>2023_01_jan_CBC_news_qt_new.xlsx</td>\n",
       "      <td>55161</td>\n",
       "    </tr>\n",
       "    <tr>\n",
       "      <th>1</th>\n",
       "      <td>2023_03_mar_CBC_news_qt_new.xlsx</td>\n",
       "      <td>60157</td>\n",
       "    </tr>\n",
       "    <tr>\n",
       "      <th>2</th>\n",
       "      <td>2023_04_apr_CBC_news_qt_new.xlsx</td>\n",
       "      <td>51383</td>\n",
       "    </tr>\n",
       "    <tr>\n",
       "      <th>3</th>\n",
       "      <td>2023_05_may_CBC_news_qt_new.xlsx</td>\n",
       "      <td>58306</td>\n",
       "    </tr>\n",
       "    <tr>\n",
       "      <th>4</th>\n",
       "      <td>2023_07_jul_CBC_news_qt_new.xlsx</td>\n",
       "      <td>51754</td>\n",
       "    </tr>\n",
       "    <tr>\n",
       "      <th>5</th>\n",
       "      <td>2023_08_aug_CBC_news_qt_new.xlsx</td>\n",
       "      <td>51011</td>\n",
       "    </tr>\n",
       "    <tr>\n",
       "      <th>6</th>\n",
       "      <td>2023_09_sep_CBC_news_qt_new.xlsx</td>\n",
       "      <td>52230</td>\n",
       "    </tr>\n",
       "    <tr>\n",
       "      <th>7</th>\n",
       "      <td>2023_10_oct_CBC_news_qt_new.xlsx</td>\n",
       "      <td>55202</td>\n",
       "    </tr>\n",
       "    <tr>\n",
       "      <th>8</th>\n",
       "      <td>2023_11_nov_CBC_news_qt_new.xlsx</td>\n",
       "      <td>55528</td>\n",
       "    </tr>\n",
       "    <tr>\n",
       "      <th>9</th>\n",
       "      <td>2023_12_dec_CBC_news_qt_new.xlsx</td>\n",
       "      <td>47561</td>\n",
       "    </tr>\n",
       "    <tr>\n",
       "      <th>10</th>\n",
       "      <td>Total</td>\n",
       "      <td>538293</td>\n",
       "    </tr>\n",
       "  </tbody>\n",
       "</table>\n",
       "</div>"
      ],
      "text/plain": [
       "                                file  rows_in_full\n",
       "0   2023_01_jan_CBC_news_qt_new.xlsx         55161\n",
       "1   2023_03_mar_CBC_news_qt_new.xlsx         60157\n",
       "2   2023_04_apr_CBC_news_qt_new.xlsx         51383\n",
       "3   2023_05_may_CBC_news_qt_new.xlsx         58306\n",
       "4   2023_07_jul_CBC_news_qt_new.xlsx         51754\n",
       "5   2023_08_aug_CBC_news_qt_new.xlsx         51011\n",
       "6   2023_09_sep_CBC_news_qt_new.xlsx         52230\n",
       "7   2023_10_oct_CBC_news_qt_new.xlsx         55202\n",
       "8   2023_11_nov_CBC_news_qt_new.xlsx         55528\n",
       "9   2023_12_dec_CBC_news_qt_new.xlsx         47561\n",
       "10                             Total        538293"
      ]
     },
     "execution_count": 8,
     "metadata": {},
     "output_type": "execute_result"
    }
   ],
   "source": [
    "# Calculate the total row by summing all numeric columns\n",
    "total_row = results_df[['rows_in_full']].sum()\n",
    "\n",
    "# Add 'Total' as a label for the 'Category' column in the total row\n",
    "total_row['file'] = 'Total'\n",
    "\n",
    "# Append the total row to the DataFrame\n",
    "results_df = results_df.append(total_row, ignore_index=True)\n",
    "\n",
    "# Display the updated DataFrame\n",
    "results_df"
   ]
  },
  {
   "cell_type": "markdown",
   "metadata": {},
   "source": [
    "## Count words in quotes and non quotes\n",
    "\n",
    "Input dir is sentiment_output. We count the words in the respective tab/columns of each excel, i.e, for each month:\n",
    "\n",
    "* quotes tab\n",
    "* quote colum\n",
    "* non-quotes tab\n",
    "* non-quoted text"
   ]
  },
  {
   "cell_type": "code",
   "execution_count": 21,
   "metadata": {},
   "outputs": [],
   "source": [
    "os.chdir(r'C:\\Maite\\MOD\\projects\\Monika_Bednarek\\Evaluation_quotes\\Data\\CBC_output_corpus')"
   ]
  },
  {
   "cell_type": "markdown",
   "metadata": {},
   "source": [
    "This one counts with the \\n"
   ]
  },
  {
   "cell_type": "code",
   "execution_count": 23,
   "metadata": {},
   "outputs": [
    {
     "name": "stdout",
     "output_type": "stream",
     "text": [
      "Total number of words: 895688\n"
     ]
    }
   ],
   "source": [
    "with open('2023_02_feb_CBC_news_sentiment_quote_text.txt', 'r', encoding='utf-8') as file:\n",
    "    lines = file.readlines()\n",
    "\n",
    "df = pd.DataFrame(lines, columns=['text'])\n",
    "\n",
    "# count the number of words in each line\n",
    "df['word_count'] = df['text'].apply(lambda x: len(x.split()))\n",
    "\n",
    "total_words = df['word_count'].sum()\n",
    "\n",
    "print(f\"Total number of words: {total_words}\")"
   ]
  },
  {
   "cell_type": "markdown",
   "metadata": {},
   "source": [
    "This one without the \\n"
   ]
  },
  {
   "cell_type": "code",
   "execution_count": 25,
   "metadata": {},
   "outputs": [
    {
     "name": "stdout",
     "output_type": "stream",
     "text": [
      "Total number of words: 895688\n"
     ]
    }
   ],
   "source": [
    "with open('2023_02_feb_CBC_news_sentiment_quote_text.txt', 'r', encoding='utf-8') as file:\n",
    "    lines = file.readlines()\n",
    "    # Remove the newline character and strip any extra whitespace from each line\n",
    "    lines = [line.strip().replace('\\n', '') for line in lines]\n",
    "\n",
    "df = pd.DataFrame(lines, columns=['text'])\n",
    "\n",
    "# count the number of words in each line\n",
    "df['word_count'] = df['text'].apply(lambda x: len(x.split()))\n",
    "\n",
    "total_words = df['word_count'].sum()\n",
    "\n",
    "print(f\"Total number of words: {total_words}\")"
   ]
  },
  {
   "cell_type": "markdown",
   "metadata": {},
   "source": [
    "From this, I conclude that somehow pandas doesn't see the \\n"
   ]
  },
  {
   "cell_type": "code",
   "execution_count": 15,
   "metadata": {},
   "outputs": [
    {
     "name": "stdout",
     "output_type": "stream",
     "text": [
      "                                                   text  word_count\n",
      "0     Wednesday's order from the 6th U.S. Circuit Co...         182\n",
      "1     that thousands of people were travelling acros...         146\n",
      "2     13 state landmarks — including One World Trade...          94\n",
      "3     it's going to take a lot more than talk to put...         617\n",
      "4     We're in a situation where we have members say...          26\n",
      "...                                                 ...         ...\n",
      "4211  that while more government money is needed, th...         807\n",
      "4212  \"A dollar invested today, and making sure you ...         314\n",
      "4213  he had accepted the resignation of Bryce Phill...          78\n",
      "4214  she felt things were going well right up until...         543\n",
      "4215  the heaviest snow will be centred in the north...          43\n",
      "\n",
      "[4216 rows x 2 columns]\n"
     ]
    }
   ],
   "source": [
    "print(df)"
   ]
  },
  {
   "cell_type": "code",
   "execution_count": 18,
   "metadata": {},
   "outputs": [
    {
     "data": {
      "text/plain": [
       "'13 state landmarks — including One World Trade Center, Empire State Plaza and Niagara Falls — would be illuminated Monday evening in red, black and green\"Amidst the recent rise in bigotry, division and hate across this country, it is more important than ever that we remember Dr. Martin Luther King Jr.\\'s teachings on justice, peace, equality and loveMarching bands, dance teams, local politicians and activists made their way along a route that \"traces the steps\" of King during visits to Miami,\"the sacred right to vote\"\"one of the country\\'s oldest and largest\"\"I am the dream,\"'"
      ]
     },
     "execution_count": 18,
     "metadata": {},
     "output_type": "execute_result"
    }
   ],
   "source": [
    "df.iloc[2,0]"
   ]
  },
  {
   "cell_type": "markdown",
   "metadata": {},
   "source": [
    "So now I'll proceed to do this for the quotes vs. non-quotes in the dir"
   ]
  },
  {
   "cell_type": "code",
   "execution_count": 28,
   "metadata": {},
   "outputs": [],
   "source": [
    "directory = 'C:/Maite/MOD/projects/Monika_Bednarek/Evaluation_quotes/Data/CBC_output_corpus'"
   ]
  },
  {
   "cell_type": "code",
   "execution_count": 30,
   "metadata": {},
   "outputs": [
    {
     "data": {
      "text/plain": [
       "'C:\\\\Maite\\\\MOD\\\\projects\\\\Monika_Bednarek\\\\Evaluation_quotes\\\\Data\\\\CBC_output_corpus'"
      ]
     },
     "execution_count": 30,
     "metadata": {},
     "output_type": "execute_result"
    }
   ],
   "source": [
    "pwd"
   ]
  },
  {
   "cell_type": "code",
   "execution_count": 34,
   "metadata": {},
   "outputs": [
    {
     "name": "stdout",
     "output_type": "stream",
     "text": [
      "Total number of words in all 'quotes' related text files: 28188065\n"
     ]
    }
   ],
   "source": [
    "# Step 2: Get all text files in the directory that contain \"quote\" between underscore in their name\n",
    "quotes_files = [f for f in os.listdir(directory) if '_quote_' in f.lower() and f.endswith('.txt')]\n",
    "\n",
    "# Initialize a variable to store the total word count\n",
    "total_word_count = 0\n",
    "\n",
    "# Step 3: Process each file\n",
    "for file_name in quotes_files:\n",
    "    file_path = os.path.join(directory, file_name)\n",
    "    \n",
    "    # Read the text file into a list of lines\n",
    "    with open(file_path, 'r', encoding='utf-8') as file:\n",
    "        lines = file.readlines()\n",
    "    \n",
    "    # Convert the lines into a DataFrame\n",
    "    df = pd.DataFrame(lines, columns=['text'])\n",
    "    \n",
    "    # Count the number of words in each line and sum them\n",
    "    df['word_count'] = df['text'].apply(lambda x: len(x.split()))\n",
    "    total_word_count += df['word_count'].sum()\n",
    "\n",
    "# Step 4: Print the total word count\n",
    "print(f\"Total number of words in all 'quotes' related text files: {total_word_count}\")\n"
   ]
  },
  {
   "cell_type": "markdown",
   "metadata": {},
   "source": [
    "This is actually the total number of everyting, as I cannot tell _quote_ from _non_quote"
   ]
  },
  {
   "cell_type": "code",
   "execution_count": null,
   "metadata": {},
   "outputs": [],
   "source": []
  },
  {
   "cell_type": "code",
   "execution_count": 35,
   "metadata": {},
   "outputs": [
    {
     "name": "stdout",
     "output_type": "stream",
     "text": [
      "Total number of words in all 'non quotes' related text files: 17314398\n"
     ]
    }
   ],
   "source": [
    "# Step 2: Get all text files in the directory that contain \"quote\" between underscore in their name\n",
    "quotes_files = [f for f in os.listdir(directory) if '_non_quote_' in f.lower() and f.endswith('.txt')]\n",
    "\n",
    "# Initialize a variable to store the total word count\n",
    "total_word_count = 0\n",
    "\n",
    "# Step 3: Process each file\n",
    "for file_name in quotes_files:\n",
    "    file_path = os.path.join(directory, file_name)\n",
    "    \n",
    "    # Read the text file into a list of lines\n",
    "    with open(file_path, 'r', encoding='utf-8') as file:\n",
    "        lines = file.readlines()\n",
    "    \n",
    "    # Convert the lines into a DataFrame\n",
    "    df = pd.DataFrame(lines, columns=['text'])\n",
    "    \n",
    "    # Count the number of words in each line and sum them\n",
    "    df['word_count'] = df['text'].apply(lambda x: len(x.split()))\n",
    "    total_word_count += df['word_count'].sum()\n",
    "\n",
    "# Step 4: Print the total word count\n",
    "print(f\"Total number of words in all 'non quotes' related text files: {total_word_count}\")\n"
   ]
  },
  {
   "cell_type": "code",
   "execution_count": null,
   "metadata": {},
   "outputs": [],
   "source": []
  },
  {
   "cell_type": "markdown",
   "metadata": {},
   "source": [
    "## Now, I'm counting the original corpus words, because the quotes vs. non-quotes excludes verbs and speakers"
   ]
  },
  {
   "cell_type": "code",
   "execution_count": 36,
   "metadata": {},
   "outputs": [],
   "source": [
    "directory = 'C:/Maite/MOD/projects/Monika_Bednarek/Evaluation_quotes/Data/CBC_input_correct_encoding'"
   ]
  },
  {
   "cell_type": "code",
   "execution_count": 37,
   "metadata": {},
   "outputs": [
    {
     "name": "stdout",
     "output_type": "stream",
     "text": [
      "Total number of words in column 'body' across all xlsx files: 26772464\n"
     ]
    }
   ],
   "source": [
    "xlsx_files = [f for f in os.listdir(directory) if f.endswith('.xlsx')]\n",
    "\n",
    "column_name = 'body' \n",
    "\n",
    "total_word_count = 0\n",
    "\n",
    "for file_name in xlsx_files:\n",
    "    file_path = os.path.join(directory, file_name)\n",
    "    \n",
    "    # Read the Excel file into a pandas ExcelFile object to handle multiple sheets\n",
    "    xlsx_file = pd.ExcelFile(file_path)\n",
    "    \n",
    "    # Step 4: Process each sheet in the Excel file\n",
    "    for sheet_name in xlsx_file.sheet_names:\n",
    "        df = xlsx_file.parse(sheet_name)\n",
    "        \n",
    "        # Step 5: Check if the specified column exists in the sheet\n",
    "        if column_name in df.columns:\n",
    "            # Step 6: Count the number of words in the specified column (excluding NaN values)\n",
    "            df[column_name] = df[column_name].apply(lambda x: len(str(x).split()) if pd.notnull(x) else 0)\n",
    "            \n",
    "            # Add up the word counts in this column\n",
    "            total_word_count += df[column_name].sum()\n",
    "\n",
    "# Step 7: Print the total word count\n",
    "print(f\"Total number of words in column '{column_name}' across all xlsx files: {total_word_count}\")\n"
   ]
  },
  {
   "cell_type": "code",
   "execution_count": null,
   "metadata": {},
   "outputs": [],
   "source": []
  }
 ],
 "metadata": {
  "kernelspec": {
   "display_name": "Python 3",
   "language": "python",
   "name": "python3"
  },
  "language_info": {
   "codemirror_mode": {
    "name": "ipython",
    "version": 3
   },
   "file_extension": ".py",
   "mimetype": "text/x-python",
   "name": "python",
   "nbconvert_exporter": "python",
   "pygments_lexer": "ipython3",
   "version": "3.7.3"
  }
 },
 "nbformat": 4,
 "nbformat_minor": 2
}
